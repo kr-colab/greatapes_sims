{
 "cells": [
  {
   "cell_type": "code",
   "execution_count": 1,
   "metadata": {},
   "outputs": [
    {
     "name": "stderr",
     "output_type": "stream",
     "text": [
      "-- \u001b[1mAttaching packages\u001b[22m --------------------------------------- tidyverse 1.3.1 --\n",
      "\n",
      "\u001b[32mv\u001b[39m \u001b[34mggplot2\u001b[39m 3.3.3     \u001b[32mv\u001b[39m \u001b[34mpurrr  \u001b[39m 0.3.4\n",
      "\u001b[32mv\u001b[39m \u001b[34mtibble \u001b[39m 3.1.2     \u001b[32mv\u001b[39m \u001b[34mdplyr  \u001b[39m 1.0.6\n",
      "\u001b[32mv\u001b[39m \u001b[34mtidyr  \u001b[39m 1.1.3     \u001b[32mv\u001b[39m \u001b[34mstringr\u001b[39m 1.4.0\n",
      "\u001b[32mv\u001b[39m \u001b[34mreadr  \u001b[39m 1.4.0     \u001b[32mv\u001b[39m \u001b[34mforcats\u001b[39m 0.5.1\n",
      "\n",
      "-- \u001b[1mConflicts\u001b[22m ------------------------------------------ tidyverse_conflicts() --\n",
      "\u001b[31mx\u001b[39m \u001b[34mdplyr\u001b[39m::\u001b[32mfilter()\u001b[39m masks \u001b[34mstats\u001b[39m::filter()\n",
      "\u001b[31mx\u001b[39m \u001b[34mdplyr\u001b[39m::\u001b[32mlag()\u001b[39m    masks \u001b[34mstats\u001b[39m::lag()\n",
      "\n"
     ]
    }
   ],
   "source": [
    "library(tidyverse)\n",
    "library(ggplot2)\n",
    "library(patchwork)\n",
    "source(\"helper.R\")"
   ]
  },
  {
   "cell_type": "code",
   "execution_count": 2,
   "metadata": {},
   "outputs": [],
   "source": [
    "sinfo_path = \"../../output/sims_info.tsv\"\n",
    "sinfoh_path = \"../../output/header_sims_info.tsv\""
   ]
  },
  {
   "cell_type": "code",
   "execution_count": 3,
   "metadata": {},
   "outputs": [],
   "source": [
    "win_size = 1000000\n",
    "win_len = -1\n",
    "padding = 0\n",
    "rescf = 1\n",
    "prop_acc=0.4"
   ]
  },
  {
   "cell_type": "code",
   "execution_count": 4,
   "metadata": {},
   "outputs": [],
   "source": [
    "fig_prefix = \"cor-pidxy-dT\""
   ]
  },
  {
   "cell_type": "code",
   "execution_count": 5,
   "metadata": {},
   "outputs": [],
   "source": [
    "sims_path = \"../../output/sims_results/\"\n",
    "varmut_sims_path = \"../../output/varmut/sims_results/\"\n",
    "data_path = paste0(\"../../output/greatapes-diversity-data/\",fig_prefix,\"_win-size_\",as.integer(win_size),\"_merged-mask_True_prop-acc_\",prop_acc, \".rds\")"
   ]
  },
  {
   "cell_type": "code",
   "execution_count": 6,
   "metadata": {},
   "outputs": [],
   "source": [
    "# loading sims info table\n",
    "sinfo = read.table(sinfo_path, sep=\"\\t\")\n",
    "h = read.table(sinfoh_path, sep=\"\\t\", header=TRUE)\n",
    "cnames = colnames(h)\n",
    "if (length(sinfo) == length(h)+1) {\n",
    "    cnames = c(cnames, \"poscoefdecayeps\")\n",
    "}\n",
    "colnames(sinfo) = cnames"
   ]
  },
  {
   "cell_type": "code",
   "execution_count": 7,
   "metadata": {},
   "outputs": [],
   "source": [
    "#diff_cols = c(\"delrate\",\"delcoef\",\"posrate\",\"poscoef\",\"mu\", \"rescf\", \"win_len\", \"padding\", \"chr\")\n",
    "diff_cols = c(\"delrate\",\"delcoef\",\"posrate\",\"poscoef\",\"mu\", \"poscoefdecayeps\", \"rescf\", \"win_len\", \"padding\", \"chr\")"
   ]
  },
  {
   "cell_type": "code",
   "execution_count": 8,
   "metadata": {},
   "outputs": [],
   "source": [
    "wsize_str = paste0(\"win-size_\",as.integer(win_size))"
   ]
  },
  {
   "cell_type": "code",
   "execution_count": 9,
   "metadata": {},
   "outputs": [],
   "source": [
    "sims_folders = paste0(sims_path,list.files(sims_path)[grep(wsize_str, list.files(sims_path))])"
   ]
  },
  {
   "cell_type": "code",
   "execution_count": 10,
   "metadata": {},
   "outputs": [],
   "source": [
    "varmut_sims_folders = paste0(varmut_sims_path,list.files(varmut_sims_path)[grep(wsize_str, list.files(varmut_sims_path))])"
   ]
  },
  {
   "cell_type": "code",
   "execution_count": 11,
   "metadata": {},
   "outputs": [],
   "source": [
    "sims_folders = c(sims_folders, varmut_sims_folders)"
   ]
  },
  {
   "cell_type": "code",
   "execution_count": 12,
   "metadata": {},
   "outputs": [
    {
     "name": "stdout",
     "output_type": "stream",
     "text": [
      "[1] \"entrei\"\n",
      "[1] \"entrei\"\n",
      "[1] \"entrei\"\n",
      "[1] \"entrei\"\n",
      "[1] \"entrei\"\n",
      "[1] \"entrei\"\n",
      "[1] \"entrei\"\n",
      "[1] \"entrei\"\n",
      "[1] \"entrei\"\n",
      "[1] \"entrei\"\n"
     ]
    }
   ],
   "source": [
    "simresults = as.data.frame(do.call(rbind, lapply(X = sims_folders, function(x) unlist(meta_from_fname(x,prop=prop_acc,suffix=\"$\")))), stringsAsFactors =FALSE)"
   ]
  },
  {
   "cell_type": "code",
   "execution_count": 13,
   "metadata": {},
   "outputs": [],
   "source": [
    "#sims_folders"
   ]
  },
  {
   "cell_type": "code",
   "execution_count": 14,
   "metadata": {},
   "outputs": [],
   "source": [
    "simresults$folderpath = sims_folders"
   ]
  },
  {
   "cell_type": "code",
   "execution_count": 15,
   "metadata": {},
   "outputs": [],
   "source": [
    "tmp = unique(sinfo[sinfo$sup_rand_id %in% simresults$sup_rand_id,c(diff_cols,\"sup_rand_id\")])"
   ]
  },
  {
   "cell_type": "code",
   "execution_count": 16,
   "metadata": {},
   "outputs": [
    {
     "data": {
      "text/html": [
       "<table class=\"dataframe\">\n",
       "<caption>A data.frame: 19 × 1</caption>\n",
       "<thead>\n",
       "\t<tr><th></th><th scope=col>rand_id</th></tr>\n",
       "\t<tr><th></th><th scope=col>&lt;fct&gt;</th></tr>\n",
       "</thead>\n",
       "<tbody>\n",
       "\t<tr><th scope=row>131</th><td>6DRX6RL6BNZCHP8</td></tr>\n",
       "\t<tr><th scope=row>2558</th><td>6DRX6RL6BNZCHP8</td></tr>\n",
       "\t<tr><th scope=row>3323</th><td>6DRX6RL6BNZCHP8</td></tr>\n",
       "\t<tr><th scope=row>5056</th><td>6DRX6RL6BNZCHP8</td></tr>\n",
       "\t<tr><th scope=row>5117</th><td>6DRX6RL6BNZCHP8</td></tr>\n",
       "\t<tr><th scope=row>5649</th><td>6DRX6RL6BNZCHP8</td></tr>\n",
       "\t<tr><th scope=row>5812</th><td>6DRX6RL6BNZCHP8</td></tr>\n",
       "\t<tr><th scope=row>6261</th><td>6DRX6RL6BNZCHP8</td></tr>\n",
       "\t<tr><th scope=row>7464</th><td>6DRX6RL6BNZCHP8</td></tr>\n",
       "\t<tr><th scope=row>8288</th><td>6DRX6RL6BNZCHP8</td></tr>\n",
       "\t<tr><th scope=row>9243</th><td>6DRX6RL6BNZCHP8</td></tr>\n",
       "\t<tr><th scope=row>10571</th><td>6DRX6RL6BNZCHP8</td></tr>\n",
       "\t<tr><th scope=row>11821</th><td>6DRX6RL6BNZCHP8</td></tr>\n",
       "\t<tr><th scope=row>14372</th><td>6DRX6RL6BNZCHP8</td></tr>\n",
       "\t<tr><th scope=row>14887</th><td>6DRX6RL6BNZCHP8</td></tr>\n",
       "\t<tr><th scope=row>15028</th><td>6DRX6RL6BNZCHP8</td></tr>\n",
       "\t<tr><th scope=row>15712</th><td>6DRX6RL6BNZCHP8</td></tr>\n",
       "\t<tr><th scope=row>15753</th><td>6DRX6RL6BNZCHP8</td></tr>\n",
       "\t<tr><th scope=row>15838</th><td>6DRX6RL6BNZCHP8</td></tr>\n",
       "</tbody>\n",
       "</table>\n"
      ],
      "text/latex": [
       "A data.frame: 19 × 1\n",
       "\\begin{tabular}{r|l}\n",
       "  & rand\\_id\\\\\n",
       "  & <fct>\\\\\n",
       "\\hline\n",
       "\t131 & 6DRX6RL6BNZCHP8\\\\\n",
       "\t2558 & 6DRX6RL6BNZCHP8\\\\\n",
       "\t3323 & 6DRX6RL6BNZCHP8\\\\\n",
       "\t5056 & 6DRX6RL6BNZCHP8\\\\\n",
       "\t5117 & 6DRX6RL6BNZCHP8\\\\\n",
       "\t5649 & 6DRX6RL6BNZCHP8\\\\\n",
       "\t5812 & 6DRX6RL6BNZCHP8\\\\\n",
       "\t6261 & 6DRX6RL6BNZCHP8\\\\\n",
       "\t7464 & 6DRX6RL6BNZCHP8\\\\\n",
       "\t8288 & 6DRX6RL6BNZCHP8\\\\\n",
       "\t9243 & 6DRX6RL6BNZCHP8\\\\\n",
       "\t10571 & 6DRX6RL6BNZCHP8\\\\\n",
       "\t11821 & 6DRX6RL6BNZCHP8\\\\\n",
       "\t14372 & 6DRX6RL6BNZCHP8\\\\\n",
       "\t14887 & 6DRX6RL6BNZCHP8\\\\\n",
       "\t15028 & 6DRX6RL6BNZCHP8\\\\\n",
       "\t15712 & 6DRX6RL6BNZCHP8\\\\\n",
       "\t15753 & 6DRX6RL6BNZCHP8\\\\\n",
       "\t15838 & 6DRX6RL6BNZCHP8\\\\\n",
       "\\end{tabular}\n"
      ],
      "text/markdown": [
       "\n",
       "A data.frame: 19 × 1\n",
       "\n",
       "| <!--/--> | rand_id &lt;fct&gt; |\n",
       "|---|---|\n",
       "| 131 | 6DRX6RL6BNZCHP8 |\n",
       "| 2558 | 6DRX6RL6BNZCHP8 |\n",
       "| 3323 | 6DRX6RL6BNZCHP8 |\n",
       "| 5056 | 6DRX6RL6BNZCHP8 |\n",
       "| 5117 | 6DRX6RL6BNZCHP8 |\n",
       "| 5649 | 6DRX6RL6BNZCHP8 |\n",
       "| 5812 | 6DRX6RL6BNZCHP8 |\n",
       "| 6261 | 6DRX6RL6BNZCHP8 |\n",
       "| 7464 | 6DRX6RL6BNZCHP8 |\n",
       "| 8288 | 6DRX6RL6BNZCHP8 |\n",
       "| 9243 | 6DRX6RL6BNZCHP8 |\n",
       "| 10571 | 6DRX6RL6BNZCHP8 |\n",
       "| 11821 | 6DRX6RL6BNZCHP8 |\n",
       "| 14372 | 6DRX6RL6BNZCHP8 |\n",
       "| 14887 | 6DRX6RL6BNZCHP8 |\n",
       "| 15028 | 6DRX6RL6BNZCHP8 |\n",
       "| 15712 | 6DRX6RL6BNZCHP8 |\n",
       "| 15753 | 6DRX6RL6BNZCHP8 |\n",
       "| 15838 | 6DRX6RL6BNZCHP8 |\n",
       "\n"
      ],
      "text/plain": [
       "      rand_id        \n",
       "131   6DRX6RL6BNZCHP8\n",
       "2558  6DRX6RL6BNZCHP8\n",
       "3323  6DRX6RL6BNZCHP8\n",
       "5056  6DRX6RL6BNZCHP8\n",
       "5117  6DRX6RL6BNZCHP8\n",
       "5649  6DRX6RL6BNZCHP8\n",
       "5812  6DRX6RL6BNZCHP8\n",
       "6261  6DRX6RL6BNZCHP8\n",
       "7464  6DRX6RL6BNZCHP8\n",
       "8288  6DRX6RL6BNZCHP8\n",
       "9243  6DRX6RL6BNZCHP8\n",
       "10571 6DRX6RL6BNZCHP8\n",
       "11821 6DRX6RL6BNZCHP8\n",
       "14372 6DRX6RL6BNZCHP8\n",
       "14887 6DRX6RL6BNZCHP8\n",
       "15028 6DRX6RL6BNZCHP8\n",
       "15712 6DRX6RL6BNZCHP8\n",
       "15753 6DRX6RL6BNZCHP8\n",
       "15838 6DRX6RL6BNZCHP8"
      ]
     },
     "metadata": {},
     "output_type": "display_data"
    }
   ],
   "source": [
    "sinfo[sinfo$sup_rand_id==\"O814WK8MN3UOF27JIR\",][\"rand_id\"]"
   ]
  },
  {
   "cell_type": "code",
   "execution_count": 17,
   "metadata": {},
   "outputs": [
    {
     "name": "stderr",
     "output_type": "stream",
     "text": [
      "Joining, by = \"sup_rand_id\"\n",
      "\n"
     ]
    }
   ],
   "source": [
    "simresults = left_join(simresults, tmp)"
   ]
  },
  {
   "cell_type": "code",
   "execution_count": 18,
   "metadata": {},
   "outputs": [],
   "source": [
    "simresults = simresults[simresults$win_len==win_len & simresults$padding == padding & simresults$rescf==1 & as.numeric(simresults$win_size) == win_size,]"
   ]
  },
  {
   "cell_type": "code",
   "execution_count": 19,
   "metadata": {},
   "outputs": [
    {
     "data": {
      "text/html": [
       "1e+06"
      ],
      "text/latex": [
       "1e+06"
      ],
      "text/markdown": [
       "1e+06"
      ],
      "text/plain": [
       "[1] 1e+06"
      ]
     },
     "metadata": {},
     "output_type": "display_data"
    }
   ],
   "source": [
    "win_size"
   ]
  },
  {
   "cell_type": "code",
   "execution_count": 20,
   "metadata": {},
   "outputs": [],
   "source": [
    "simresults[is.na(simresults$poscoefdecayeps),]$poscoefdecayeps = 0"
   ]
  },
  {
   "cell_type": "code",
   "execution_count": 21,
   "metadata": {},
   "outputs": [],
   "source": [
    "simresults$selregime = ifelse(simresults$posrate<1e-16,ifelse(simresults$delrate<1e-16, ifelse(simresults$sigma==0, \"neutral\", \"varmut\"), \"del_only\"), ifelse(simresults$delrate<1e-16, \"pos_only\", \"both\"))"
   ]
  },
  {
   "cell_type": "code",
   "execution_count": 22,
   "metadata": {},
   "outputs": [],
   "source": [
    "simresults$seldesc = apply(simresults,1, function(x) paste(\"mu-D=\", x[\"delrate\"], \" mu-B=\", x[\"posrate\"], ifelse(x['selregime'] %in% c(\"del_only\", \"both\"), paste0(\"\\ncoef-D=\", x[\"delcoef\"]), \"\"), ifelse(x['selregime'] %in% c(\"both\", \"pos_only\"), paste0(\"\\ncoef-B=\", x[\"poscoef\"], \" decay-B=\", x[\"poscoefdecayeps\"]), \"\"), ifelse(x[\"selregime\"]==\"varmut\", paste0(\" mut-sd=\", x['sigma']),\"\"), sep=\"\"))"
   ]
  },
  {
   "cell_type": "code",
   "execution_count": 23,
   "metadata": {},
   "outputs": [],
   "source": [
    "#simresults"
   ]
  },
  {
   "cell_type": "code",
   "execution_count": 24,
   "metadata": {},
   "outputs": [],
   "source": [
    "simresults$sigma = as.numeric(simresults$sigma)"
   ]
  },
  {
   "cell_type": "code",
   "execution_count": 25,
   "metadata": {},
   "outputs": [],
   "source": [
    "tmp = simresults\n",
    "ordered = c(\"neutral\", \"del_only\", \"pos_only\", \"both\", \"varmut\")\n",
    "classes = unique(tmp$selregime)\n",
    "tmp$selregime = factor(tmp$selregime, levels=classes[order(match(classes,ordered))])\n",
    "tmp = tmp[\n",
    "  with(tmp, order(selregime,posrate,-poscoefdecayeps,delrate,poscoef,delcoef,sigma)),\n",
    "]"
   ]
  },
  {
   "cell_type": "code",
   "execution_count": 26,
   "metadata": {},
   "outputs": [
    {
     "data": {
      "text/html": [
       "<style>\n",
       ".list-inline {list-style: none; margin:0; padding: 0}\n",
       ".list-inline>li {display: inline-block}\n",
       ".list-inline>li:not(:last-child)::after {content: \"\\00b7\"; padding: 0 .5ex}\n",
       "</style>\n",
       "<ol class=list-inline><li>1</li><li>2</li><li>3</li><li>4</li><li>5</li><li>6</li><li>7</li><li>8</li><li>9</li><li>10</li><li>11</li><li>12</li><li>13</li><li>14</li><li>15</li><li>16</li><li>17</li><li>18</li><li>19</li><li>20</li><li>21</li><li>22</li><li>23</li><li>24</li><li>25</li><li>26</li><li>27</li><li>28</li><li>29</li><li>30</li><li>31</li><li>32</li><li>33</li><li>34</li><li>35</li></ol>\n"
      ],
      "text/latex": [
       "\\begin{enumerate*}\n",
       "\\item 1\n",
       "\\item 2\n",
       "\\item 3\n",
       "\\item 4\n",
       "\\item 5\n",
       "\\item 6\n",
       "\\item 7\n",
       "\\item 8\n",
       "\\item 9\n",
       "\\item 10\n",
       "\\item 11\n",
       "\\item 12\n",
       "\\item 13\n",
       "\\item 14\n",
       "\\item 15\n",
       "\\item 16\n",
       "\\item 17\n",
       "\\item 18\n",
       "\\item 19\n",
       "\\item 20\n",
       "\\item 21\n",
       "\\item 22\n",
       "\\item 23\n",
       "\\item 24\n",
       "\\item 25\n",
       "\\item 26\n",
       "\\item 27\n",
       "\\item 28\n",
       "\\item 29\n",
       "\\item 30\n",
       "\\item 31\n",
       "\\item 32\n",
       "\\item 33\n",
       "\\item 34\n",
       "\\item 35\n",
       "\\end{enumerate*}\n"
      ],
      "text/markdown": [
       "1. 1\n",
       "2. 2\n",
       "3. 3\n",
       "4. 4\n",
       "5. 5\n",
       "6. 6\n",
       "7. 7\n",
       "8. 8\n",
       "9. 9\n",
       "10. 10\n",
       "11. 11\n",
       "12. 12\n",
       "13. 13\n",
       "14. 14\n",
       "15. 15\n",
       "16. 16\n",
       "17. 17\n",
       "18. 18\n",
       "19. 19\n",
       "20. 20\n",
       "21. 21\n",
       "22. 22\n",
       "23. 23\n",
       "24. 24\n",
       "25. 25\n",
       "26. 26\n",
       "27. 27\n",
       "28. 28\n",
       "29. 29\n",
       "30. 30\n",
       "31. 31\n",
       "32. 32\n",
       "33. 33\n",
       "34. 34\n",
       "35. 35\n",
       "\n",
       "\n"
      ],
      "text/plain": [
       " [1]  1  2  3  4  5  6  7  8  9 10 11 12 13 14 15 16 17 18 19 20 21 22 23 24 25\n",
       "[26] 26 27 28 29 30 31 32 33 34 35"
      ]
     },
     "metadata": {},
     "output_type": "display_data"
    }
   ],
   "source": [
    "order(tmp$selregime)"
   ]
  },
  {
   "cell_type": "code",
   "execution_count": 27,
   "metadata": {},
   "outputs": [],
   "source": [
    "rownames(tmp) <- NULL\n",
    "plots = apply(tmp,1,\n",
    "              function(x) readRDS(paste0(x[\"folderpath\"],\n",
    "                                         \"/\",fig_prefix, \"_\",x[\"desc\"],\".rds\"))+ggtitle(x[\"seldesc\"]))\n",
    "#plots = c(readRDS(data_path)+ggtitle(\"data\"), plots)"
   ]
  },
  {
   "cell_type": "code",
   "execution_count": 28,
   "metadata": {},
   "outputs": [],
   "source": [
    "plots=c(list(readRDS(data_path)+ggtitle(\"data\")), plots)"
   ]
  },
  {
   "cell_type": "code",
   "execution_count": 29,
   "metadata": {},
   "outputs": [],
   "source": [
    "tab=table(tmp$selregime)"
   ]
  },
  {
   "cell_type": "code",
   "execution_count": 30,
   "metadata": {},
   "outputs": [],
   "source": [
    "tab = c(\"data\"=1, tab)"
   ]
  },
  {
   "cell_type": "code",
   "execution_count": 31,
   "metadata": {},
   "outputs": [
    {
     "data": {
      "text/html": [
       "<style>\n",
       ".dl-inline {width: auto; margin:0; padding: 0}\n",
       ".dl-inline>dt, .dl-inline>dd {float: none; width: auto; display: inline-block}\n",
       ".dl-inline>dt::after {content: \":\\0020\"; padding-right: .5ex}\n",
       ".dl-inline>dt:not(:first-of-type) {padding-left: .5ex}\n",
       "</style><dl class=dl-inline><dt>data</dt><dd>1</dd><dt>neutral</dt><dd>1</dd><dt>del_only</dt><dd>6</dd><dt>pos_only</dt><dd>2</dd><dt>both</dt><dd>16</dd><dt>varmut</dt><dd>10</dd></dl>\n"
      ],
      "text/latex": [
       "\\begin{description*}\n",
       "\\item[data] 1\n",
       "\\item[neutral] 1\n",
       "\\item[del\\textbackslash{}\\_only] 6\n",
       "\\item[pos\\textbackslash{}\\_only] 2\n",
       "\\item[both] 16\n",
       "\\item[varmut] 10\n",
       "\\end{description*}\n"
      ],
      "text/markdown": [
       "data\n",
       ":   1neutral\n",
       ":   1del_only\n",
       ":   6pos_only\n",
       ":   2both\n",
       ":   16varmut\n",
       ":   10\n",
       "\n"
      ],
      "text/plain": [
       "    data  neutral del_only pos_only     both   varmut \n",
       "       1        1        6        2       16       10 "
      ]
     },
     "metadata": {},
     "output_type": "display_data"
    }
   ],
   "source": [
    "tab"
   ]
  },
  {
   "cell_type": "code",
   "execution_count": 32,
   "metadata": {},
   "outputs": [],
   "source": [
    "areas = list()\n",
    "row = 1\n",
    "for (regime in names(tab)) {\n",
    "    col = 1\n",
    "    for(i in 1:tab[regime]) {\n",
    "        areas = c(areas, list(area(row,col)))\n",
    "        col = col + 1\n",
    "    }\n",
    "    row = row + 1\n",
    "}"
   ]
  },
  {
   "cell_type": "code",
   "execution_count": 33,
   "metadata": {},
   "outputs": [],
   "source": [
    "areas = (do.call(c, areas))"
   ]
  },
  {
   "cell_type": "code",
   "execution_count": 34,
   "metadata": {},
   "outputs": [],
   "source": [
    "#design=\"\"\n",
    "#for (regime in names(tab)) {\n",
    "#    if (design != \"\") design = paste0(design,\"\\n\")\n",
    "#    num_cols = 1:tab[regime]\n",
    "#    num_blanks = max(tab)-tab[regime]\n",
    "#    if (regime == \"data\") {\n",
    "#        indexes = c(1)\n",
    "#    } else {\n",
    "#        indexes = 1+as.numeric(rownames(tmp[tmp$selregime==regime,]))        \n",
    "#    }\n",
    "#    print(LETTERS[indexes])\n",
    "#    print(rep(\"#\", num_blanks))\n",
    "#    add = paste0(paste0(LETTERS[indexes],collapse=\"\"), paste0(rep(\"#\", num_blanks),collapse=\"\"), collapse=\"\")\n",
    "#    print(design)\n",
    "#    print(add)\n",
    "#    design = paste0(design,add)\n",
    "#    print(design)\n",
    "#}"
   ]
  },
  {
   "cell_type": "code",
   "execution_count": 35,
   "metadata": {},
   "outputs": [
    {
     "data": {
      "text/html": [
       "<style>\n",
       ".list-inline {list-style: none; margin:0; padding: 0}\n",
       ".list-inline>li {display: inline-block}\n",
       ".list-inline>li:not(:last-child)::after {content: \"\\00b7\"; padding: 0 .5ex}\n",
       "</style>\n",
       "<ol class=list-inline><li>neutral</li><li>del_only</li><li>del_only</li><li>del_only</li><li>del_only</li><li>del_only</li><li>del_only</li><li>pos_only</li><li>pos_only</li><li>both</li><li>both</li><li>both</li><li>both</li><li>both</li><li>both</li><li>both</li><li>both</li><li>both</li><li>both</li><li>both</li><li>both</li><li>both</li><li>both</li><li>both</li><li>both</li><li>varmut</li><li>varmut</li><li>varmut</li><li>varmut</li><li>varmut</li><li>varmut</li><li>varmut</li><li>varmut</li><li>varmut</li><li>varmut</li></ol>\n",
       "\n",
       "<details>\n",
       "\t<summary style=display:list-item;cursor:pointer>\n",
       "\t\t<strong>Levels</strong>:\n",
       "\t</summary>\n",
       "\t<style>\n",
       "\t.list-inline {list-style: none; margin:0; padding: 0}\n",
       "\t.list-inline>li {display: inline-block}\n",
       "\t.list-inline>li:not(:last-child)::after {content: \"\\00b7\"; padding: 0 .5ex}\n",
       "\t</style>\n",
       "\t<ol class=list-inline><li>'neutral'</li><li>'del_only'</li><li>'pos_only'</li><li>'both'</li><li>'varmut'</li></ol>\n",
       "</details>"
      ],
      "text/latex": [
       "\\begin{enumerate*}\n",
       "\\item neutral\n",
       "\\item del\\_only\n",
       "\\item del\\_only\n",
       "\\item del\\_only\n",
       "\\item del\\_only\n",
       "\\item del\\_only\n",
       "\\item del\\_only\n",
       "\\item pos\\_only\n",
       "\\item pos\\_only\n",
       "\\item both\n",
       "\\item both\n",
       "\\item both\n",
       "\\item both\n",
       "\\item both\n",
       "\\item both\n",
       "\\item both\n",
       "\\item both\n",
       "\\item both\n",
       "\\item both\n",
       "\\item both\n",
       "\\item both\n",
       "\\item both\n",
       "\\item both\n",
       "\\item both\n",
       "\\item both\n",
       "\\item varmut\n",
       "\\item varmut\n",
       "\\item varmut\n",
       "\\item varmut\n",
       "\\item varmut\n",
       "\\item varmut\n",
       "\\item varmut\n",
       "\\item varmut\n",
       "\\item varmut\n",
       "\\item varmut\n",
       "\\end{enumerate*}\n",
       "\n",
       "\\emph{Levels}: \\begin{enumerate*}\n",
       "\\item 'neutral'\n",
       "\\item 'del\\_only'\n",
       "\\item 'pos\\_only'\n",
       "\\item 'both'\n",
       "\\item 'varmut'\n",
       "\\end{enumerate*}\n"
      ],
      "text/markdown": [
       "1. neutral\n",
       "2. del_only\n",
       "3. del_only\n",
       "4. del_only\n",
       "5. del_only\n",
       "6. del_only\n",
       "7. del_only\n",
       "8. pos_only\n",
       "9. pos_only\n",
       "10. both\n",
       "11. both\n",
       "12. both\n",
       "13. both\n",
       "14. both\n",
       "15. both\n",
       "16. both\n",
       "17. both\n",
       "18. both\n",
       "19. both\n",
       "20. both\n",
       "21. both\n",
       "22. both\n",
       "23. both\n",
       "24. both\n",
       "25. both\n",
       "26. varmut\n",
       "27. varmut\n",
       "28. varmut\n",
       "29. varmut\n",
       "30. varmut\n",
       "31. varmut\n",
       "32. varmut\n",
       "33. varmut\n",
       "34. varmut\n",
       "35. varmut\n",
       "\n",
       "\n",
       "\n",
       "**Levels**: 1. 'neutral'\n",
       "2. 'del_only'\n",
       "3. 'pos_only'\n",
       "4. 'both'\n",
       "5. 'varmut'\n",
       "\n",
       "\n"
      ],
      "text/plain": [
       " [1] neutral  del_only del_only del_only del_only del_only del_only pos_only\n",
       " [9] pos_only both     both     both     both     both     both     both    \n",
       "[17] both     both     both     both     both     both     both     both    \n",
       "[25] both     varmut   varmut   varmut   varmut   varmut   varmut   varmut  \n",
       "[33] varmut   varmut   varmut  \n",
       "Levels: neutral del_only pos_only both varmut"
      ]
     },
     "metadata": {},
     "output_type": "display_data"
    }
   ],
   "source": [
    "tmp$selregime"
   ]
  },
  {
   "cell_type": "code",
   "execution_count": 36,
   "metadata": {},
   "outputs": [],
   "source": [
    "panel_plot = wrap_plots(plots, nrow=length(classes), design=areas, guides=\"collect\")"
   ]
  },
  {
   "cell_type": "code",
   "execution_count": 37,
   "metadata": {},
   "outputs": [],
   "source": [
    "wstr = paste0('win-size_',as.integer(win_size))\n",
    "plots_folder_path = paste0(\"../../output/data_and_sims/\", wstr,\"/\", fig_prefix)\n",
    "\n",
    "dname = paste0(plots_folder_path)\n",
    "if(! dir.exists(dname))\n",
    "        dir.create(dname, recursive=TRUE)\n"
   ]
  },
  {
   "cell_type": "code",
   "execution_count": 39,
   "metadata": {},
   "outputs": [
    {
     "name": "stderr",
     "output_type": "stream",
     "text": [
      "Warning message:\n",
      "\"Removed 283 rows containing missing values (geom_point).\"\n",
      "Warning message:\n",
      "\"Removed 294 rows containing missing values (geom_point).\"\n",
      "Warning message:\n",
      "\"Removed 159 rows containing missing values (geom_point).\"\n",
      "Warning message:\n",
      "\"Removed 88 rows containing missing values (geom_point).\"\n",
      "Warning message:\n",
      "\"Removed 80 rows containing missing values (geom_point).\"\n",
      "Warning message:\n",
      "\"Removed 1 rows containing missing values (geom_point).\"\n",
      "Warning message:\n",
      "\"Removed 148 rows containing missing values (geom_point).\"\n",
      "Warning message:\n",
      "\"Removed 1 rows containing missing values (geom_point).\"\n",
      "Warning message:\n",
      "\"Removed 110 rows containing missing values (geom_point).\"\n",
      "Warning message:\n",
      "\"Removed 127 rows containing missing values (geom_point).\"\n",
      "Warning message:\n",
      "\"Removed 39 rows containing missing values (geom_point).\"\n",
      "Warning message:\n",
      "\"Removed 113 rows containing missing values (geom_point).\"\n",
      "Warning message:\n",
      "\"Removed 118 rows containing missing values (geom_point).\"\n",
      "Warning message:\n",
      "\"Removed 55 rows containing missing values (geom_point).\"\n",
      "Warning message:\n",
      "\"Removed 31 rows containing missing values (geom_point).\"\n",
      "Warning message:\n",
      "\"Removed 3 rows containing missing values (geom_point).\"\n"
     ]
    }
   ],
   "source": [
    "ggsave(filename=paste0(plots_folder_path,\"/\",\"panel_sims_and_data_win-size_.pdf\"), plot=panel_plot, width=100, height=25, scale=1.75, units=\"cm\", limitsize=FALSE)"
   ]
  },
  {
   "cell_type": "code",
   "execution_count": null,
   "metadata": {},
   "outputs": [],
   "source": [
    "tmp"
   ]
  },
  {
   "cell_type": "code",
   "execution_count": 40,
   "metadata": {},
   "outputs": [],
   "source": [
    "fig_prefix = \"subset-chr12-landscapes\"\n",
    "plots_folder_path = paste0(\"../../output/data_and_sims/\", wstr,\"/\", fig_prefix)\n",
    "\n",
    "dname = paste0(plots_folder_path)\n",
    "if(! dir.exists(dname))\n",
    "        dir.create(dname, recursive=TRUE)"
   ]
  },
  {
   "cell_type": "code",
   "execution_count": 41,
   "metadata": {},
   "outputs": [],
   "source": [
    "data_path2 = paste0(\"../../output/greatapes-diversity-data/figs/\",fig_prefix,\"_win-size_\",as.integer(win_size),\"_merged-mask_True_prop-acc_\",prop_acc, \".pdf\")"
   ]
  },
  {
   "cell_type": "code",
   "execution_count": 42,
   "metadata": {},
   "outputs": [],
   "source": [
    "plots_paths = apply(tmp,1,\n",
    "              function(x) paste0(x[\"folderpath\"],\n",
    "                                         \"/figs/\",fig_prefix,\"_\",x[\"desc\"],\".pdf\"))\n",
    "tmp$newfname = gsub(\" \", \"_\", tmp[,\"seldesc\"])\n",
    "tmp$newfname = gsub(\"\\n\", \"_\", tmp[,\"newfname\"])\n",
    "\n",
    "new_paths = apply(tmp,1,\n",
    "                 function(x) paste0(plots_folder_path,\"/\",x[\"selregime\"],\"_\", x['newfname'],\".pdf\"))"
   ]
  },
  {
   "cell_type": "code",
   "execution_count": 43,
   "metadata": {},
   "outputs": [
    {
     "data": {
      "text/html": [
       "'../../output/data_and_sims/win-size_1000000/subset-chr12-landscapes'"
      ],
      "text/latex": [
       "'../../output/data\\_and\\_sims/win-size\\_1000000/subset-chr12-landscapes'"
      ],
      "text/markdown": [
       "'../../output/data_and_sims/win-size_1000000/subset-chr12-landscapes'"
      ],
      "text/plain": [
       "[1] \"../../output/data_and_sims/win-size_1000000/subset-chr12-landscapes\""
      ]
     },
     "metadata": {},
     "output_type": "display_data"
    }
   ],
   "source": [
    "plots_folder_path"
   ]
  },
  {
   "cell_type": "code",
   "execution_count": 44,
   "metadata": {},
   "outputs": [
    {
     "data": {
      "text/html": [
       "<style>\n",
       ".list-inline {list-style: none; margin:0; padding: 0}\n",
       ".list-inline>li {display: inline-block}\n",
       ".list-inline>li:not(:last-child)::after {content: \"\\00b7\"; padding: 0 .5ex}\n",
       "</style>\n",
       "<ol class=list-inline><li>TRUE</li><li>TRUE</li><li>TRUE</li><li>TRUE</li><li>TRUE</li><li>TRUE</li><li>TRUE</li><li>TRUE</li><li>TRUE</li><li>TRUE</li><li>TRUE</li><li>TRUE</li><li>TRUE</li><li>TRUE</li><li>TRUE</li><li>TRUE</li><li>TRUE</li><li>TRUE</li><li>TRUE</li><li>TRUE</li><li>TRUE</li><li>TRUE</li><li>TRUE</li><li>TRUE</li><li>TRUE</li><li>TRUE</li><li>TRUE</li><li>TRUE</li><li>TRUE</li><li>TRUE</li><li>TRUE</li><li>TRUE</li><li>TRUE</li><li>TRUE</li><li>TRUE</li></ol>\n"
      ],
      "text/latex": [
       "\\begin{enumerate*}\n",
       "\\item TRUE\n",
       "\\item TRUE\n",
       "\\item TRUE\n",
       "\\item TRUE\n",
       "\\item TRUE\n",
       "\\item TRUE\n",
       "\\item TRUE\n",
       "\\item TRUE\n",
       "\\item TRUE\n",
       "\\item TRUE\n",
       "\\item TRUE\n",
       "\\item TRUE\n",
       "\\item TRUE\n",
       "\\item TRUE\n",
       "\\item TRUE\n",
       "\\item TRUE\n",
       "\\item TRUE\n",
       "\\item TRUE\n",
       "\\item TRUE\n",
       "\\item TRUE\n",
       "\\item TRUE\n",
       "\\item TRUE\n",
       "\\item TRUE\n",
       "\\item TRUE\n",
       "\\item TRUE\n",
       "\\item TRUE\n",
       "\\item TRUE\n",
       "\\item TRUE\n",
       "\\item TRUE\n",
       "\\item TRUE\n",
       "\\item TRUE\n",
       "\\item TRUE\n",
       "\\item TRUE\n",
       "\\item TRUE\n",
       "\\item TRUE\n",
       "\\end{enumerate*}\n"
      ],
      "text/markdown": [
       "1. TRUE\n",
       "2. TRUE\n",
       "3. TRUE\n",
       "4. TRUE\n",
       "5. TRUE\n",
       "6. TRUE\n",
       "7. TRUE\n",
       "8. TRUE\n",
       "9. TRUE\n",
       "10. TRUE\n",
       "11. TRUE\n",
       "12. TRUE\n",
       "13. TRUE\n",
       "14. TRUE\n",
       "15. TRUE\n",
       "16. TRUE\n",
       "17. TRUE\n",
       "18. TRUE\n",
       "19. TRUE\n",
       "20. TRUE\n",
       "21. TRUE\n",
       "22. TRUE\n",
       "23. TRUE\n",
       "24. TRUE\n",
       "25. TRUE\n",
       "26. TRUE\n",
       "27. TRUE\n",
       "28. TRUE\n",
       "29. TRUE\n",
       "30. TRUE\n",
       "31. TRUE\n",
       "32. TRUE\n",
       "33. TRUE\n",
       "34. TRUE\n",
       "35. TRUE\n",
       "\n",
       "\n"
      ],
      "text/plain": [
       " [1] TRUE TRUE TRUE TRUE TRUE TRUE TRUE TRUE TRUE TRUE TRUE TRUE TRUE TRUE TRUE\n",
       "[16] TRUE TRUE TRUE TRUE TRUE TRUE TRUE TRUE TRUE TRUE TRUE TRUE TRUE TRUE TRUE\n",
       "[31] TRUE TRUE TRUE TRUE TRUE"
      ]
     },
     "metadata": {},
     "output_type": "display_data"
    },
    {
     "data": {
      "text/html": [
       "TRUE"
      ],
      "text/latex": [
       "TRUE"
      ],
      "text/markdown": [
       "TRUE"
      ],
      "text/plain": [
       "[1] TRUE"
      ]
     },
     "metadata": {},
     "output_type": "display_data"
    }
   ],
   "source": [
    "file.copy(plots_paths, new_paths)\n",
    "file.copy(data_path2, paste0(plots_folder_path,\"/data.pdf\"))"
   ]
  },
  {
   "cell_type": "code",
   "execution_count": 45,
   "metadata": {},
   "outputs": [
    {
     "data": {
      "text/html": [
       "<style>\n",
       ".list-inline {list-style: none; margin:0; padding: 0}\n",
       ".list-inline>li {display: inline-block}\n",
       ".list-inline>li:not(:last-child)::after {content: \"\\00b7\"; padding: 0 .5ex}\n",
       "</style>\n",
       "<ol class=list-inline><li>'../../output/sims_results/sup-rand-id_8MF0I020MWGI6N41PH_rep_0_win-size_1000000_sample-size_10/figs/subset-chr12-landscapes_sup-rand-id_8MF0I020MWGI6N41PH_rep_0_win-size_1000000_sample-size_10_prop-acc_0.4.pdf'</li><li>'../../output/sims_results/sup-rand-id_RNX4L54J663QN2SY5X_rep_0_win-size_1000000_sample-size_10/figs/subset-chr12-landscapes_sup-rand-id_RNX4L54J663QN2SY5X_rep_0_win-size_1000000_sample-size_10_prop-acc_0.4.pdf'</li><li>'../../output/sims_results/sup-rand-id_SIN0QA3J1CBIYBO7D7_rep_0_win-size_1000000_sample-size_10/figs/subset-chr12-landscapes_sup-rand-id_SIN0QA3J1CBIYBO7D7_rep_0_win-size_1000000_sample-size_10_prop-acc_0.4.pdf'</li><li>'../../output/sims_results/sup-rand-id_UTJG9R531BVSR6UA41_rep_0_win-size_1000000_sample-size_10/figs/subset-chr12-landscapes_sup-rand-id_UTJG9R531BVSR6UA41_rep_0_win-size_1000000_sample-size_10_prop-acc_0.4.pdf'</li><li>'../../output/sims_results/sup-rand-id_O814WK8MN3UOF27JIR_rep_0_win-size_1000000_sample-size_10/figs/subset-chr12-landscapes_sup-rand-id_O814WK8MN3UOF27JIR_rep_0_win-size_1000000_sample-size_10_prop-acc_0.4.pdf'</li><li>'../../output/sims_results/sup-rand-id_AA9GUSRHWOA341WGC4_rep_0_win-size_1000000_sample-size_10/figs/subset-chr12-landscapes_sup-rand-id_AA9GUSRHWOA341WGC4_rep_0_win-size_1000000_sample-size_10_prop-acc_0.4.pdf'</li><li>'../../output/sims_results/sup-rand-id_CR1UIIF8NRSPZ94LGF_rep_0_win-size_1000000_sample-size_10/figs/subset-chr12-landscapes_sup-rand-id_CR1UIIF8NRSPZ94LGF_rep_0_win-size_1000000_sample-size_10_prop-acc_0.4.pdf'</li><li>'../../output/sims_results/sup-rand-id_4GROMS6FHMNW5X9L72_rep_0_win-size_1000000_sample-size_10/figs/subset-chr12-landscapes_sup-rand-id_4GROMS6FHMNW5X9L72_rep_0_win-size_1000000_sample-size_10_prop-acc_0.4.pdf'</li><li>'../../output/sims_results/sup-rand-id_HC27BSIEQBYZJHHUQV_rep_0_win-size_1000000_sample-size_10/figs/subset-chr12-landscapes_sup-rand-id_HC27BSIEQBYZJHHUQV_rep_0_win-size_1000000_sample-size_10_prop-acc_0.4.pdf'</li><li>'../../output/sims_results/sup-rand-id_QHYU2J74DGPZWTJKGK_rep_0_win-size_1000000_sample-size_10/figs/subset-chr12-landscapes_sup-rand-id_QHYU2J74DGPZWTJKGK_rep_0_win-size_1000000_sample-size_10_prop-acc_0.4.pdf'</li><li>'../../output/sims_results/sup-rand-id_9WZ486SOY2Q604EOMM_rep_0_win-size_1000000_sample-size_10/figs/subset-chr12-landscapes_sup-rand-id_9WZ486SOY2Q604EOMM_rep_0_win-size_1000000_sample-size_10_prop-acc_0.4.pdf'</li><li>'../../output/sims_results/sup-rand-id_HVD283AEPBL88J4NUN_rep_0_win-size_1000000_sample-size_10/figs/subset-chr12-landscapes_sup-rand-id_HVD283AEPBL88J4NUN_rep_0_win-size_1000000_sample-size_10_prop-acc_0.4.pdf'</li><li>'../../output/sims_results/sup-rand-id_Z79XUJ3SLXIAOKPITD_rep_0_win-size_1000000_sample-size_10/figs/subset-chr12-landscapes_sup-rand-id_Z79XUJ3SLXIAOKPITD_rep_0_win-size_1000000_sample-size_10_prop-acc_0.4.pdf'</li><li>'../../output/sims_results/sup-rand-id_UWIHTH76U466661H5T_rep_0_win-size_1000000_sample-size_10/figs/subset-chr12-landscapes_sup-rand-id_UWIHTH76U466661H5T_rep_0_win-size_1000000_sample-size_10_prop-acc_0.4.pdf'</li><li>'../../output/sims_results/sup-rand-id_4FL6KFJXU6APHC2GA6_rep_0_win-size_1000000_sample-size_10/figs/subset-chr12-landscapes_sup-rand-id_4FL6KFJXU6APHC2GA6_rep_0_win-size_1000000_sample-size_10_prop-acc_0.4.pdf'</li><li>'../../output/sims_results/sup-rand-id_FL1LQWG0DX443T8F7M_rep_0_win-size_1000000_sample-size_10/figs/subset-chr12-landscapes_sup-rand-id_FL1LQWG0DX443T8F7M_rep_0_win-size_1000000_sample-size_10_prop-acc_0.4.pdf'</li><li>'../../output/sims_results/sup-rand-id_RD24T8SVUEW8FTANCW_rep_0_win-size_1000000_sample-size_10/figs/subset-chr12-landscapes_sup-rand-id_RD24T8SVUEW8FTANCW_rep_0_win-size_1000000_sample-size_10_prop-acc_0.4.pdf'</li><li>'../../output/sims_results/sup-rand-id_RES6S2QYGOLJKSE9XH_rep_0_win-size_1000000_sample-size_10/figs/subset-chr12-landscapes_sup-rand-id_RES6S2QYGOLJKSE9XH_rep_0_win-size_1000000_sample-size_10_prop-acc_0.4.pdf'</li><li>'../../output/sims_results/sup-rand-id_PWL6X0GLJ41YTXGYAK_rep_0_win-size_1000000_sample-size_10/figs/subset-chr12-landscapes_sup-rand-id_PWL6X0GLJ41YTXGYAK_rep_0_win-size_1000000_sample-size_10_prop-acc_0.4.pdf'</li><li>'../../output/sims_results/sup-rand-id_RLZRI870PD2YRWNCKK_rep_0_win-size_1000000_sample-size_10/figs/subset-chr12-landscapes_sup-rand-id_RLZRI870PD2YRWNCKK_rep_0_win-size_1000000_sample-size_10_prop-acc_0.4.pdf'</li><li>'../../output/sims_results/sup-rand-id_DFFB9J9GYC00WIFTAQ_rep_0_win-size_1000000_sample-size_10/figs/subset-chr12-landscapes_sup-rand-id_DFFB9J9GYC00WIFTAQ_rep_0_win-size_1000000_sample-size_10_prop-acc_0.4.pdf'</li><li>'../../output/sims_results/sup-rand-id_GGKXIAL2IXDKAJYXAN_rep_0_win-size_1000000_sample-size_10/figs/subset-chr12-landscapes_sup-rand-id_GGKXIAL2IXDKAJYXAN_rep_0_win-size_1000000_sample-size_10_prop-acc_0.4.pdf'</li><li>'../../output/sims_results/sup-rand-id_55RSB70EO1HGU1ZYFX_rep_0_win-size_1000000_sample-size_10/figs/subset-chr12-landscapes_sup-rand-id_55RSB70EO1HGU1ZYFX_rep_0_win-size_1000000_sample-size_10_prop-acc_0.4.pdf'</li><li>'../../output/sims_results/sup-rand-id_3GIHR79KVHKB6B02WF_rep_0_win-size_1000000_sample-size_10/figs/subset-chr12-landscapes_sup-rand-id_3GIHR79KVHKB6B02WF_rep_0_win-size_1000000_sample-size_10_prop-acc_0.4.pdf'</li><li>'../../output/sims_results/sup-rand-id_N4JCLYPOL45Q7DV2Y1_rep_0_win-size_1000000_sample-size_10/figs/subset-chr12-landscapes_sup-rand-id_N4JCLYPOL45Q7DV2Y1_rep_0_win-size_1000000_sample-size_10_prop-acc_0.4.pdf'</li><li>'../../output/varmut/sims_results/sup-rand-id_8MF0I020MWGI6N41PH_rep_0_win-size_1000000_sample-size_10_mut-win-size_1000000_sigma_0.010_total-mut-rate_2e-08/figs/subset-chr12-landscapes_sup-rand-id_8MF0I020MWGI6N41PH_rep_0_win-size_1000000_mut-win-size_1000000_sigma_0.010_total-mut_2e-08_sample-size_10_prop-acc_0.4.pdf'</li><li>'../../output/varmut/sims_results/sup-rand-id_8MF0I020MWGI6N41PH_rep_0_win-size_1000000_sample-size_10_mut-win-size_1000000_sigma_0.017_total-mut-rate_2e-08/figs/subset-chr12-landscapes_sup-rand-id_8MF0I020MWGI6N41PH_rep_0_win-size_1000000_mut-win-size_1000000_sigma_0.017_total-mut_2e-08_sample-size_10_prop-acc_0.4.pdf'</li><li>'../../output/varmut/sims_results/sup-rand-id_8MF0I020MWGI6N41PH_rep_0_win-size_1000000_sample-size_10_mut-win-size_1000000_sigma_0.028_total-mut-rate_2e-08/figs/subset-chr12-landscapes_sup-rand-id_8MF0I020MWGI6N41PH_rep_0_win-size_1000000_mut-win-size_1000000_sigma_0.028_total-mut_2e-08_sample-size_10_prop-acc_0.4.pdf'</li><li>'../../output/varmut/sims_results/sup-rand-id_8MF0I020MWGI6N41PH_rep_0_win-size_1000000_sample-size_10_mut-win-size_1000000_sigma_0.046_total-mut-rate_2e-08/figs/subset-chr12-landscapes_sup-rand-id_8MF0I020MWGI6N41PH_rep_0_win-size_1000000_mut-win-size_1000000_sigma_0.046_total-mut_2e-08_sample-size_10_prop-acc_0.4.pdf'</li><li>'../../output/varmut/sims_results/sup-rand-id_8MF0I020MWGI6N41PH_rep_0_win-size_1000000_sample-size_10_mut-win-size_1000000_sigma_0.077_total-mut-rate_2e-08/figs/subset-chr12-landscapes_sup-rand-id_8MF0I020MWGI6N41PH_rep_0_win-size_1000000_mut-win-size_1000000_sigma_0.077_total-mut_2e-08_sample-size_10_prop-acc_0.4.pdf'</li><li>'../../output/varmut/sims_results/sup-rand-id_8MF0I020MWGI6N41PH_rep_0_win-size_1000000_sample-size_10_mut-win-size_1000000_sigma_0.129_total-mut-rate_2e-08/figs/subset-chr12-landscapes_sup-rand-id_8MF0I020MWGI6N41PH_rep_0_win-size_1000000_mut-win-size_1000000_sigma_0.129_total-mut_2e-08_sample-size_10_prop-acc_0.4.pdf'</li><li>'../../output/varmut/sims_results/sup-rand-id_8MF0I020MWGI6N41PH_rep_0_win-size_1000000_sample-size_10_mut-win-size_1000000_sigma_0.215_total-mut-rate_2e-08/figs/subset-chr12-landscapes_sup-rand-id_8MF0I020MWGI6N41PH_rep_0_win-size_1000000_mut-win-size_1000000_sigma_0.215_total-mut_2e-08_sample-size_10_prop-acc_0.4.pdf'</li><li>'../../output/varmut/sims_results/sup-rand-id_8MF0I020MWGI6N41PH_rep_0_win-size_1000000_sample-size_10_mut-win-size_1000000_sigma_0.359_total-mut-rate_2e-08/figs/subset-chr12-landscapes_sup-rand-id_8MF0I020MWGI6N41PH_rep_0_win-size_1000000_mut-win-size_1000000_sigma_0.359_total-mut_2e-08_sample-size_10_prop-acc_0.4.pdf'</li><li>'../../output/varmut/sims_results/sup-rand-id_8MF0I020MWGI6N41PH_rep_0_win-size_1000000_sample-size_10_mut-win-size_1000000_sigma_0.599_total-mut-rate_2e-08/figs/subset-chr12-landscapes_sup-rand-id_8MF0I020MWGI6N41PH_rep_0_win-size_1000000_mut-win-size_1000000_sigma_0.599_total-mut_2e-08_sample-size_10_prop-acc_0.4.pdf'</li><li>'../../output/varmut/sims_results/sup-rand-id_8MF0I020MWGI6N41PH_rep_0_win-size_1000000_sample-size_10_mut-win-size_1000000_sigma_1.000_total-mut-rate_2e-08/figs/subset-chr12-landscapes_sup-rand-id_8MF0I020MWGI6N41PH_rep_0_win-size_1000000_mut-win-size_1000000_sigma_1.000_total-mut_2e-08_sample-size_10_prop-acc_0.4.pdf'</li></ol>\n"
      ],
      "text/latex": [
       "\\begin{enumerate*}\n",
       "\\item '../../output/sims\\_results/sup-rand-id\\_8MF0I020MWGI6N41PH\\_rep\\_0\\_win-size\\_1000000\\_sample-size\\_10/figs/subset-chr12-landscapes\\_sup-rand-id\\_8MF0I020MWGI6N41PH\\_rep\\_0\\_win-size\\_1000000\\_sample-size\\_10\\_prop-acc\\_0.4.pdf'\n",
       "\\item '../../output/sims\\_results/sup-rand-id\\_RNX4L54J663QN2SY5X\\_rep\\_0\\_win-size\\_1000000\\_sample-size\\_10/figs/subset-chr12-landscapes\\_sup-rand-id\\_RNX4L54J663QN2SY5X\\_rep\\_0\\_win-size\\_1000000\\_sample-size\\_10\\_prop-acc\\_0.4.pdf'\n",
       "\\item '../../output/sims\\_results/sup-rand-id\\_SIN0QA3J1CBIYBO7D7\\_rep\\_0\\_win-size\\_1000000\\_sample-size\\_10/figs/subset-chr12-landscapes\\_sup-rand-id\\_SIN0QA3J1CBIYBO7D7\\_rep\\_0\\_win-size\\_1000000\\_sample-size\\_10\\_prop-acc\\_0.4.pdf'\n",
       "\\item '../../output/sims\\_results/sup-rand-id\\_UTJG9R531BVSR6UA41\\_rep\\_0\\_win-size\\_1000000\\_sample-size\\_10/figs/subset-chr12-landscapes\\_sup-rand-id\\_UTJG9R531BVSR6UA41\\_rep\\_0\\_win-size\\_1000000\\_sample-size\\_10\\_prop-acc\\_0.4.pdf'\n",
       "\\item '../../output/sims\\_results/sup-rand-id\\_O814WK8MN3UOF27JIR\\_rep\\_0\\_win-size\\_1000000\\_sample-size\\_10/figs/subset-chr12-landscapes\\_sup-rand-id\\_O814WK8MN3UOF27JIR\\_rep\\_0\\_win-size\\_1000000\\_sample-size\\_10\\_prop-acc\\_0.4.pdf'\n",
       "\\item '../../output/sims\\_results/sup-rand-id\\_AA9GUSRHWOA341WGC4\\_rep\\_0\\_win-size\\_1000000\\_sample-size\\_10/figs/subset-chr12-landscapes\\_sup-rand-id\\_AA9GUSRHWOA341WGC4\\_rep\\_0\\_win-size\\_1000000\\_sample-size\\_10\\_prop-acc\\_0.4.pdf'\n",
       "\\item '../../output/sims\\_results/sup-rand-id\\_CR1UIIF8NRSPZ94LGF\\_rep\\_0\\_win-size\\_1000000\\_sample-size\\_10/figs/subset-chr12-landscapes\\_sup-rand-id\\_CR1UIIF8NRSPZ94LGF\\_rep\\_0\\_win-size\\_1000000\\_sample-size\\_10\\_prop-acc\\_0.4.pdf'\n",
       "\\item '../../output/sims\\_results/sup-rand-id\\_4GROMS6FHMNW5X9L72\\_rep\\_0\\_win-size\\_1000000\\_sample-size\\_10/figs/subset-chr12-landscapes\\_sup-rand-id\\_4GROMS6FHMNW5X9L72\\_rep\\_0\\_win-size\\_1000000\\_sample-size\\_10\\_prop-acc\\_0.4.pdf'\n",
       "\\item '../../output/sims\\_results/sup-rand-id\\_HC27BSIEQBYZJHHUQV\\_rep\\_0\\_win-size\\_1000000\\_sample-size\\_10/figs/subset-chr12-landscapes\\_sup-rand-id\\_HC27BSIEQBYZJHHUQV\\_rep\\_0\\_win-size\\_1000000\\_sample-size\\_10\\_prop-acc\\_0.4.pdf'\n",
       "\\item '../../output/sims\\_results/sup-rand-id\\_QHYU2J74DGPZWTJKGK\\_rep\\_0\\_win-size\\_1000000\\_sample-size\\_10/figs/subset-chr12-landscapes\\_sup-rand-id\\_QHYU2J74DGPZWTJKGK\\_rep\\_0\\_win-size\\_1000000\\_sample-size\\_10\\_prop-acc\\_0.4.pdf'\n",
       "\\item '../../output/sims\\_results/sup-rand-id\\_9WZ486SOY2Q604EOMM\\_rep\\_0\\_win-size\\_1000000\\_sample-size\\_10/figs/subset-chr12-landscapes\\_sup-rand-id\\_9WZ486SOY2Q604EOMM\\_rep\\_0\\_win-size\\_1000000\\_sample-size\\_10\\_prop-acc\\_0.4.pdf'\n",
       "\\item '../../output/sims\\_results/sup-rand-id\\_HVD283AEPBL88J4NUN\\_rep\\_0\\_win-size\\_1000000\\_sample-size\\_10/figs/subset-chr12-landscapes\\_sup-rand-id\\_HVD283AEPBL88J4NUN\\_rep\\_0\\_win-size\\_1000000\\_sample-size\\_10\\_prop-acc\\_0.4.pdf'\n",
       "\\item '../../output/sims\\_results/sup-rand-id\\_Z79XUJ3SLXIAOKPITD\\_rep\\_0\\_win-size\\_1000000\\_sample-size\\_10/figs/subset-chr12-landscapes\\_sup-rand-id\\_Z79XUJ3SLXIAOKPITD\\_rep\\_0\\_win-size\\_1000000\\_sample-size\\_10\\_prop-acc\\_0.4.pdf'\n",
       "\\item '../../output/sims\\_results/sup-rand-id\\_UWIHTH76U466661H5T\\_rep\\_0\\_win-size\\_1000000\\_sample-size\\_10/figs/subset-chr12-landscapes\\_sup-rand-id\\_UWIHTH76U466661H5T\\_rep\\_0\\_win-size\\_1000000\\_sample-size\\_10\\_prop-acc\\_0.4.pdf'\n",
       "\\item '../../output/sims\\_results/sup-rand-id\\_4FL6KFJXU6APHC2GA6\\_rep\\_0\\_win-size\\_1000000\\_sample-size\\_10/figs/subset-chr12-landscapes\\_sup-rand-id\\_4FL6KFJXU6APHC2GA6\\_rep\\_0\\_win-size\\_1000000\\_sample-size\\_10\\_prop-acc\\_0.4.pdf'\n",
       "\\item '../../output/sims\\_results/sup-rand-id\\_FL1LQWG0DX443T8F7M\\_rep\\_0\\_win-size\\_1000000\\_sample-size\\_10/figs/subset-chr12-landscapes\\_sup-rand-id\\_FL1LQWG0DX443T8F7M\\_rep\\_0\\_win-size\\_1000000\\_sample-size\\_10\\_prop-acc\\_0.4.pdf'\n",
       "\\item '../../output/sims\\_results/sup-rand-id\\_RD24T8SVUEW8FTANCW\\_rep\\_0\\_win-size\\_1000000\\_sample-size\\_10/figs/subset-chr12-landscapes\\_sup-rand-id\\_RD24T8SVUEW8FTANCW\\_rep\\_0\\_win-size\\_1000000\\_sample-size\\_10\\_prop-acc\\_0.4.pdf'\n",
       "\\item '../../output/sims\\_results/sup-rand-id\\_RES6S2QYGOLJKSE9XH\\_rep\\_0\\_win-size\\_1000000\\_sample-size\\_10/figs/subset-chr12-landscapes\\_sup-rand-id\\_RES6S2QYGOLJKSE9XH\\_rep\\_0\\_win-size\\_1000000\\_sample-size\\_10\\_prop-acc\\_0.4.pdf'\n",
       "\\item '../../output/sims\\_results/sup-rand-id\\_PWL6X0GLJ41YTXGYAK\\_rep\\_0\\_win-size\\_1000000\\_sample-size\\_10/figs/subset-chr12-landscapes\\_sup-rand-id\\_PWL6X0GLJ41YTXGYAK\\_rep\\_0\\_win-size\\_1000000\\_sample-size\\_10\\_prop-acc\\_0.4.pdf'\n",
       "\\item '../../output/sims\\_results/sup-rand-id\\_RLZRI870PD2YRWNCKK\\_rep\\_0\\_win-size\\_1000000\\_sample-size\\_10/figs/subset-chr12-landscapes\\_sup-rand-id\\_RLZRI870PD2YRWNCKK\\_rep\\_0\\_win-size\\_1000000\\_sample-size\\_10\\_prop-acc\\_0.4.pdf'\n",
       "\\item '../../output/sims\\_results/sup-rand-id\\_DFFB9J9GYC00WIFTAQ\\_rep\\_0\\_win-size\\_1000000\\_sample-size\\_10/figs/subset-chr12-landscapes\\_sup-rand-id\\_DFFB9J9GYC00WIFTAQ\\_rep\\_0\\_win-size\\_1000000\\_sample-size\\_10\\_prop-acc\\_0.4.pdf'\n",
       "\\item '../../output/sims\\_results/sup-rand-id\\_GGKXIAL2IXDKAJYXAN\\_rep\\_0\\_win-size\\_1000000\\_sample-size\\_10/figs/subset-chr12-landscapes\\_sup-rand-id\\_GGKXIAL2IXDKAJYXAN\\_rep\\_0\\_win-size\\_1000000\\_sample-size\\_10\\_prop-acc\\_0.4.pdf'\n",
       "\\item '../../output/sims\\_results/sup-rand-id\\_55RSB70EO1HGU1ZYFX\\_rep\\_0\\_win-size\\_1000000\\_sample-size\\_10/figs/subset-chr12-landscapes\\_sup-rand-id\\_55RSB70EO1HGU1ZYFX\\_rep\\_0\\_win-size\\_1000000\\_sample-size\\_10\\_prop-acc\\_0.4.pdf'\n",
       "\\item '../../output/sims\\_results/sup-rand-id\\_3GIHR79KVHKB6B02WF\\_rep\\_0\\_win-size\\_1000000\\_sample-size\\_10/figs/subset-chr12-landscapes\\_sup-rand-id\\_3GIHR79KVHKB6B02WF\\_rep\\_0\\_win-size\\_1000000\\_sample-size\\_10\\_prop-acc\\_0.4.pdf'\n",
       "\\item '../../output/sims\\_results/sup-rand-id\\_N4JCLYPOL45Q7DV2Y1\\_rep\\_0\\_win-size\\_1000000\\_sample-size\\_10/figs/subset-chr12-landscapes\\_sup-rand-id\\_N4JCLYPOL45Q7DV2Y1\\_rep\\_0\\_win-size\\_1000000\\_sample-size\\_10\\_prop-acc\\_0.4.pdf'\n",
       "\\item '../../output/varmut/sims\\_results/sup-rand-id\\_8MF0I020MWGI6N41PH\\_rep\\_0\\_win-size\\_1000000\\_sample-size\\_10\\_mut-win-size\\_1000000\\_sigma\\_0.010\\_total-mut-rate\\_2e-08/figs/subset-chr12-landscapes\\_sup-rand-id\\_8MF0I020MWGI6N41PH\\_rep\\_0\\_win-size\\_1000000\\_mut-win-size\\_1000000\\_sigma\\_0.010\\_total-mut\\_2e-08\\_sample-size\\_10\\_prop-acc\\_0.4.pdf'\n",
       "\\item '../../output/varmut/sims\\_results/sup-rand-id\\_8MF0I020MWGI6N41PH\\_rep\\_0\\_win-size\\_1000000\\_sample-size\\_10\\_mut-win-size\\_1000000\\_sigma\\_0.017\\_total-mut-rate\\_2e-08/figs/subset-chr12-landscapes\\_sup-rand-id\\_8MF0I020MWGI6N41PH\\_rep\\_0\\_win-size\\_1000000\\_mut-win-size\\_1000000\\_sigma\\_0.017\\_total-mut\\_2e-08\\_sample-size\\_10\\_prop-acc\\_0.4.pdf'\n",
       "\\item '../../output/varmut/sims\\_results/sup-rand-id\\_8MF0I020MWGI6N41PH\\_rep\\_0\\_win-size\\_1000000\\_sample-size\\_10\\_mut-win-size\\_1000000\\_sigma\\_0.028\\_total-mut-rate\\_2e-08/figs/subset-chr12-landscapes\\_sup-rand-id\\_8MF0I020MWGI6N41PH\\_rep\\_0\\_win-size\\_1000000\\_mut-win-size\\_1000000\\_sigma\\_0.028\\_total-mut\\_2e-08\\_sample-size\\_10\\_prop-acc\\_0.4.pdf'\n",
       "\\item '../../output/varmut/sims\\_results/sup-rand-id\\_8MF0I020MWGI6N41PH\\_rep\\_0\\_win-size\\_1000000\\_sample-size\\_10\\_mut-win-size\\_1000000\\_sigma\\_0.046\\_total-mut-rate\\_2e-08/figs/subset-chr12-landscapes\\_sup-rand-id\\_8MF0I020MWGI6N41PH\\_rep\\_0\\_win-size\\_1000000\\_mut-win-size\\_1000000\\_sigma\\_0.046\\_total-mut\\_2e-08\\_sample-size\\_10\\_prop-acc\\_0.4.pdf'\n",
       "\\item '../../output/varmut/sims\\_results/sup-rand-id\\_8MF0I020MWGI6N41PH\\_rep\\_0\\_win-size\\_1000000\\_sample-size\\_10\\_mut-win-size\\_1000000\\_sigma\\_0.077\\_total-mut-rate\\_2e-08/figs/subset-chr12-landscapes\\_sup-rand-id\\_8MF0I020MWGI6N41PH\\_rep\\_0\\_win-size\\_1000000\\_mut-win-size\\_1000000\\_sigma\\_0.077\\_total-mut\\_2e-08\\_sample-size\\_10\\_prop-acc\\_0.4.pdf'\n",
       "\\item '../../output/varmut/sims\\_results/sup-rand-id\\_8MF0I020MWGI6N41PH\\_rep\\_0\\_win-size\\_1000000\\_sample-size\\_10\\_mut-win-size\\_1000000\\_sigma\\_0.129\\_total-mut-rate\\_2e-08/figs/subset-chr12-landscapes\\_sup-rand-id\\_8MF0I020MWGI6N41PH\\_rep\\_0\\_win-size\\_1000000\\_mut-win-size\\_1000000\\_sigma\\_0.129\\_total-mut\\_2e-08\\_sample-size\\_10\\_prop-acc\\_0.4.pdf'\n",
       "\\item '../../output/varmut/sims\\_results/sup-rand-id\\_8MF0I020MWGI6N41PH\\_rep\\_0\\_win-size\\_1000000\\_sample-size\\_10\\_mut-win-size\\_1000000\\_sigma\\_0.215\\_total-mut-rate\\_2e-08/figs/subset-chr12-landscapes\\_sup-rand-id\\_8MF0I020MWGI6N41PH\\_rep\\_0\\_win-size\\_1000000\\_mut-win-size\\_1000000\\_sigma\\_0.215\\_total-mut\\_2e-08\\_sample-size\\_10\\_prop-acc\\_0.4.pdf'\n",
       "\\item '../../output/varmut/sims\\_results/sup-rand-id\\_8MF0I020MWGI6N41PH\\_rep\\_0\\_win-size\\_1000000\\_sample-size\\_10\\_mut-win-size\\_1000000\\_sigma\\_0.359\\_total-mut-rate\\_2e-08/figs/subset-chr12-landscapes\\_sup-rand-id\\_8MF0I020MWGI6N41PH\\_rep\\_0\\_win-size\\_1000000\\_mut-win-size\\_1000000\\_sigma\\_0.359\\_total-mut\\_2e-08\\_sample-size\\_10\\_prop-acc\\_0.4.pdf'\n",
       "\\item '../../output/varmut/sims\\_results/sup-rand-id\\_8MF0I020MWGI6N41PH\\_rep\\_0\\_win-size\\_1000000\\_sample-size\\_10\\_mut-win-size\\_1000000\\_sigma\\_0.599\\_total-mut-rate\\_2e-08/figs/subset-chr12-landscapes\\_sup-rand-id\\_8MF0I020MWGI6N41PH\\_rep\\_0\\_win-size\\_1000000\\_mut-win-size\\_1000000\\_sigma\\_0.599\\_total-mut\\_2e-08\\_sample-size\\_10\\_prop-acc\\_0.4.pdf'\n",
       "\\item '../../output/varmut/sims\\_results/sup-rand-id\\_8MF0I020MWGI6N41PH\\_rep\\_0\\_win-size\\_1000000\\_sample-size\\_10\\_mut-win-size\\_1000000\\_sigma\\_1.000\\_total-mut-rate\\_2e-08/figs/subset-chr12-landscapes\\_sup-rand-id\\_8MF0I020MWGI6N41PH\\_rep\\_0\\_win-size\\_1000000\\_mut-win-size\\_1000000\\_sigma\\_1.000\\_total-mut\\_2e-08\\_sample-size\\_10\\_prop-acc\\_0.4.pdf'\n",
       "\\end{enumerate*}\n"
      ],
      "text/markdown": [
       "1. '../../output/sims_results/sup-rand-id_8MF0I020MWGI6N41PH_rep_0_win-size_1000000_sample-size_10/figs/subset-chr12-landscapes_sup-rand-id_8MF0I020MWGI6N41PH_rep_0_win-size_1000000_sample-size_10_prop-acc_0.4.pdf'\n",
       "2. '../../output/sims_results/sup-rand-id_RNX4L54J663QN2SY5X_rep_0_win-size_1000000_sample-size_10/figs/subset-chr12-landscapes_sup-rand-id_RNX4L54J663QN2SY5X_rep_0_win-size_1000000_sample-size_10_prop-acc_0.4.pdf'\n",
       "3. '../../output/sims_results/sup-rand-id_SIN0QA3J1CBIYBO7D7_rep_0_win-size_1000000_sample-size_10/figs/subset-chr12-landscapes_sup-rand-id_SIN0QA3J1CBIYBO7D7_rep_0_win-size_1000000_sample-size_10_prop-acc_0.4.pdf'\n",
       "4. '../../output/sims_results/sup-rand-id_UTJG9R531BVSR6UA41_rep_0_win-size_1000000_sample-size_10/figs/subset-chr12-landscapes_sup-rand-id_UTJG9R531BVSR6UA41_rep_0_win-size_1000000_sample-size_10_prop-acc_0.4.pdf'\n",
       "5. '../../output/sims_results/sup-rand-id_O814WK8MN3UOF27JIR_rep_0_win-size_1000000_sample-size_10/figs/subset-chr12-landscapes_sup-rand-id_O814WK8MN3UOF27JIR_rep_0_win-size_1000000_sample-size_10_prop-acc_0.4.pdf'\n",
       "6. '../../output/sims_results/sup-rand-id_AA9GUSRHWOA341WGC4_rep_0_win-size_1000000_sample-size_10/figs/subset-chr12-landscapes_sup-rand-id_AA9GUSRHWOA341WGC4_rep_0_win-size_1000000_sample-size_10_prop-acc_0.4.pdf'\n",
       "7. '../../output/sims_results/sup-rand-id_CR1UIIF8NRSPZ94LGF_rep_0_win-size_1000000_sample-size_10/figs/subset-chr12-landscapes_sup-rand-id_CR1UIIF8NRSPZ94LGF_rep_0_win-size_1000000_sample-size_10_prop-acc_0.4.pdf'\n",
       "8. '../../output/sims_results/sup-rand-id_4GROMS6FHMNW5X9L72_rep_0_win-size_1000000_sample-size_10/figs/subset-chr12-landscapes_sup-rand-id_4GROMS6FHMNW5X9L72_rep_0_win-size_1000000_sample-size_10_prop-acc_0.4.pdf'\n",
       "9. '../../output/sims_results/sup-rand-id_HC27BSIEQBYZJHHUQV_rep_0_win-size_1000000_sample-size_10/figs/subset-chr12-landscapes_sup-rand-id_HC27BSIEQBYZJHHUQV_rep_0_win-size_1000000_sample-size_10_prop-acc_0.4.pdf'\n",
       "10. '../../output/sims_results/sup-rand-id_QHYU2J74DGPZWTJKGK_rep_0_win-size_1000000_sample-size_10/figs/subset-chr12-landscapes_sup-rand-id_QHYU2J74DGPZWTJKGK_rep_0_win-size_1000000_sample-size_10_prop-acc_0.4.pdf'\n",
       "11. '../../output/sims_results/sup-rand-id_9WZ486SOY2Q604EOMM_rep_0_win-size_1000000_sample-size_10/figs/subset-chr12-landscapes_sup-rand-id_9WZ486SOY2Q604EOMM_rep_0_win-size_1000000_sample-size_10_prop-acc_0.4.pdf'\n",
       "12. '../../output/sims_results/sup-rand-id_HVD283AEPBL88J4NUN_rep_0_win-size_1000000_sample-size_10/figs/subset-chr12-landscapes_sup-rand-id_HVD283AEPBL88J4NUN_rep_0_win-size_1000000_sample-size_10_prop-acc_0.4.pdf'\n",
       "13. '../../output/sims_results/sup-rand-id_Z79XUJ3SLXIAOKPITD_rep_0_win-size_1000000_sample-size_10/figs/subset-chr12-landscapes_sup-rand-id_Z79XUJ3SLXIAOKPITD_rep_0_win-size_1000000_sample-size_10_prop-acc_0.4.pdf'\n",
       "14. '../../output/sims_results/sup-rand-id_UWIHTH76U466661H5T_rep_0_win-size_1000000_sample-size_10/figs/subset-chr12-landscapes_sup-rand-id_UWIHTH76U466661H5T_rep_0_win-size_1000000_sample-size_10_prop-acc_0.4.pdf'\n",
       "15. '../../output/sims_results/sup-rand-id_4FL6KFJXU6APHC2GA6_rep_0_win-size_1000000_sample-size_10/figs/subset-chr12-landscapes_sup-rand-id_4FL6KFJXU6APHC2GA6_rep_0_win-size_1000000_sample-size_10_prop-acc_0.4.pdf'\n",
       "16. '../../output/sims_results/sup-rand-id_FL1LQWG0DX443T8F7M_rep_0_win-size_1000000_sample-size_10/figs/subset-chr12-landscapes_sup-rand-id_FL1LQWG0DX443T8F7M_rep_0_win-size_1000000_sample-size_10_prop-acc_0.4.pdf'\n",
       "17. '../../output/sims_results/sup-rand-id_RD24T8SVUEW8FTANCW_rep_0_win-size_1000000_sample-size_10/figs/subset-chr12-landscapes_sup-rand-id_RD24T8SVUEW8FTANCW_rep_0_win-size_1000000_sample-size_10_prop-acc_0.4.pdf'\n",
       "18. '../../output/sims_results/sup-rand-id_RES6S2QYGOLJKSE9XH_rep_0_win-size_1000000_sample-size_10/figs/subset-chr12-landscapes_sup-rand-id_RES6S2QYGOLJKSE9XH_rep_0_win-size_1000000_sample-size_10_prop-acc_0.4.pdf'\n",
       "19. '../../output/sims_results/sup-rand-id_PWL6X0GLJ41YTXGYAK_rep_0_win-size_1000000_sample-size_10/figs/subset-chr12-landscapes_sup-rand-id_PWL6X0GLJ41YTXGYAK_rep_0_win-size_1000000_sample-size_10_prop-acc_0.4.pdf'\n",
       "20. '../../output/sims_results/sup-rand-id_RLZRI870PD2YRWNCKK_rep_0_win-size_1000000_sample-size_10/figs/subset-chr12-landscapes_sup-rand-id_RLZRI870PD2YRWNCKK_rep_0_win-size_1000000_sample-size_10_prop-acc_0.4.pdf'\n",
       "21. '../../output/sims_results/sup-rand-id_DFFB9J9GYC00WIFTAQ_rep_0_win-size_1000000_sample-size_10/figs/subset-chr12-landscapes_sup-rand-id_DFFB9J9GYC00WIFTAQ_rep_0_win-size_1000000_sample-size_10_prop-acc_0.4.pdf'\n",
       "22. '../../output/sims_results/sup-rand-id_GGKXIAL2IXDKAJYXAN_rep_0_win-size_1000000_sample-size_10/figs/subset-chr12-landscapes_sup-rand-id_GGKXIAL2IXDKAJYXAN_rep_0_win-size_1000000_sample-size_10_prop-acc_0.4.pdf'\n",
       "23. '../../output/sims_results/sup-rand-id_55RSB70EO1HGU1ZYFX_rep_0_win-size_1000000_sample-size_10/figs/subset-chr12-landscapes_sup-rand-id_55RSB70EO1HGU1ZYFX_rep_0_win-size_1000000_sample-size_10_prop-acc_0.4.pdf'\n",
       "24. '../../output/sims_results/sup-rand-id_3GIHR79KVHKB6B02WF_rep_0_win-size_1000000_sample-size_10/figs/subset-chr12-landscapes_sup-rand-id_3GIHR79KVHKB6B02WF_rep_0_win-size_1000000_sample-size_10_prop-acc_0.4.pdf'\n",
       "25. '../../output/sims_results/sup-rand-id_N4JCLYPOL45Q7DV2Y1_rep_0_win-size_1000000_sample-size_10/figs/subset-chr12-landscapes_sup-rand-id_N4JCLYPOL45Q7DV2Y1_rep_0_win-size_1000000_sample-size_10_prop-acc_0.4.pdf'\n",
       "26. '../../output/varmut/sims_results/sup-rand-id_8MF0I020MWGI6N41PH_rep_0_win-size_1000000_sample-size_10_mut-win-size_1000000_sigma_0.010_total-mut-rate_2e-08/figs/subset-chr12-landscapes_sup-rand-id_8MF0I020MWGI6N41PH_rep_0_win-size_1000000_mut-win-size_1000000_sigma_0.010_total-mut_2e-08_sample-size_10_prop-acc_0.4.pdf'\n",
       "27. '../../output/varmut/sims_results/sup-rand-id_8MF0I020MWGI6N41PH_rep_0_win-size_1000000_sample-size_10_mut-win-size_1000000_sigma_0.017_total-mut-rate_2e-08/figs/subset-chr12-landscapes_sup-rand-id_8MF0I020MWGI6N41PH_rep_0_win-size_1000000_mut-win-size_1000000_sigma_0.017_total-mut_2e-08_sample-size_10_prop-acc_0.4.pdf'\n",
       "28. '../../output/varmut/sims_results/sup-rand-id_8MF0I020MWGI6N41PH_rep_0_win-size_1000000_sample-size_10_mut-win-size_1000000_sigma_0.028_total-mut-rate_2e-08/figs/subset-chr12-landscapes_sup-rand-id_8MF0I020MWGI6N41PH_rep_0_win-size_1000000_mut-win-size_1000000_sigma_0.028_total-mut_2e-08_sample-size_10_prop-acc_0.4.pdf'\n",
       "29. '../../output/varmut/sims_results/sup-rand-id_8MF0I020MWGI6N41PH_rep_0_win-size_1000000_sample-size_10_mut-win-size_1000000_sigma_0.046_total-mut-rate_2e-08/figs/subset-chr12-landscapes_sup-rand-id_8MF0I020MWGI6N41PH_rep_0_win-size_1000000_mut-win-size_1000000_sigma_0.046_total-mut_2e-08_sample-size_10_prop-acc_0.4.pdf'\n",
       "30. '../../output/varmut/sims_results/sup-rand-id_8MF0I020MWGI6N41PH_rep_0_win-size_1000000_sample-size_10_mut-win-size_1000000_sigma_0.077_total-mut-rate_2e-08/figs/subset-chr12-landscapes_sup-rand-id_8MF0I020MWGI6N41PH_rep_0_win-size_1000000_mut-win-size_1000000_sigma_0.077_total-mut_2e-08_sample-size_10_prop-acc_0.4.pdf'\n",
       "31. '../../output/varmut/sims_results/sup-rand-id_8MF0I020MWGI6N41PH_rep_0_win-size_1000000_sample-size_10_mut-win-size_1000000_sigma_0.129_total-mut-rate_2e-08/figs/subset-chr12-landscapes_sup-rand-id_8MF0I020MWGI6N41PH_rep_0_win-size_1000000_mut-win-size_1000000_sigma_0.129_total-mut_2e-08_sample-size_10_prop-acc_0.4.pdf'\n",
       "32. '../../output/varmut/sims_results/sup-rand-id_8MF0I020MWGI6N41PH_rep_0_win-size_1000000_sample-size_10_mut-win-size_1000000_sigma_0.215_total-mut-rate_2e-08/figs/subset-chr12-landscapes_sup-rand-id_8MF0I020MWGI6N41PH_rep_0_win-size_1000000_mut-win-size_1000000_sigma_0.215_total-mut_2e-08_sample-size_10_prop-acc_0.4.pdf'\n",
       "33. '../../output/varmut/sims_results/sup-rand-id_8MF0I020MWGI6N41PH_rep_0_win-size_1000000_sample-size_10_mut-win-size_1000000_sigma_0.359_total-mut-rate_2e-08/figs/subset-chr12-landscapes_sup-rand-id_8MF0I020MWGI6N41PH_rep_0_win-size_1000000_mut-win-size_1000000_sigma_0.359_total-mut_2e-08_sample-size_10_prop-acc_0.4.pdf'\n",
       "34. '../../output/varmut/sims_results/sup-rand-id_8MF0I020MWGI6N41PH_rep_0_win-size_1000000_sample-size_10_mut-win-size_1000000_sigma_0.599_total-mut-rate_2e-08/figs/subset-chr12-landscapes_sup-rand-id_8MF0I020MWGI6N41PH_rep_0_win-size_1000000_mut-win-size_1000000_sigma_0.599_total-mut_2e-08_sample-size_10_prop-acc_0.4.pdf'\n",
       "35. '../../output/varmut/sims_results/sup-rand-id_8MF0I020MWGI6N41PH_rep_0_win-size_1000000_sample-size_10_mut-win-size_1000000_sigma_1.000_total-mut-rate_2e-08/figs/subset-chr12-landscapes_sup-rand-id_8MF0I020MWGI6N41PH_rep_0_win-size_1000000_mut-win-size_1000000_sigma_1.000_total-mut_2e-08_sample-size_10_prop-acc_0.4.pdf'\n",
       "\n",
       "\n"
      ],
      "text/plain": [
       " [1] \"../../output/sims_results/sup-rand-id_8MF0I020MWGI6N41PH_rep_0_win-size_1000000_sample-size_10/figs/subset-chr12-landscapes_sup-rand-id_8MF0I020MWGI6N41PH_rep_0_win-size_1000000_sample-size_10_prop-acc_0.4.pdf\"                                                                                                              \n",
       " [2] \"../../output/sims_results/sup-rand-id_RNX4L54J663QN2SY5X_rep_0_win-size_1000000_sample-size_10/figs/subset-chr12-landscapes_sup-rand-id_RNX4L54J663QN2SY5X_rep_0_win-size_1000000_sample-size_10_prop-acc_0.4.pdf\"                                                                                                              \n",
       " [3] \"../../output/sims_results/sup-rand-id_SIN0QA3J1CBIYBO7D7_rep_0_win-size_1000000_sample-size_10/figs/subset-chr12-landscapes_sup-rand-id_SIN0QA3J1CBIYBO7D7_rep_0_win-size_1000000_sample-size_10_prop-acc_0.4.pdf\"                                                                                                              \n",
       " [4] \"../../output/sims_results/sup-rand-id_UTJG9R531BVSR6UA41_rep_0_win-size_1000000_sample-size_10/figs/subset-chr12-landscapes_sup-rand-id_UTJG9R531BVSR6UA41_rep_0_win-size_1000000_sample-size_10_prop-acc_0.4.pdf\"                                                                                                              \n",
       " [5] \"../../output/sims_results/sup-rand-id_O814WK8MN3UOF27JIR_rep_0_win-size_1000000_sample-size_10/figs/subset-chr12-landscapes_sup-rand-id_O814WK8MN3UOF27JIR_rep_0_win-size_1000000_sample-size_10_prop-acc_0.4.pdf\"                                                                                                              \n",
       " [6] \"../../output/sims_results/sup-rand-id_AA9GUSRHWOA341WGC4_rep_0_win-size_1000000_sample-size_10/figs/subset-chr12-landscapes_sup-rand-id_AA9GUSRHWOA341WGC4_rep_0_win-size_1000000_sample-size_10_prop-acc_0.4.pdf\"                                                                                                              \n",
       " [7] \"../../output/sims_results/sup-rand-id_CR1UIIF8NRSPZ94LGF_rep_0_win-size_1000000_sample-size_10/figs/subset-chr12-landscapes_sup-rand-id_CR1UIIF8NRSPZ94LGF_rep_0_win-size_1000000_sample-size_10_prop-acc_0.4.pdf\"                                                                                                              \n",
       " [8] \"../../output/sims_results/sup-rand-id_4GROMS6FHMNW5X9L72_rep_0_win-size_1000000_sample-size_10/figs/subset-chr12-landscapes_sup-rand-id_4GROMS6FHMNW5X9L72_rep_0_win-size_1000000_sample-size_10_prop-acc_0.4.pdf\"                                                                                                              \n",
       " [9] \"../../output/sims_results/sup-rand-id_HC27BSIEQBYZJHHUQV_rep_0_win-size_1000000_sample-size_10/figs/subset-chr12-landscapes_sup-rand-id_HC27BSIEQBYZJHHUQV_rep_0_win-size_1000000_sample-size_10_prop-acc_0.4.pdf\"                                                                                                              \n",
       "[10] \"../../output/sims_results/sup-rand-id_QHYU2J74DGPZWTJKGK_rep_0_win-size_1000000_sample-size_10/figs/subset-chr12-landscapes_sup-rand-id_QHYU2J74DGPZWTJKGK_rep_0_win-size_1000000_sample-size_10_prop-acc_0.4.pdf\"                                                                                                              \n",
       "[11] \"../../output/sims_results/sup-rand-id_9WZ486SOY2Q604EOMM_rep_0_win-size_1000000_sample-size_10/figs/subset-chr12-landscapes_sup-rand-id_9WZ486SOY2Q604EOMM_rep_0_win-size_1000000_sample-size_10_prop-acc_0.4.pdf\"                                                                                                              \n",
       "[12] \"../../output/sims_results/sup-rand-id_HVD283AEPBL88J4NUN_rep_0_win-size_1000000_sample-size_10/figs/subset-chr12-landscapes_sup-rand-id_HVD283AEPBL88J4NUN_rep_0_win-size_1000000_sample-size_10_prop-acc_0.4.pdf\"                                                                                                              \n",
       "[13] \"../../output/sims_results/sup-rand-id_Z79XUJ3SLXIAOKPITD_rep_0_win-size_1000000_sample-size_10/figs/subset-chr12-landscapes_sup-rand-id_Z79XUJ3SLXIAOKPITD_rep_0_win-size_1000000_sample-size_10_prop-acc_0.4.pdf\"                                                                                                              \n",
       "[14] \"../../output/sims_results/sup-rand-id_UWIHTH76U466661H5T_rep_0_win-size_1000000_sample-size_10/figs/subset-chr12-landscapes_sup-rand-id_UWIHTH76U466661H5T_rep_0_win-size_1000000_sample-size_10_prop-acc_0.4.pdf\"                                                                                                              \n",
       "[15] \"../../output/sims_results/sup-rand-id_4FL6KFJXU6APHC2GA6_rep_0_win-size_1000000_sample-size_10/figs/subset-chr12-landscapes_sup-rand-id_4FL6KFJXU6APHC2GA6_rep_0_win-size_1000000_sample-size_10_prop-acc_0.4.pdf\"                                                                                                              \n",
       "[16] \"../../output/sims_results/sup-rand-id_FL1LQWG0DX443T8F7M_rep_0_win-size_1000000_sample-size_10/figs/subset-chr12-landscapes_sup-rand-id_FL1LQWG0DX443T8F7M_rep_0_win-size_1000000_sample-size_10_prop-acc_0.4.pdf\"                                                                                                              \n",
       "[17] \"../../output/sims_results/sup-rand-id_RD24T8SVUEW8FTANCW_rep_0_win-size_1000000_sample-size_10/figs/subset-chr12-landscapes_sup-rand-id_RD24T8SVUEW8FTANCW_rep_0_win-size_1000000_sample-size_10_prop-acc_0.4.pdf\"                                                                                                              \n",
       "[18] \"../../output/sims_results/sup-rand-id_RES6S2QYGOLJKSE9XH_rep_0_win-size_1000000_sample-size_10/figs/subset-chr12-landscapes_sup-rand-id_RES6S2QYGOLJKSE9XH_rep_0_win-size_1000000_sample-size_10_prop-acc_0.4.pdf\"                                                                                                              \n",
       "[19] \"../../output/sims_results/sup-rand-id_PWL6X0GLJ41YTXGYAK_rep_0_win-size_1000000_sample-size_10/figs/subset-chr12-landscapes_sup-rand-id_PWL6X0GLJ41YTXGYAK_rep_0_win-size_1000000_sample-size_10_prop-acc_0.4.pdf\"                                                                                                              \n",
       "[20] \"../../output/sims_results/sup-rand-id_RLZRI870PD2YRWNCKK_rep_0_win-size_1000000_sample-size_10/figs/subset-chr12-landscapes_sup-rand-id_RLZRI870PD2YRWNCKK_rep_0_win-size_1000000_sample-size_10_prop-acc_0.4.pdf\"                                                                                                              \n",
       "[21] \"../../output/sims_results/sup-rand-id_DFFB9J9GYC00WIFTAQ_rep_0_win-size_1000000_sample-size_10/figs/subset-chr12-landscapes_sup-rand-id_DFFB9J9GYC00WIFTAQ_rep_0_win-size_1000000_sample-size_10_prop-acc_0.4.pdf\"                                                                                                              \n",
       "[22] \"../../output/sims_results/sup-rand-id_GGKXIAL2IXDKAJYXAN_rep_0_win-size_1000000_sample-size_10/figs/subset-chr12-landscapes_sup-rand-id_GGKXIAL2IXDKAJYXAN_rep_0_win-size_1000000_sample-size_10_prop-acc_0.4.pdf\"                                                                                                              \n",
       "[23] \"../../output/sims_results/sup-rand-id_55RSB70EO1HGU1ZYFX_rep_0_win-size_1000000_sample-size_10/figs/subset-chr12-landscapes_sup-rand-id_55RSB70EO1HGU1ZYFX_rep_0_win-size_1000000_sample-size_10_prop-acc_0.4.pdf\"                                                                                                              \n",
       "[24] \"../../output/sims_results/sup-rand-id_3GIHR79KVHKB6B02WF_rep_0_win-size_1000000_sample-size_10/figs/subset-chr12-landscapes_sup-rand-id_3GIHR79KVHKB6B02WF_rep_0_win-size_1000000_sample-size_10_prop-acc_0.4.pdf\"                                                                                                              \n",
       "[25] \"../../output/sims_results/sup-rand-id_N4JCLYPOL45Q7DV2Y1_rep_0_win-size_1000000_sample-size_10/figs/subset-chr12-landscapes_sup-rand-id_N4JCLYPOL45Q7DV2Y1_rep_0_win-size_1000000_sample-size_10_prop-acc_0.4.pdf\"                                                                                                              \n",
       "[26] \"../../output/varmut/sims_results/sup-rand-id_8MF0I020MWGI6N41PH_rep_0_win-size_1000000_sample-size_10_mut-win-size_1000000_sigma_0.010_total-mut-rate_2e-08/figs/subset-chr12-landscapes_sup-rand-id_8MF0I020MWGI6N41PH_rep_0_win-size_1000000_mut-win-size_1000000_sigma_0.010_total-mut_2e-08_sample-size_10_prop-acc_0.4.pdf\"\n",
       "[27] \"../../output/varmut/sims_results/sup-rand-id_8MF0I020MWGI6N41PH_rep_0_win-size_1000000_sample-size_10_mut-win-size_1000000_sigma_0.017_total-mut-rate_2e-08/figs/subset-chr12-landscapes_sup-rand-id_8MF0I020MWGI6N41PH_rep_0_win-size_1000000_mut-win-size_1000000_sigma_0.017_total-mut_2e-08_sample-size_10_prop-acc_0.4.pdf\"\n",
       "[28] \"../../output/varmut/sims_results/sup-rand-id_8MF0I020MWGI6N41PH_rep_0_win-size_1000000_sample-size_10_mut-win-size_1000000_sigma_0.028_total-mut-rate_2e-08/figs/subset-chr12-landscapes_sup-rand-id_8MF0I020MWGI6N41PH_rep_0_win-size_1000000_mut-win-size_1000000_sigma_0.028_total-mut_2e-08_sample-size_10_prop-acc_0.4.pdf\"\n",
       "[29] \"../../output/varmut/sims_results/sup-rand-id_8MF0I020MWGI6N41PH_rep_0_win-size_1000000_sample-size_10_mut-win-size_1000000_sigma_0.046_total-mut-rate_2e-08/figs/subset-chr12-landscapes_sup-rand-id_8MF0I020MWGI6N41PH_rep_0_win-size_1000000_mut-win-size_1000000_sigma_0.046_total-mut_2e-08_sample-size_10_prop-acc_0.4.pdf\"\n",
       "[30] \"../../output/varmut/sims_results/sup-rand-id_8MF0I020MWGI6N41PH_rep_0_win-size_1000000_sample-size_10_mut-win-size_1000000_sigma_0.077_total-mut-rate_2e-08/figs/subset-chr12-landscapes_sup-rand-id_8MF0I020MWGI6N41PH_rep_0_win-size_1000000_mut-win-size_1000000_sigma_0.077_total-mut_2e-08_sample-size_10_prop-acc_0.4.pdf\"\n",
       "[31] \"../../output/varmut/sims_results/sup-rand-id_8MF0I020MWGI6N41PH_rep_0_win-size_1000000_sample-size_10_mut-win-size_1000000_sigma_0.129_total-mut-rate_2e-08/figs/subset-chr12-landscapes_sup-rand-id_8MF0I020MWGI6N41PH_rep_0_win-size_1000000_mut-win-size_1000000_sigma_0.129_total-mut_2e-08_sample-size_10_prop-acc_0.4.pdf\"\n",
       "[32] \"../../output/varmut/sims_results/sup-rand-id_8MF0I020MWGI6N41PH_rep_0_win-size_1000000_sample-size_10_mut-win-size_1000000_sigma_0.215_total-mut-rate_2e-08/figs/subset-chr12-landscapes_sup-rand-id_8MF0I020MWGI6N41PH_rep_0_win-size_1000000_mut-win-size_1000000_sigma_0.215_total-mut_2e-08_sample-size_10_prop-acc_0.4.pdf\"\n",
       "[33] \"../../output/varmut/sims_results/sup-rand-id_8MF0I020MWGI6N41PH_rep_0_win-size_1000000_sample-size_10_mut-win-size_1000000_sigma_0.359_total-mut-rate_2e-08/figs/subset-chr12-landscapes_sup-rand-id_8MF0I020MWGI6N41PH_rep_0_win-size_1000000_mut-win-size_1000000_sigma_0.359_total-mut_2e-08_sample-size_10_prop-acc_0.4.pdf\"\n",
       "[34] \"../../output/varmut/sims_results/sup-rand-id_8MF0I020MWGI6N41PH_rep_0_win-size_1000000_sample-size_10_mut-win-size_1000000_sigma_0.599_total-mut-rate_2e-08/figs/subset-chr12-landscapes_sup-rand-id_8MF0I020MWGI6N41PH_rep_0_win-size_1000000_mut-win-size_1000000_sigma_0.599_total-mut_2e-08_sample-size_10_prop-acc_0.4.pdf\"\n",
       "[35] \"../../output/varmut/sims_results/sup-rand-id_8MF0I020MWGI6N41PH_rep_0_win-size_1000000_sample-size_10_mut-win-size_1000000_sigma_1.000_total-mut-rate_2e-08/figs/subset-chr12-landscapes_sup-rand-id_8MF0I020MWGI6N41PH_rep_0_win-size_1000000_mut-win-size_1000000_sigma_1.000_total-mut_2e-08_sample-size_10_prop-acc_0.4.pdf\""
      ]
     },
     "metadata": {},
     "output_type": "display_data"
    }
   ],
   "source": [
    "plots_paths"
   ]
  },
  {
   "cell_type": "code",
   "execution_count": null,
   "metadata": {},
   "outputs": [],
   "source": [
    "tmp[1,\"desc\"]"
   ]
  },
  {
   "cell_type": "code",
   "execution_count": null,
   "metadata": {},
   "outputs": [],
   "source": []
  }
 ],
 "metadata": {
  "kernelspec": {
   "display_name": "apes(withr)",
   "language": "R",
   "name": "apes-py-r"
  },
  "language_info": {
   "codemirror_mode": "r",
   "file_extension": ".r",
   "mimetype": "text/x-r-source",
   "name": "R",
   "pygments_lexer": "r",
   "version": "3.6.3"
  }
 },
 "nbformat": 4,
 "nbformat_minor": 5
}
