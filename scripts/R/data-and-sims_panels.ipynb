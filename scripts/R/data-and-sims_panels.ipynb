{
 "cells": [
  {
   "cell_type": "code",
   "execution_count": 91,
   "metadata": {},
   "outputs": [],
   "source": [
    "library(tidyverse)\n",
    "library(ggplot2)\n",
    "library(patchwork)\n",
    "source(\"helper.R\")\n",
    "library(pdftools)"
   ]
  },
  {
   "cell_type": "code",
   "execution_count": 92,
   "metadata": {},
   "outputs": [],
   "source": [
    "sinfo_path = \"../../output/sims_info.tsv\"\n",
    "sinfoh_path = \"../../output/header_sims_info.tsv\""
   ]
  },
  {
   "cell_type": "code",
   "execution_count": 93,
   "metadata": {},
   "outputs": [],
   "source": [
    "win_size = 1000000\n",
    "chroms= c(\"chr12\")\n",
    "win_len = -1\n",
    "padding = 0\n",
    "rescf = 1\n",
    "prop_acc=0.4"
   ]
  },
  {
   "cell_type": "code",
   "execution_count": 94,
   "metadata": {},
   "outputs": [],
   "source": [
    "fig_prefixes = c(\"cor-pidxy-dT\", \"subset-chr12-landscapes\",\"annot-correls-tmrca\")\n",
    "widths = c(100, 125, 100)\n",
    "heights = c(25, 25, 35)\n",
    "#fig_prefixes = c(\"annot-correls-tmrca\")"
   ]
  },
  {
   "cell_type": "code",
   "execution_count": 95,
   "metadata": {},
   "outputs": [],
   "source": [
    "sims_path = \"../../output/sims_results/\"\n",
    "varmut_sims_path = \"../../output/varmut/sims_results/\""
   ]
  },
  {
   "cell_type": "code",
   "execution_count": 96,
   "metadata": {},
   "outputs": [],
   "source": [
    "# loading sims info table\n",
    "sinfo = read.table(sinfo_path, sep=\"\\t\")\n",
    "h = read.table(sinfoh_path, sep=\"\\t\", header=TRUE)\n",
    "cnames = colnames(h)\n",
    "if (length(sinfo) == length(h)+1) {\n",
    "    cnames = c(cnames, \"poscoefdecayeps\")\n",
    "}\n",
    "colnames(sinfo) = cnames"
   ]
  },
  {
   "cell_type": "code",
   "execution_count": 97,
   "metadata": {},
   "outputs": [],
   "source": [
    "#diff_cols = c(\"delrate\",\"delcoef\",\"posrate\",\"poscoef\",\"mu\", \"rescf\", \"win_len\", \"padding\", \"chr\")\n",
    "diff_cols = c(\"delrate\",\"delcoef\",\"posrate\",\"poscoef\",\"mu\", \"poscoefdecayeps\", \"rescf\", \"win_len\", \"padding\", \"chr\")"
   ]
  },
  {
   "cell_type": "code",
   "execution_count": 98,
   "metadata": {},
   "outputs": [],
   "source": [
    "wsize_str = paste0(\"win-size_\",as.integer(win_size))"
   ]
  },
  {
   "cell_type": "code",
   "execution_count": 99,
   "metadata": {},
   "outputs": [],
   "source": [
    "sims_folders = paste0(sims_path,list.files(sims_path)[grep(wsize_str, list.files(sims_path))])"
   ]
  },
  {
   "cell_type": "code",
   "execution_count": 100,
   "metadata": {},
   "outputs": [],
   "source": [
    "varmut_sims_folders = paste0(varmut_sims_path,list.files(varmut_sims_path)[grep(wsize_str, list.files(varmut_sims_path))])"
   ]
  },
  {
   "cell_type": "code",
   "execution_count": 101,
   "metadata": {},
   "outputs": [],
   "source": [
    "sims_folders = c(sims_folders, varmut_sims_folders)"
   ]
  },
  {
   "cell_type": "code",
   "execution_count": 102,
   "metadata": {},
   "outputs": [
    {
     "name": "stdout",
     "output_type": "stream",
     "text": [
      "[1] \"entrei\"\n",
      "[1] \"entrei\"\n",
      "[1] \"entrei\"\n",
      "[1] \"entrei\"\n",
      "[1] \"entrei\"\n",
      "[1] \"entrei\"\n",
      "[1] \"entrei\"\n",
      "[1] \"entrei\"\n",
      "[1] \"entrei\"\n",
      "[1] \"entrei\"\n"
     ]
    }
   ],
   "source": [
    "simresults = as.data.frame(do.call(rbind, lapply(X = sims_folders, function(x) unlist(meta_from_fname(x,prop=prop_acc,suffix=\"$\")))), stringsAsFactors =FALSE)"
   ]
  },
  {
   "cell_type": "code",
   "execution_count": 103,
   "metadata": {},
   "outputs": [],
   "source": [
    "#sims_folders"
   ]
  },
  {
   "cell_type": "code",
   "execution_count": 104,
   "metadata": {},
   "outputs": [],
   "source": [
    "simresults$folderpath = sims_folders"
   ]
  },
  {
   "cell_type": "code",
   "execution_count": 105,
   "metadata": {},
   "outputs": [],
   "source": [
    "tmp = unique(sinfo[sinfo$sup_rand_id %in% simresults$sup_rand_id,c(diff_cols,\"sup_rand_id\")])"
   ]
  },
  {
   "cell_type": "code",
   "execution_count": 106,
   "metadata": {},
   "outputs": [],
   "source": [
    "#sinfo[sinfo$sup_rand_id==\"O814WK8MN3UOF27JIR\",][\"rand_id\"]"
   ]
  },
  {
   "cell_type": "code",
   "execution_count": 107,
   "metadata": {},
   "outputs": [
    {
     "name": "stderr",
     "output_type": "stream",
     "text": [
      "Joining, by = \"sup_rand_id\"\n",
      "\n"
     ]
    }
   ],
   "source": [
    "simresults = left_join(simresults, tmp)"
   ]
  },
  {
   "cell_type": "code",
   "execution_count": 108,
   "metadata": {},
   "outputs": [],
   "source": [
    "simresults = simresults[simresults$win_len==win_len & simresults$padding == padding & simresults$rescf==1 & as.numeric(simresults$win_size) == win_size & simresults$chr %in% chroms,]"
   ]
  },
  {
   "cell_type": "code",
   "execution_count": 109,
   "metadata": {},
   "outputs": [],
   "source": [
    "simresults[is.na(simresults$poscoefdecayeps),]$poscoefdecayeps = 0"
   ]
  },
  {
   "cell_type": "code",
   "execution_count": 110,
   "metadata": {},
   "outputs": [],
   "source": [
    "simresults$selregime = ifelse(simresults$posrate<1e-16,ifelse(simresults$delrate<1e-16, ifelse(simresults$sigma==0, \"neutral\", \"varmut\"), \"del_only\"), ifelse(simresults$delrate<1e-16, \"pos_only\", \"both\"))"
   ]
  },
  {
   "cell_type": "code",
   "execution_count": null,
   "metadata": {},
   "outputs": [],
   "source": []
  },
  {
   "cell_type": "code",
   "execution_count": 111,
   "metadata": {},
   "outputs": [],
   "source": [
    "simresults$seldesc = apply(\n",
    "    simresults,\n",
    "    1,\n",
    "    function(x) paste(\"mu-D=\", x[\"delrate\"],\n",
    "                      \" mu-B=\", x[\"posrate\"],\n",
    "                      ifelse(x['selregime'] %in% c(\"del_only\", \"both\"), paste0(\"\\ncoef-D=\", x[\"delcoef\"]), \"\"),\n",
    "                      ifelse(x['selregime'] %in% c(\"both\", \"pos_only\"), paste0(\"\\ncoef-B=\", x[\"poscoef\"], \" decay-B=\", x[\"poscoefdecayeps\"]), \"\"),\n",
    "                      ifelse(x[\"selregime\"]==\"varmut\", paste0(\" mut-sd=\", x['sigma']),\"\"),\n",
    "                      \"\\n(\", x[\"sup_rand_id\"], \")\", \n",
    "                      sep=\"\"))"
   ]
  },
  {
   "cell_type": "code",
   "execution_count": 112,
   "metadata": {},
   "outputs": [],
   "source": [
    "simresults$sigma = as.numeric(simresults$sigma)"
   ]
  },
  {
   "cell_type": "code",
   "execution_count": 113,
   "metadata": {},
   "outputs": [],
   "source": [
    "tmp = simresults\n",
    "ordered = c(\"neutral\", \"del_only\", \"pos_only\", \"both\", \"varmut\")\n",
    "classes = unique(tmp$selregime)\n",
    "tmp$selregime = factor(tmp$selregime, levels=classes[order(match(classes,ordered))])\n",
    "tmp = tmp[\n",
    "  with(tmp, order(selregime,posrate,-poscoefdecayeps,delrate,poscoef,delcoef,sigma)),\n",
    "]"
   ]
  },
  {
   "cell_type": "code",
   "execution_count": 114,
   "metadata": {},
   "outputs": [],
   "source": [
    "rownames(tmp) <- NULL\n",
    "tab=table(tmp$selregime)\n",
    "tab = c(\"data\"=1, tab)\n",
    "areas = list()\n",
    "row = 1\n",
    "for (regime in names(tab)) {\n",
    "    col = 1\n",
    "    for(i in 1:tab[regime]) {\n",
    "        areas = c(areas, list(area(row,col)))\n",
    "        col = col + 1\n",
    "    }\n",
    "    row = row + 1\n",
    "}\n",
    "\n",
    "areas = (do.call(c, areas))"
   ]
  },
  {
   "cell_type": "code",
   "execution_count": 116,
   "metadata": {},
   "outputs": [
    {
     "name": "stderr",
     "output_type": "stream",
     "text": [
      "Warning message:\n",
      "\"Removed 283 rows containing missing values (geom_point).\"\n",
      "Warning message:\n",
      "\"Removed 294 rows containing missing values (geom_point).\"\n",
      "Warning message:\n",
      "\"Removed 159 rows containing missing values (geom_point).\"\n",
      "Warning message:\n",
      "\"Removed 88 rows containing missing values (geom_point).\"\n",
      "Warning message:\n",
      "\"Removed 80 rows containing missing values (geom_point).\"\n",
      "Warning message:\n",
      "\"Removed 1 rows containing missing values (geom_point).\"\n",
      "Warning message:\n",
      "\"Removed 148 rows containing missing values (geom_point).\"\n",
      "Warning message:\n",
      "\"Removed 1 rows containing missing values (geom_point).\"\n",
      "Warning message:\n",
      "\"Removed 110 rows containing missing values (geom_point).\"\n",
      "Warning message:\n",
      "\"Removed 127 rows containing missing values (geom_point).\"\n",
      "Warning message:\n",
      "\"Removed 39 rows containing missing values (geom_point).\"\n",
      "Warning message:\n",
      "\"Removed 113 rows containing missing values (geom_point).\"\n",
      "Warning message:\n",
      "\"Removed 118 rows containing missing values (geom_point).\"\n",
      "Warning message:\n",
      "\"Removed 55 rows containing missing values (geom_point).\"\n",
      "Warning message:\n",
      "\"Removed 31 rows containing missing values (geom_point).\"\n",
      "Warning message:\n",
      "\"Removed 3 rows containing missing values (geom_point).\"\n"
     ]
    },
    {
     "name": "stdout",
     "output_type": "stream",
     "text": [
      "Converting page 1 to ../../output/data_and_sims/win-size_1000000/png/cor-pidxy-dT_panel_sims_and_data_win-size_.png... done!\n",
      "Converting page 1 to ../../output/data_and_sims/win-size_1000000/png/subset-chr12-landscapes_panel_sims_and_data_win-size_.png... done!\n",
      "Converting page 1 to ../../output/data_and_sims/win-size_1000000/png/annot-correls-tmrca_panel_sims_and_data_win-size_.png... done!\n"
     ]
    }
   ],
   "source": [
    "for (k in 1:length(fig_prefixes)) {\n",
    "    fig_prefix = fig_prefixes[k]\n",
    "    plots = apply(tmp,1,\n",
    "                  function(x) readRDS(paste0(x[\"folderpath\"],\n",
    "                                             \"/\",fig_prefix, \"_\",x[\"desc\"],\".rds\"))+labs(subtitle=x[\"seldesc\"]))\n",
    "\n",
    "    data_path = paste0(\"../../output/greatapes-diversity-data/\",fig_prefix,\"_win-size_\",as.integer(win_size),\"_merged-mask_True_prop-acc_\",prop_acc, \".rds\")\n",
    "    plots=c(list(readRDS(data_path)+labs(subtitle=\"data\")), plots)\n",
    "\n",
    "    panel_plot = wrap_plots(plots, nrow=length(classes), design=areas, guides=\"collect\")\n",
    "\n",
    "    wstr = paste0('win-size_',as.integer(win_size))\n",
    "    plots_folder_path = paste0(\"../../output/data_and_sims/\", wstr,\"/pdf\")\n",
    "\n",
    "    dname = paste0(plots_folder_path)\n",
    "    if(! dir.exists(dname))\n",
    "            dir.create(dname, recursive=TRUE)\n",
    "\n",
    "\n",
    "    panel_fname = paste0(plots_folder_path,\"/\",fig_prefix, \"_\",\"panel_sims_and_data_win-size_.pdf\")\n",
    "\n",
    "    panel_pngname = gsub(\"pdf\", \"png\", panel_fname)\n",
    "\n",
    "\n",
    "    ggsave(filename=panel_fname, plot=panel_plot, width=widths[k], height=heights[k], scale=1.75, units=\"cm\", limitsize=FALSE)\n",
    "\n",
    "    pdf_convert(panel_fname, dpi=160, filenames = panel_pngname)\n",
    "}"
   ]
  },
  {
   "cell_type": "code",
   "execution_count": null,
   "metadata": {},
   "outputs": [],
   "source": [
    "tmp"
   ]
  },
  {
   "cell_type": "code",
   "execution_count": null,
   "metadata": {},
   "outputs": [],
   "source": [
    "fig_prefixes = c(\"subset-chr12-landscapes\", \"pairs-dxydxy\", \"pairs-pidxy\", \"pairs-pipi\", \"pairs-pidxy-colbyrec\", \"pairs-pidxy-colbyex\")"
   ]
  },
  {
   "cell_type": "code",
   "execution_count": null,
   "metadata": {},
   "outputs": [],
   "source": [
    "for (fig_prefix in fig_prefixes) {\n",
    "plots_folder_path = paste0(\"../../output/data_and_sims/\", wstr)\n",
    "\n",
    "dnames = paste0(plots_folder_path, c(\"/pdf\", \"/png\"))\n",
    "for (dname in dnames) {\n",
    "    if(! dir.exists(dname))\n",
    "        dir.create(dname, recursive=TRUE)\n",
    "}\n",
    "\n",
    "data_path2 = paste0(\"../../output/greatapes-diversity-data/figs/\",fig_prefix,\"_win-size_\",as.integer(win_size),\"_merged-mask_True_prop-acc_\",prop_acc, \".pdf\")\n",
    "\n",
    "plots_paths = apply(tmp,1,\n",
    "              function(x) paste0(x[\"folderpath\"],\n",
    "                                         \"/figs/\",fig_prefix,\"_\",x[\"desc\"],\".pdf\"))\n",
    "tmp$newfname = gsub(\" \", \"_\", tmp[,\"seldesc\"])\n",
    "tmp$newfname = gsub(\"\\n\", \"_\", tmp[,\"newfname\"])\n",
    "\n",
    "new_paths = apply(tmp,1,\n",
    "                 function(x) paste0(plots_folder_path,\"/pdf/\",fig_prefix,\"_\",x[\"selregime\"],\"_\", x['newfname'],\".pdf\"))\n",
    "\n",
    "plots_folder_path\n",
    "\n",
    "file.copy(plots_paths, new_paths)\n",
    "file.copy(data_path2, paste0(plots_folder_path,\"/pdf/\",fig_prefix, \"_\",\"data.pdf\"))\n",
    "png_paths = gsub(\"pdf\", \"png\", new_paths)\n",
    "for (i in 1:length(png_paths)) {\n",
    "    pdf_convert(new_paths[i], dpi=160, filenames = png_paths[i])\n",
    "}\n",
    "}\n",
    "    \n"
   ]
  },
  {
   "cell_type": "code",
   "execution_count": null,
   "metadata": {},
   "outputs": [],
   "source": []
  },
  {
   "cell_type": "code",
   "execution_count": null,
   "metadata": {},
   "outputs": [],
   "source": []
  },
  {
   "cell_type": "code",
   "execution_count": null,
   "metadata": {},
   "outputs": [],
   "source": []
  }
 ],
 "metadata": {
  "kernelspec": {
   "display_name": "apes(withr)",
   "language": "R",
   "name": "apes-py-r"
  },
  "language_info": {
   "codemirror_mode": "r",
   "file_extension": ".r",
   "mimetype": "text/x-r-source",
   "name": "R",
   "pygments_lexer": "r",
   "version": "3.6.3"
  }
 },
 "nbformat": 4,
 "nbformat_minor": 5
}
