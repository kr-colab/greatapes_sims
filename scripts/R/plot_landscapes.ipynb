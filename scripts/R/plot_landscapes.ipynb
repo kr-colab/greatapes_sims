{
 "cells": [
  {
   "cell_type": "code",
   "execution_count": null,
   "metadata": {},
   "outputs": [],
   "source": [
    "library(data.table)\n",
    "library(tidyverse)\n",
    "library(fuzzyjoin)\n",
    "library(broom)\n",
    "library(patchwork)\n",
    "library(ggpubr)\n",
    "library(ape)\n",
    "library(tidytree)\n",
    "library(ggtree)\n",
    "library(plotly)\n",
    "library(MASS)\n",
    "library(Matrix)\n",
    "library(scales)\n",
    "library(ggrepel)\n",
    "library(GGally)\n",
    "theme_set(theme_pubr(base_size=8, legend=\"bottom\"))\n",
    "source(\"../R/helper.R\")\n",
    "options(repr.plot.res = 150)"
   ]
  },
  {
   "cell_type": "code",
   "execution_count": null,
   "metadata": {},
   "outputs": [],
   "source": [
    "args = commandArgs(trailingOnly = TRUE)"
   ]
  },
  {
   "cell_type": "code",
   "execution_count": null,
   "metadata": {},
   "outputs": [],
   "source": [
    "#args = c(\"../../output/greatapes-diversity-data/all_pidxy_win-size_1000000_merged-mask_True_state_all_curr_WWSS.tsv\",\"../../output/greatapes-diversity-data/\",\"figs/\",\"0.4\")"
   ]
  },
  {
   "cell_type": "code",
   "execution_count": null,
   "metadata": {},
   "outputs": [],
   "source": [
    "args"
   ]
  },
  {
   "cell_type": "code",
   "execution_count": null,
   "metadata": {},
   "outputs": [],
   "source": [
    "# Input parameters\n",
    "\n",
    "## paths\n",
    "if (length(args) < 4) {\n",
    "    inpath = '../../output/joined_stats/sup-rand-id_O814WK8MN3UOF27JIR_rep_0_win-size_1000000_sample-size_10.tsv'\n",
    "    #inpath = '../../output/greatapes-diversity-data/all_pidxy_win-size_1000000_merged-mask_True.tsv'\n",
    "    outpath = '../../output/'\n",
    "    figpath = 'figs/'\n",
    "    prop = 0.4\n",
    "} else {\n",
    "    print(args)\n",
    "    inpath = args[1]\n",
    "    outpath = args[2]\n",
    "    figpath = args[3]\n",
    "    prop = as.numeric(args[4])\n",
    "\n",
    "}\n",
    "filemeta = meta_from_fname(inpath, prop=prop)"
   ]
  },
  {
   "cell_type": "code",
   "execution_count": null,
   "metadata": {},
   "outputs": [],
   "source": [
    "filemeta"
   ]
  },
  {
   "cell_type": "code",
   "execution_count": null,
   "metadata": {},
   "outputs": [],
   "source": [
    "# reading annotation tracks\n",
    "rec_map = fread('../../hg18/decode_rec_map.tsv')\n",
    "rec_map = rec_map[,c(1,2,3,5)]\n",
    "colnames(rec_map) = c(\"chr\", \"start\", \"end\", \"mean_rate\")\n",
    "\n",
    "rep_timing = fread('../../hg18/replication_timing.tsv')\n",
    "rep_timing$chr = paste0(\"chr\", rep_timing$chr)\n",
    "\n",
    "exons = fread('../../hg18/annotations/exon.bed.merged', col.names = c(\"chr\", \"start\", \"end\"))\n",
    "\n",
    "phastcons = fread('../../hg18/annotations/phastConsElements44wayPrimates.bed.merged', col.names = c(\"chr\", \"start\", \"end\"))"
   ]
  },
  {
   "cell_type": "code",
   "execution_count": null,
   "metadata": {},
   "outputs": [],
   "source": [
    "# reading metadata\n",
    "edges = fread('../../data/meta/edges_meta.tsv', sep=\"\\t\", header=T, fill=T)\n",
    "edges[edges$edge == 'western_gorila']$edge = 'western_gorilla'\n",
    "edges$edge = str_replace(edges$edge, \"_\", \"-\")\n",
    "edges$parent = str_replace(edges$parent, \"_\", \"-\")\n",
    "root = edges[edges$parent == \"\",]$edge\n",
    "edges[edges$edge==root]$gens = edges[edges$edge==root]$N"
   ]
  },
  {
   "cell_type": "code",
   "execution_count": null,
   "metadata": {},
   "outputs": [],
   "source": [
    "# getting a newick tree from metadata table and computing distances/MRCAs\n",
    "treestr = build_nwk(root, as.data.frame(edges[,c(\"edge\", \"parent\", \"gens\")]))\n",
    "tree = read.tree(text=treestr)\n",
    "write.tree(tree, file=\"../../output/ga.nwk\")\n",
    "treetbl = as_tibble(tree)\n",
    "dist_mat = data.frame(dist.nodes(tree))\n",
    "colnames(dist_mat) = treetbl$label\n",
    "rownames(dist_mat) = treetbl$label\n",
    "mrca_mat = data.frame(mrca(tree, full=TRUE))\n",
    "for (i in 1:nrow(mrca_mat)) {\n",
    "    for (j in 1:ncol(mrca_mat)) {\n",
    "        mrca_mat[i,j] = treetbl[treetbl$node==mrca_mat[i,j],]$label\n",
    "    }\n",
    "}\n",
    "colnames(mrca_mat) = treetbl$label\n",
    "rownames(mrca_mat) = treetbl$label\n",
    "treetbl=dplyr::left_join(x = treetbl, y = edges[,c(\"edge\", \"edge_age_kya\", \"N\", \"gen_time\")], by=c(\"label\"=\"edge\"))"
   ]
  },
  {
   "cell_type": "code",
   "execution_count": null,
   "metadata": {},
   "outputs": [],
   "source": [
    "# reading stats computed from VCF/treeseq\n",
    "pidxy = fread(inpath)\n",
    "\n",
    "# some fixes (that are only necessary for the real data side of things)\n",
    "# changing from 1-based to 0-based in case of the data side\n",
    "pidxy$start = pidxy$start-as.integer(filemeta$is_ga_data)\n",
    "pidxy$spp1 = str_replace(pidxy$spp1, \"_\", \"-\")\n",
    "pidxy$spp2 = str_replace(pidxy$spp2, \"_\", \"-\")\n",
    "pidxy[pidxy$spp1=='homo',]$spp1 = \"humans\"\n",
    "pidxy[pidxy$spp2=='homo',]$spp2 = \"humans\"\n",
    "pidxy[pidxy$spp1=='western-gorila',]$spp1 = \"western-gorilla\"\n",
    "pidxy[pidxy$spp2=='western-gorila',]$spp2 = \"western-gorilla\"\n",
    "# masking windows with low accessibility\n",
    "## TODO: instead of removing the windows, just set the values to NA\n",
    "pidxy = pidxy[pidxy$n_acc_bases > filemeta$win_size*filemeta$prop,]"
   ]
  },
  {
   "cell_type": "code",
   "execution_count": null,
   "metadata": {},
   "outputs": [],
   "source": [
    "filemeta"
   ]
  },
  {
   "cell_type": "code",
   "execution_count": null,
   "metadata": {},
   "outputs": [],
   "source": [
    "filemeta$win_size"
   ]
  },
  {
   "cell_type": "code",
   "execution_count": null,
   "metadata": {},
   "outputs": [],
   "source": [
    "filemeta$prop"
   ]
  },
  {
   "cell_type": "code",
   "execution_count": null,
   "metadata": {},
   "outputs": [],
   "source": [
    "head(pidxy[pidxy$stat==\"dxy\"])"
   ]
  },
  {
   "cell_type": "code",
   "execution_count": null,
   "metadata": {},
   "outputs": [],
   "source": [
    "#pidxy = fread(inpath)\n",
    "head(pidxy)"
   ]
  },
  {
   "cell_type": "code",
   "execution_count": null,
   "metadata": {},
   "outputs": [],
   "source": [
    "# quick summary\n",
    "pidxy[pidxy$stat==\"pi\",] %>% \n",
    "    group_by(spp1, spp2, stat) %>%\n",
    "    summarise(m = weighted.mean(value, w=n_acc_bases, na.rm=T))"
   ]
  },
  {
   "cell_type": "code",
   "execution_count": null,
   "metadata": {},
   "outputs": [],
   "source": [
    "pidxy"
   ]
  },
  {
   "cell_type": "code",
   "execution_count": null,
   "metadata": {},
   "outputs": [],
   "source": [
    "# adding mrca and tmrca labels\n",
    "qual_stats = c(setdiff(unique(pidxy$stat), c(\"pi\", \"dxy\")),\"n_acc_bases\")\n",
    "pidxy$combo = paste(pidxy$spp1, pidxy$spp2, sep=\"_\")\n",
    "pidxy[stat == \"pi\"]$combo = pidxy[stat == \"pi\"]$spp1\n",
    "pidxy[stat %in% qual_stats]$combo = pidxy[stat %in% qual_stats]$spp1\n",
    "tmp = unique(pidxy[,c(\"spp1\",\"spp2\",\"combo\")])\n",
    "dt=apply(tmp, 1, function(x) dist_mat[x[1],x[2]])\n",
    "mrca=apply(tmp, 1, function(x) mrca_mat[x[1],x[2]])\n",
    "tmp = cbind(tmp, dt)\n",
    "tmp = cbind(tmp, mrca)"
   ]
  },
  {
   "cell_type": "code",
   "execution_count": null,
   "metadata": {},
   "outputs": [],
   "source": [
    "setkey(tmp, mrca)\n",
    "setkey(edges, edge)\n",
    "tmp = tmp[edges[,c(\"edge\", \"ancestral_coding\", \"N\")],]\n",
    "pidxy=tmp[pidxy, on=.(spp1,spp2)]\n",
    "combo_levels = tmp$combo[order(tmp$combo!=tmp$mrca, tmp$dt, tmp$ancestral_coding)]\n",
    "u = tmp %>%\n",
    "  distinct(mrca, ancestral_coding, dt) %>%\n",
    "  group_by(mrca, ancestral_coding) %>%\n",
    "  summarize(meandt = mean(dt))\n",
    "mrca_levels = u$mrca[order(u$meandt, u$ancestral_coding)]\n",
    "pidxy$combo = factor(pidxy$combo, levels = combo_levels, labels=str_replace(combo_levels, \"_\", \" \"))\n",
    "# levels ordered by within vs between spp comparison, tmrca, and ancestral coding (tree order)\n",
    "pidxy$mrca = factor(pidxy$mrca, levels=mrca_levels)"
   ]
  },
  {
   "cell_type": "code",
   "execution_count": null,
   "metadata": {},
   "outputs": [],
   "source": [
    "options(repr.plot.width=15, repr.plot.height=20)\n",
    "# making a plot of pi against quality measures\n",
    "if(filemeta$is_ga_data) {\n",
    "    p_piqual = pidxy %>% \n",
    "    filter(stat != \"dxy\") %>%\n",
    "    pivot_wider(names_from = stat, values_from = value) %>%\n",
    "    pivot_longer(cols=all_of(qual_stats), names_to = \"stat\", values_to=\"value\") %>%\n",
    "    ggplot(aes(y=pi, x=value)) + \n",
    "        stat_cor(method=\"spearman\", aes(label = ..rr.label..)) +\n",
    "        geom_hex() +\n",
    "        facet_wrap(vars(combo, stat), ncol=6, scales=\"free\")\n",
    "\n",
    "    p_piqual\n",
    "    ggsave(paste0(outpath, figpath, \"pi-by-qualmetrics_\", filemeta$desc, \".pdf\"), \n",
    "       width=6.5, height=10, scale=2, units=\"in\", limitsize=FALSE)\n",
    "\n",
    "    # from here we only care about pi and dxy, so dropping other stats\n",
    "    pidxy = pidxy[!pidxy$stat %in% qual_stats,] \n",
    "}"
   ]
  },
  {
   "cell_type": "code",
   "execution_count": null,
   "metadata": {},
   "outputs": [],
   "source": [
    "# joining with rec map\n",
    "pidxy = as.data.table(genome_left_join(pidxy, rec_map, by = c(\"chr\",\"start\", \"end\"), minoverlap=2)) # minoverlap bc end is not inclusive\n",
    "pidxy[, percent:= (end.y-start.y)/(end.x-start.x)]\n",
    "pidxy=pidxy[, .(mean_rec = weighted.mean(mean_rate, percent)), by=setdiff(colnames(pidxy), c(\"rate\", \"start.y\", \"end.y\", \"chr\", \"percent\", \"mean_rate\"))]\n",
    "setnames(pidxy, c(\"chr.x\",\"start.x\", \"end.x\"), c(\"chr\",\"start\",\"end\"))\n",
    "pidxy[,c(\"chr.y\") := NULL]"
   ]
  },
  {
   "cell_type": "code",
   "execution_count": null,
   "metadata": {},
   "outputs": [],
   "source": [
    "# joining with exons\n",
    "pidxy = as.data.table(genome_left_join(pidxy, exons, by = c(\"chr\", \"start\", \"end\"), minoverlap=2))\n",
    "pidxy[, percent:= (end.y-start.y)/(end.x-start.x)]\n",
    "pidxy[is.na(pidxy$percent)]$percent=0\n",
    "pidxy=pidxy[, .(ex_overlap = sum(percent)), by=setdiff(colnames(pidxy), c(\"start.y\", \"chr\", \"end.y\", \"percent\"))]\n",
    "setnames(pidxy, c(\"chr.x\", \"start.x\", \"end.x\"), c(\"chr\",\"start\",\"end\"))\n",
    "pidxy[, ex_overlap := 100*ex_overlap]\n",
    "pidxy[,c(\"chr.y\") := NULL]\n",
    "pidxy[is.na(pidxy$ex_overlap), ]$ex_overlap = 0"
   ]
  },
  {
   "cell_type": "code",
   "execution_count": null,
   "metadata": {},
   "outputs": [],
   "source": [
    "# joining with phastcons\n",
    "pidxy = as.data.table(genome_left_join(pidxy, phastcons, by = c(\"chr\", \"start\", \"end\"), minoverlap=2))\n",
    "pidxy[, percent:= (end.y-start.y)/(end.x-start.x)]\n",
    "pidxy[is.na(pidxy$percent)]$percent=0\n",
    "pidxy=pidxy[, .(pcons_overlap = sum(percent)), by=setdiff(colnames(pidxy), c(\"start.y\", \"chr\", \"end.y\", \"percent\"))]\n",
    "setnames(pidxy, c(\"chr.x\", \"start.x\", \"end.x\"), c(\"chr\",\"start\",\"end\"))\n",
    "pidxy[, pcons_overlap := 100*pcons_overlap]\n",
    "pidxy[,c(\"chr.y\") := NULL]"
   ]
  },
  {
   "cell_type": "code",
   "execution_count": null,
   "metadata": {},
   "outputs": [],
   "source": [
    "head(pidxy)"
   ]
  },
  {
   "cell_type": "code",
   "execution_count": null,
   "metadata": {},
   "outputs": [],
   "source": [
    "# correlations between rec,ex and pcons, and pidxy\n",
    "options(warn=-1)\n",
    "rec_percentile=0.7\n",
    "pidxy$high_rec = pidxy$mean_rec > quantile(pidxy$mean_rec, rec_percentile, na.rm = T)\n",
    "pidxy[is.na(pidxy$high_rec),]$high_rec = FALSE\n",
    "recbin_labels = c(\"TRUE\" = \"High recombination (top 10%)\",\n",
    "                 \"FALSE\" = \"Low recombination (bottom 90%)\")"
   ]
  },
  {
   "cell_type": "code",
   "execution_count": null,
   "metadata": {},
   "outputs": [],
   "source": [
    "options(warn=-1)\n",
    "\n",
    "cor_rec = pidxy %>%\n",
    "    group_by(spp1,spp2,dt, mrca,high_rec) %>% \n",
    "    do(tidy(cor.test(.$value, .$mean_rec, method=\"spearman\"))) %>%\n",
    "    mutate(harm_ne = focal_harm_ne(mrca))\n",
    "\n",
    "cor_ex = pidxy %>%\n",
    "    group_by(spp1,spp2,dt, mrca, high_rec) %>% \n",
    "    do(tidy(cor.test(.$value, .$ex_overlap, method=\"spearman\"))) %>%\n",
    "    mutate(harm_ne = focal_harm_ne(mrca))\n",
    "\n",
    "cor_pcons = pidxy %>%\n",
    "    group_by(spp1,spp2, dt, mrca, high_rec) %>% \n",
    "    do(tidy(cor.test(.$value, .$pcons_overlap, method=\"spearman\"))) %>%\n",
    "    mutate(harm_ne = focal_harm_ne(mrca))\n",
    "options(warn=-0)\n",
    "write.table(cor_rec, paste0(outpath,\"cor-pidxy-rec-rate-byrec_\",filemeta$desc,\".tsv\"), sep=\"\\t\", quote=FALSE, row.names=FALSE)\n",
    "write.table(cor_ex, paste0(outpath,\"cor-pidxy-exon-byrec_\",filemeta$desc,\".tsv\"), sep=\"\\t\", quote=FALSE, row.names=FALSE)\n",
    "write.table(cor_pcons, paste0(outpath,\"cor-pidxy-pcons-byrec_\",filemeta$desc,\".tsv\"), sep=\"\\t\", quote=FALSE, row.names=FALSE)"
   ]
  },
  {
   "cell_type": "code",
   "execution_count": null,
   "metadata": {},
   "outputs": [],
   "source": [
    "options(repr.plot.width=12, repr.plot.height=8)\n",
    "\n",
    "col19palette = c(\"#677cc3\",\"#acb438\",\"#7d63d1\",\"#5ab64d\",\"#bf4fb4\",\"#57c39b\",\"#d33e5a\",\"#3b8455\",\"#db518d\",\"#627527\",\"#cd8bc9\",\"#9cb169\",\"#9d4b6e\",\"#cea14e\",\"#45aecf\",\"#cb4b2e\",\"#94642e\",\"#d4796f\",\"#dd8336\")\n",
    "\n",
    "p_corex_byrec = ggplot(cor_ex, aes(x=dt, y=estimate, col=mrca, size=harm_ne)) + \n",
    "            facet_grid(vars(high_rec), labeller = as_labeller(recbin_labels)) +\n",
    "            geom_point() + \n",
    "            scale_colour_manual(values=col19palette) + \n",
    "            labs(y=\"Corr(% Exon, Pi/Dxy)\", x=\"TMRCA\", col=\"MRCA\", size=\"Ne\")+\n",
    "            guides(colour = guide_legend(title.position=\"top\"), size = guide_legend(title.position=\"top\"))\n",
    "p_corpcons_byrec = ggplot(cor_pcons, aes(x=dt, y=estimate, col=mrca, size=harm_ne)) + \n",
    "                facet_grid(vars(high_rec), labeller = as_labeller(recbin_labels)) +\n",
    "                geom_point() + \n",
    "                scale_colour_manual(values=col19palette) + \n",
    "                labs(y=\"Corr(% PhastCons, Pi/Dxy)\", x=\"TMRCA\", col=\"MRCA\", size=\"Ne\")+\n",
    "                guides(colour = guide_legend(title.position=\"top\"), size = guide_legend(title.position=\"top\"))\n",
    "\n",
    "p_corex_byrec + p_corpcons_byrec + plot_annotation(subtitle=filemeta$spaced_desc) + plot_layout(guides = 'collect')\n",
    "ggsave(filename=paste0(outpath, figpath,\"annot-correls-tmrca-by-recbin_\",filemeta$desc,\".pdf\"), width = 6.5, height = 4.5, scale=1.2, units = \"in\")"
   ]
  },
  {
   "cell_type": "code",
   "execution_count": null,
   "metadata": {},
   "outputs": [],
   "source": [
    "options(repr.plot.width=12, repr.plot.height=4)\n",
    "\n",
    "options(warn=-1)\n",
    "\n",
    "cor_rec = pidxy %>%\n",
    "    group_by(spp1,spp2,dt, mrca) %>% \n",
    "    do(tidy(cor.test(.$value, .$mean_rec, method=\"spearman\"))) %>%\n",
    "    mutate(harm_ne = focal_harm_ne(mrca))\n",
    "\n",
    "cor_ex = pidxy %>%\n",
    "    group_by(spp1,spp2,dt, mrca) %>% \n",
    "    do(tidy(cor.test(.$value, .$ex_overlap, method=\"spearman\"))) %>%\n",
    "    mutate(harm_ne = focal_harm_ne(mrca))\n",
    "\n",
    "cor_pcons = pidxy %>%\n",
    "    group_by(spp1,spp2, dt, mrca) %>% \n",
    "    do(tidy(cor.test(.$value, .$pcons_overlap, method=\"spearman\"))) %>%\n",
    "    mutate(harm_ne = focal_harm_ne(mrca))\n",
    "options(warn=-0)\n",
    "write.table(cor_rec, paste0(outpath,\"cor-pidxy-rec-rate_\",filemeta$desc,\".tsv\"), sep=\"\\t\", quote=FALSE, row.names=FALSE)\n",
    "write.table(cor_ex, paste0(outpath,\"cor-pidxy-exon_\",filemeta$desc,\".tsv\"), sep=\"\\t\", quote=FALSE, row.names=FALSE)\n",
    "write.table(cor_pcons, paste0(outpath,\"cor-pidxy-pcons_\",filemeta$desc,\".tsv\"), sep=\"\\t\", quote=FALSE, row.names=FALSE)\n",
    "\n",
    "if(0) {\n",
    "p_correc = ggplot(cor_rec, aes(x=dt, y=estimate, col=mrca, size=harm_ne)) +\n",
    "            geom_point() + \n",
    "            scale_colour_manual(values=col19palette) + \n",
    "            labs(y=\"Corr(Recombination, Pi/Dxy)\", x=\"TMRCA\", col=\"MRCA\", size=\"Ne\")+\n",
    "                guides(colour = guide_legend(title.position=\"top\"), size = guide_legend(title.position=\"top\"))\n",
    "\n",
    "p_corex = ggplot(cor_ex, aes(x=dt, y=estimate, col=mrca, size=harm_ne)) + \n",
    "            geom_point() + \n",
    "            scale_colour_manual(values=col19palette) + \n",
    "            labs(y=\"Corr(% Exon, Pi/Dxy)\", x=\"TMRCA\", col=\"MRCA\", size=\"Ne\")+\n",
    "                guides(colour = guide_legend(title.position=\"top\"), size = guide_legend(title.position=\"top\"))\n",
    "\n",
    "p_corpcons = ggplot(cor_pcons, aes(x=dt, y=estimate, col=mrca, size=harm_ne)) + \n",
    "                geom_point() + \n",
    "                scale_colour_manual(values=col19palette) + \n",
    "                labs(y=\"Corr(% PhastCons, Pi/Dxy)\", x=\"TMRCA\", col=\"MRCA\", size=\"Ne\")+\n",
    "                guides(colour = guide_legend(title.position=\"top\"), size = guide_legend(title.position=\"top\"))\n",
    "}"
   ]
  },
  {
   "cell_type": "code",
   "execution_count": null,
   "metadata": {},
   "outputs": [],
   "source": [
    "cor_pcons$annot = \"pcons\"\n",
    "cor_rec$annot = \"rec\"\n",
    "cor_ex$annot = \"ex\""
   ]
  },
  {
   "cell_type": "code",
   "execution_count": null,
   "metadata": {},
   "outputs": [],
   "source": [
    "cor_annots = rbind(cor_pcons, cor_ex, cor_rec)"
   ]
  },
  {
   "cell_type": "code",
   "execution_count": null,
   "metadata": {},
   "outputs": [],
   "source": [
    "cor_annots$annot = factor(cor_annots$annot, levels=c(\"ex\", \"rec\", \"pcons\"), labels=c(\"% exon\", \"rec rate\", \"% phastcons\"))"
   ]
  },
  {
   "cell_type": "code",
   "execution_count": null,
   "metadata": {},
   "outputs": [],
   "source": [
    "p_annot_correls =ggplot(cor_annots, aes(x=dt, y=estimate, col=mrca, size=harm_ne)) + \n",
    "                geom_point() + \n",
    "                scale_colour_manual(values=col19palette) + \n",
    "                labs(y=\"Corr(Annot, Pi/Dxy)\", x=\"TMRCA\", col=\"MRCA\", size=\"Ne\")+\n",
    "                facet_grid(annot~., scales=\"free_y\") +\n",
    "                guides(colour = guide_legend(title.position=\"top\"), size = guide_legend(title.position=\"top\"))\n",
    "ggsave(filename=paste0(outpath,figpath, \"annot-correls-tmrca_\",filemeta$desc,\".pdf\"), width = 4, height = 6.5, scale=1.2, units = \"in\")\n",
    "saveRDS(p_annot_correls, file = paste0(outpath,\"annot-correls-tmrca_\",filemeta$desc,\".rds\"))"
   ]
  },
  {
   "cell_type": "code",
   "execution_count": null,
   "metadata": {},
   "outputs": [],
   "source": [
    "# scatter plots of relationship between pidxy and annotations for each species-pair\n",
    "options(repr.plot.width=14, repr.plot.height=14)\n",
    "\n",
    "ggplot(data=pidxy, aes(y=value, x=ex_overlap, col=mean_rec)) +\n",
    "    geom_point(size=1) +\n",
    "        facet_wrap(vars(combo), scales=\"free_y\", labeller = label_wrap_gen(width=18)) +\n",
    "        labs(y=\"Pi/Dxy\", x=\"% Exon\", col=\"Rec rate\", subtitle=filemeta$desc) +\n",
    "        scale_colour_viridis_c(option=\"magma\", direction=-1)\n",
    "ggsave(filename=paste0(outpath, figpath,\"exon-scatter_\",filemeta$desc,\".pdf\"), width = 6.5, height = 4, scale=3, units = \"in\")\n",
    "\n",
    "ggplot(data=pidxy, aes(y=value, x=pcons_overlap, col=mean_rec)) +\n",
    "    geom_point(size=1) +\n",
    "    facet_wrap(vars(combo), scales=\"free_y\", labeller = label_wrap_gen(width=18)) +\n",
    "    labs(y=\"Pi/Dxy\", x=\"% PhastCons\", col=\"Rec rate\", subtitle=filemeta$desc) + \n",
    "    scale_colour_viridis_c(option=\"magma\", direction=-1)\n",
    "ggsave(filename=paste0(outpath, figpath,\"pcons-scatter_\",filemeta$desc,\".pdf\"), width = 6.5, height = 4, scale=3, units = \"in\")\n",
    "\n",
    "ggplot(data=pidxy, aes(y=value, x=mean_rec, col=ex_overlap)) + \n",
    "    geom_point(size=1) + \n",
    "    facet_wrap(vars(combo), scales=\"free_y\", labeller = label_wrap_gen(width=18)) + \n",
    "    labs(y=\"Pi/Dxy\", x=\"Rec rate\", col=\"% Exon\", subtitle=filemeta$desc) + \n",
    "scale_colour_viridis_c(direction=-1)\n",
    "ggsave(filename=paste0(outpath, figpath,\"rec-scatter_\",filemeta$desc,\".pdf\"), width = 6.5, height = 4, scale=3, units = \"in\")"
   ]
  },
  {
   "cell_type": "code",
   "execution_count": null,
   "metadata": {},
   "outputs": [],
   "source": [
    "qrec=90\n",
    "qex=90\n",
    "pidxy$dex = cut(pidxy$ex_overlap, \n",
    "                breaks=c(-Inf,quantile(pidxy$ex_overlap, qex/100, na.rm=TRUE), Inf), \n",
    "                labels=c(\"LO_EX\",\"HI_EX\"))\n",
    "pidxy$drec = cut(pidxy$mean_rec, \n",
    "                breaks=c(-Inf,quantile(pidxy$mean_rec, qrec/100, na.rm=TRUE), Inf), \n",
    "                labels=c(\"LO_REC\",\"HI_REC\"))"
   ]
  },
  {
   "cell_type": "code",
   "execution_count": null,
   "metadata": {},
   "outputs": [],
   "source": [
    "options(repr.plot.width=5, repr.plot.height=4)\n",
    "pidxy[!is.na(pidxy$mean_rec),] %>%\n",
    "    group_by(spp1, spp2, combo, stat, drec,dex, dt) %>%\n",
    "    summarize(meanval=mean(value)) %>%\n",
    "    ggplot(aes(x=dt, y=meanval, col=drec:dex)) + \n",
    "    geom_jitter(width=15000, height=0.0002, ) +\n",
    "    labs(subtitle=filemeta$desc) +\n",
    "    #geom_pointrange(stat = \"summary\",\n",
    "    #                fun.min = function(z) { mean(z) - sd(z) },\n",
    "    #                fun.max = function(z) { mean(z) + sd(z) },\n",
    "    #                fun = mean) +\n",
    "    geom_smooth(aes(x=dt, y=meanval, col=drec:dex), method=\"lm\", se=FALSE) +\n",
    "    labs(y=\"Pi/Dxy\", x=\"dT\", col=\"Rec:%Exon\", subtitle=filemeta$desc)\n",
    "ggsave(filename=paste0(outpath, figpath,\"pidxy-change-dt_\",filemeta$desc,\".pdf\"), width = 4, height = 3.5, units = \"in\")"
   ]
  },
  {
   "cell_type": "code",
   "execution_count": null,
   "metadata": {},
   "outputs": [],
   "source": [
    "pidxy"
   ]
  },
  {
   "cell_type": "code",
   "execution_count": null,
   "metadata": {},
   "outputs": [],
   "source": [
    "widepidxy = pidxy %>%\n",
    "    pivot_wider(id_cols = c(\"chr\", \"start\", \"end\", \"drec\", \"dex\"), names_from=c(\"stat\",\"combo\"), values_from = value)\n",
    "\n",
    "cormat = cor(widepidxy%>%dplyr::select(-c(\"chr\", \"start\", \"end\", \"drec\", \"dex\")), method=\"spearman\", use=\"complete.obs\")\n",
    "cormat[upper.tri(cormat)] <- NA\n",
    "\n",
    "longcor = reshape2::melt(cormat)\n",
    "if(1) {\n",
    "colnames(longcor) = c(\"stat_combo1\", \"stat_combo2\", \"value\")\n",
    "longcor = longcor[!is.na(longcor$value),]\n",
    "tmp = unique(pidxy[,c(\"spp1\", \"spp2\",\"stat\",\"combo\",\"mrca\")])\n",
    "tmp$sc = paste(tmp$stat, tmp$combo, sep=\"_\")\n",
    "\n",
    "longcor = left_join(longcor, tmp[,c(\"mrca\",\"stat\", \"sc\", \"spp1\", \"spp2\")], by=c(\"stat_combo1\"=\"sc\"))}"
   ]
  },
  {
   "cell_type": "code",
   "execution_count": null,
   "metadata": {},
   "outputs": [],
   "source": [
    "colnames(longcor) = c(\"stat_combo1\", \"stat_combo2\", \"value\", \"mrca1\", \"stat1\", \"spp1_1\", \"spp2_1\")"
   ]
  },
  {
   "cell_type": "code",
   "execution_count": null,
   "metadata": {},
   "outputs": [],
   "source": [
    "longcor = left_join(longcor, tmp[,c(\"mrca\", \"stat\",\"sc\", \"spp1\", \"spp2\")], by=c(\"stat_combo2\"=\"sc\"))"
   ]
  },
  {
   "cell_type": "code",
   "execution_count": null,
   "metadata": {},
   "outputs": [],
   "source": [
    "colnames(longcor)[8] = \"mrca2\"\n",
    "colnames(longcor)[9] = \"stat2\"\n",
    "colnames(longcor)[10] = \"spp1_2\"\n",
    "colnames(longcor)[11] = \"spp2_2\""
   ]
  },
  {
   "cell_type": "code",
   "execution_count": null,
   "metadata": {},
   "outputs": [],
   "source": [
    "longcor$granmrca = apply(longcor, 1, function(x) mrca_mat[x[4],x[8]])\n",
    "longcor$dt = apply(longcor, 1, function(x) dist_mat[x[4],x[8]])\n",
    "longcor$statcombo=apply(longcor, 1, function(x) paste(sort(c(x[5], x[9])), collapse=\"_\"))\n",
    "longcor = longcor[longcor$stat_combo1!=longcor$stat_combo2,] "
   ]
  },
  {
   "cell_type": "code",
   "execution_count": null,
   "metadata": {},
   "outputs": [],
   "source": [
    "longcor"
   ]
  },
  {
   "cell_type": "code",
   "execution_count": null,
   "metadata": {},
   "outputs": [],
   "source": [
    "longcor$p1 = apply(longcor,1,function(x) sapply(nodepath(tree, label_to_id(x[6], treetbl), label_to_id(x[7], treetbl)), id_to_label, treetbl=treetbl))\n",
    "longcor[longcor$stat1==\"dxy\",]$p1 = apply(longcor[longcor$stat1==\"dxy\",],1, function(x) setdiff(x[15][[1]], x[4]))"
   ]
  },
  {
   "cell_type": "code",
   "execution_count": null,
   "metadata": {},
   "outputs": [],
   "source": [
    "longcor$p2 = apply(longcor,1,function(x) sapply(nodepath(tree, label_to_id(x[10], treetbl), label_to_id(x[11], treetbl)), id_to_label, treetbl=treetbl))\n",
    "longcor[longcor$stat2==\"dxy\",]$p2 = apply(longcor[longcor$stat2==\"dxy\",],1, function(x) setdiff(x[16][[1]], x[8]))"
   ]
  },
  {
   "cell_type": "code",
   "execution_count": null,
   "metadata": {},
   "outputs": [],
   "source": [
    "longcor$shared_p = apply(longcor, 1, function(x) intersect(x[15][[1]],x[16][[1]]))"
   ]
  },
  {
   "cell_type": "code",
   "execution_count": null,
   "metadata": {},
   "outputs": [],
   "source": [
    "longcor$shared  = apply(longcor, 1, function(x) sum(unlist(sapply(x[17][[1]], function(y) edges[edges$edge==y]$gens))))\n",
    "longcor$denom_px  = apply(longcor, 1, function(x) sum(unlist(sapply(x[15][[1]], function(y) edges[edges$edge==y]$gens))))\n",
    "longcor$denom_py  = apply(longcor, 1, function(x) sum(unlist(sapply(x[16][[1]], function(y) edges[edges$edge==y]$gens))))"
   ]
  },
  {
   "cell_type": "code",
   "execution_count": null,
   "metadata": {},
   "outputs": [],
   "source": [
    "#longcor[longcor$stat1 == \"pi\",]$denom_px = 2*longcor[longcor$stat1 == \"pi\",]$denom_px\n",
    "#longcor[longcor$stat2 == \"pi\",]$denom_py = 2*longcor[longcor$stat2 == \"pi\",]$denom_py"
   ]
  },
  {
   "cell_type": "code",
   "execution_count": null,
   "metadata": {},
   "outputs": [],
   "source": [
    "longcor$px = longcor$shared / longcor$denom_px\n",
    "longcor$py = longcor$shared / longcor$denom_py"
   ]
  },
  {
   "cell_type": "code",
   "execution_count": null,
   "metadata": {},
   "outputs": [],
   "source": [
    "longcor$sqsqpxpy = (longcor$px * longcor$py) ^ (1/4)"
   ]
  },
  {
   "cell_type": "code",
   "execution_count": null,
   "metadata": {},
   "outputs": [],
   "source": [
    "longcor"
   ]
  },
  {
   "cell_type": "code",
   "execution_count": null,
   "metadata": {},
   "outputs": [],
   "source": [
    "longcor[longcor$spp1_1 == \"humans\" & longcor$spp2_1 == \"humans\",]"
   ]
  },
  {
   "cell_type": "code",
   "execution_count": null,
   "metadata": {},
   "outputs": [],
   "source": [
    "ne_spp = c(\"eastern-gorilla\", \"western-chimp\", \"bonobo\")\n",
    "ne_combo = paste0(\"pi_\",ne_spp)\n",
    "longcor$lowne=apply(longcor, 1, function(x) any(ne_combo %in% x[1])) | apply(longcor, 1, function(x) any(ne_combo %in% x[2]))"
   ]
  },
  {
   "cell_type": "code",
   "execution_count": null,
   "metadata": {},
   "outputs": [],
   "source": [
    "longcor$num_spp = apply(longcor, 1, function(x) length(unique(c(strsplit(str_remove(x[1], \"dxy_|pi_\"), \" \")[[1]], strsplit(str_remove(x[2], \"dxy_|pi_\"), \" \")[[1]]))))"
   ]
  },
  {
   "cell_type": "code",
   "execution_count": null,
   "metadata": {},
   "outputs": [],
   "source": [
    "head(longcor[longcor$spp1_1==\"central-chimp\" & longcor$spp2_1==\"humans\" & longcor$spp1_2==\"central-chimp\",])"
   ]
  },
  {
   "cell_type": "code",
   "execution_count": null,
   "metadata": {},
   "outputs": [],
   "source": [
    "longcor$has_shared = longcor$shared>1e-16"
   ]
  },
  {
   "cell_type": "code",
   "execution_count": null,
   "metadata": {},
   "outputs": [],
   "source": [
    "harmmeanne=apply(longcor[longcor$has_shared==TRUE,], 1, function(x) mean(unlist(sapply(x[17][[1]], function(y) edges[edges$edge==y]$N))))"
   ]
  },
  {
   "cell_type": "code",
   "execution_count": null,
   "metadata": {},
   "outputs": [],
   "source": [
    "harmmeanne = unname(harmmeanne)"
   ]
  },
  {
   "cell_type": "code",
   "execution_count": null,
   "metadata": {},
   "outputs": [],
   "source": [
    "longcor$harmne = NA"
   ]
  },
  {
   "cell_type": "code",
   "execution_count": null,
   "metadata": {},
   "outputs": [],
   "source": [
    "longcor[longcor$has_shared==TRUE,]$harmne = harmmeanne"
   ]
  },
  {
   "cell_type": "code",
   "execution_count": null,
   "metadata": {},
   "outputs": [],
   "source": [
    "head(longcor)"
   ]
  },
  {
   "cell_type": "code",
   "execution_count": null,
   "metadata": {},
   "outputs": [],
   "source": [
    "colnames(pidxy)"
   ]
  },
  {
   "cell_type": "code",
   "execution_count": null,
   "metadata": {},
   "outputs": [],
   "source": [
    "colnames(widepidxy)"
   ]
  },
  {
   "cell_type": "code",
   "execution_count": null,
   "metadata": {},
   "outputs": [],
   "source": [
    "colss = colnames(widepidxy)"
   ]
  },
  {
   "cell_type": "code",
   "execution_count": null,
   "metadata": {},
   "outputs": [],
   "source": []
  },
  {
   "cell_type": "code",
   "execution_count": null,
   "metadata": {},
   "outputs": [],
   "source": [
    "is_pi = grepl(\"pi_\", colss)\n",
    "is_dxy = grepl(\"dxy_\", colss)"
   ]
  },
  {
   "cell_type": "code",
   "execution_count": null,
   "metadata": {},
   "outputs": [],
   "source": [
    "sum(is_pi)"
   ]
  },
  {
   "cell_type": "code",
   "execution_count": null,
   "metadata": {},
   "outputs": [],
   "source": [
    "sum(is_dxy)"
   ]
  },
  {
   "cell_type": "code",
   "execution_count": null,
   "metadata": {},
   "outputs": [],
   "source": [
    "figpath"
   ]
  },
  {
   "cell_type": "code",
   "execution_count": null,
   "metadata": {},
   "outputs": [],
   "source": [
    "colnames(widepidxy)"
   ]
  },
  {
   "cell_type": "code",
   "execution_count": null,
   "metadata": {},
   "outputs": [],
   "source": [
    "PointsWithCor <- function(data, mapping, ..., method = \"spearman\") {\n",
    "  x <- eval_data_col(data, mapping$x)\n",
    "  y <- eval_data_col(data, mapping$y)\n",
    "  cor <- cor(x, y, method = method, use=\"complete.obs\")\n",
    "  ggally_points(data, mapping, ...) +\n",
    "    ggplot2::geom_label(\n",
    "      data = data.frame(\n",
    "        x = min(x, na.rm = TRUE),\n",
    "        y = max(y, na.rm = TRUE),\n",
    "        lab = round(cor, digits = 3)\n",
    "      ),\n",
    "      mapping = ggplot2::aes(x = x, y = y, label = lab),\n",
    "      hjust = 0, vjust = 1,\n",
    "      size = 5, fontface = \"bold\",\n",
    "      inherit.aes = FALSE # do not inherit anything from the ...\n",
    "    )\n",
    "}"
   ]
  },
  {
   "cell_type": "code",
   "execution_count": null,
   "metadata": {},
   "outputs": [],
   "source": [
    "ggpairs(widepidxy, columns=colss[is_pi], labeller = label_wrap_gen(width=16))+ theme_bw() +labs(subtitle=filemeta$desc)\n",
    "ggsave(filename=paste0(outpath, figpath,\"pairs-pipi_\",filemeta$desc,\".pdf\"), width = 6.5, height = 6.5, units = \"in\", scale = 2)"
   ]
  },
  {
   "cell_type": "code",
   "execution_count": null,
   "metadata": {},
   "outputs": [],
   "source": [
    "ggpairs(widepidxy, columns=colss[is_dxy], labeller = label_wrap_gen(width=16))+ theme_bw()+labs(subtitle=filemeta$desc)\n",
    "ggsave(filename=paste0(outpath, figpath,\"pairs-dxydxy_\",filemeta$desc,\".pdf\"), width = 6.5, height = 6.5, units = \"in\", scale = 2*4, limitsize = FALSE)"
   ]
  },
  {
   "cell_type": "code",
   "execution_count": null,
   "metadata": {},
   "outputs": [],
   "source": [
    "ggduo(widepidxy, colss[is_dxy], colss[is_pi], types=list(continuous = PointsWithCor), labeller = label_wrap_gen(width=16))+ theme_bw()+labs(subtitle=filemeta$desc)\n",
    "ggsave(filename=paste0(outpath, figpath,\"pairs-pidxy_\",filemeta$desc,\".pdf\"), width = 6.5*4, height = 6.5, units = \"in\", scale = 2, limitsize = FALSE)\n",
    "ggduo(widepidxy, mapping = aes(col = drec), colss[is_dxy], colss[is_pi], types=list(continuous = PointsWithCor), labeller = label_wrap_gen(width=16))+ theme_bw()+labs(subtitle=filemeta$desc)\n",
    "ggsave(filename=paste0(outpath, figpath,\"pairs-pidxy-colbyrec_\",filemeta$desc,\".pdf\"), width = 6.5*4, height = 6.5, units = \"in\", scale = 2, limitsize = FALSE)\n",
    "ggduo(widepidxy, mapping = aes(col = dex), colss[is_dxy], colss[is_pi], types=list(continuous = PointsWithCor), labeller = label_wrap_gen(width=16))+ theme_bw()+labs(subtitle=filemeta$desc)\n",
    "ggsave(filename=paste0(outpath, figpath,\"pairs-pidxy-colbyex_\",filemeta$desc,\".pdf\"), width = 6.5*4, height = 6.5, units = \"in\", scale = 2, limitsize = FALSE)"
   ]
  },
  {
   "cell_type": "code",
   "execution_count": null,
   "metadata": {},
   "outputs": [],
   "source": [
    "colnames(longcor)"
   ]
  },
  {
   "cell_type": "code",
   "execution_count": null,
   "metadata": {},
   "outputs": [],
   "source": [
    "# options(repr.plot.width=5, repr.plot.height=4)\n",
    "statcombolabs = c(`dxy_dxy`=\"d[XY]-d[XY]\", `dxy_pi`=\"d[XY]-pi\", `pi_pi`=\"pi-pi\")\n",
    "lownelabs = c(`TRUE`=\"Yes\", `False`=\"No\")\n",
    "p_dt = ggplot(longcor[longcor$has_shared == FALSE,], aes(y=value, x=dt, label=stat_combo1, label2=stat_combo2, shape=lowne, col=factor(num_spp))) + \n",
    "    geom_point() +\n",
    "    scale_shape_manual(values=c(19, 18), labels=c(\"No\", \"Yes\")) +\n",
    "    scale_x_continuous(labels = label_number(scale = 1e-3)) +\n",
    "    scale_color_viridis_d(direction=-1, end=0.7) +\n",
    "    facet_grid(.~factor(statcombo, levels=c(\"pi_pi\", \"dxy_pi\", \"dxy_dxy\")), scales=\"free\", labeller=as_labeller(statcombolabs, default=label_parsed)) +\n",
    "    labs(x=bquote(\"dT (\"*10^3*\")\"), y=\"Correlation between landscapes\", shape=bquote(pi*\" in low \"*N[e]*\" species?\"), col=\"Number of species involved\\nin the comparison\", subtitle=filemeta$desc) +\n",
    "    ylim(0,1) +\n",
    "    guides(colour = guide_legend(title.position=\"top\"), shape = guide_legend(title.position=\"top\"))\n",
    "\n",
    "p_dt\n",
    "saveRDS(longcor, file = paste0(outpath,\"long-cor_\",filemeta$desc,\".rds\"))\n",
    "saveRDS(p_dt, file = paste0(outpath,\"cor-pidxy-dT_\",filemeta$desc,\".rds\"))\n",
    "ggsave(filename=paste0(outpath, figpath,\"cor-pidxy-dT_\",filemeta$desc,\".pdf\"), width = 6.5, height = 3.5, units = \"in\")"
   ]
  },
  {
   "cell_type": "code",
   "execution_count": null,
   "metadata": {},
   "outputs": [],
   "source": [
    "# options(repr.plot.width=5, repr.plot.height=4)\n",
    "statcombolabs = c(`dxy_dxy`=\"d[XY]-d[XY]\", `dxy_pi`=\"d[XY]-pi\", `pi_pi`=\"pi-pi\")\n",
    "lownelabs = c(`TRUE`=\"Yes\", `False`=\"No\")\n",
    "p_bo = ggplot(longcor[longcor$has_shared == TRUE,], aes(y=value, x=sqsqpxpy, label=stat_combo1, label2=stat_combo2, shape=lowne, col=factor(num_spp))) + \n",
    "    geom_point() +\n",
    "    scale_shape_manual(values=c(19, 18), labels=c(\"No\", \"Yes\")) +\n",
    "    scale_color_viridis_d(direction=-1, end=0.7) +\n",
    "    facet_grid(.~factor(statcombo, levels=c(\"pi_pi\", \"dxy_pi\", \"dxy_dxy\")), scales=\"free\", labeller=as_labeller(statcombolabs, default=label_parsed)) +\n",
    "    labs(x=bquote(\"Branch overlap (\"~sqrt(p[X]*p[Y],4)~\")\"), y=\"Correlation between landscapes\", shape=bquote(pi*\" in low \"*N[e]*\" species?\"), col=\"Number of species involved\\nin the comparison\", subtitle=filemeta$desc) +\n",
    "    ylim(0,1) +\n",
    "    guides(colour = guide_legend(title.position=\"top\"), shape = guide_legend(title.position=\"top\"))\n",
    "\n",
    "p_bo\n",
    "ggsave(filename=paste0(outpath, figpath,\"cor-pidxy-branchoverlap_\",filemeta$desc,\".pdf\"), width = 6.5, height = 3.5, units = \"in\")"
   ]
  },
  {
   "cell_type": "code",
   "execution_count": null,
   "metadata": {},
   "outputs": [],
   "source": [
    "m1 = lm(value~1, data=longcor[longcor$has_shared == FALSE & longcor$statcombo==\"dxy_dxy\",])\n",
    "m2 = lm(value~dt, data=longcor[longcor$has_shared == FALSE & longcor$statcombo==\"dxy_dxy\",])\n",
    "AIC(m1,m2)"
   ]
  },
  {
   "cell_type": "code",
   "execution_count": null,
   "metadata": {},
   "outputs": [],
   "source": [
    "m1 = lm(value~1, data=longcor[longcor$has_shared == TRUE & longcor$statcombo==\"dxy_dxy\",])\n",
    "m2 = lm(value~sqsqpxpy, data=longcor[longcor$has_shared == TRUE & longcor$statcombo==\"dxy_dxy\",])\n",
    "AIC(m1,m2)"
   ]
  },
  {
   "cell_type": "code",
   "execution_count": null,
   "metadata": {},
   "outputs": [],
   "source": [
    "longcor$dtmeane = longcor$dt/longcor$harmne"
   ]
  },
  {
   "cell_type": "code",
   "execution_count": null,
   "metadata": {},
   "outputs": [],
   "source": [
    "m3=lm(m2$residuals~dtmeane, data=longcor[longcor$has_shared == TRUE & longcor$statcombo==\"dxy_dxy\",])"
   ]
  },
  {
   "cell_type": "code",
   "execution_count": null,
   "metadata": {},
   "outputs": [],
   "source": [
    "plot(m2$residuals~dtmeane, data=longcor[longcor$has_shared == TRUE & longcor$statcombo==\"dxy_dxy\",])"
   ]
  },
  {
   "cell_type": "code",
   "execution_count": null,
   "metadata": {},
   "outputs": [],
   "source": [
    "write.table(subset(longcor, select=-c(p1,p2, shared_p)), paste0(outpath,\"cor-pidxy-pidxy_\",filemeta$desc,\".tsv\"), sep=\"\\t\", quote=FALSE, row.names=FALSE)"
   ]
  },
  {
   "cell_type": "code",
   "execution_count": null,
   "metadata": {},
   "outputs": [],
   "source": [
    "pp = ggplotly(p_dt)\n",
    "htmlwidgets::saveWidget(as_widget(pp), paste0(outpath, figpath,\"cor-pidxy-dT_\",filemeta$desc,\".html\"))"
   ]
  },
  {
   "cell_type": "code",
   "execution_count": null,
   "metadata": {},
   "outputs": [],
   "source": [
    "pp = ggplotly(p_bo)\n",
    "htmlwidgets::saveWidget(as_widget(pp), paste0(outpath, figpath,\"cor-pidxy-branchoverlap_\",filemeta$desc,\".html\"))"
   ]
  },
  {
   "cell_type": "code",
   "execution_count": null,
   "metadata": {},
   "outputs": [],
   "source": [
    "pidxy[pidxy$combo==\"humans\" & pidxy$stat==\"pi\" & !is.na(pidxy$value) & pidxy$chr==\"chr22\",]"
   ]
  },
  {
   "cell_type": "code",
   "execution_count": null,
   "metadata": {},
   "outputs": [],
   "source": [
    "options(repr.plot.width=50, repr.plot.height=3)\n",
    "\n",
    "# corr exon and recombination rate\n",
    "pidxy$chr = factor(pidxy$chr, levels=paste0(\"chr\", 1:22))\n",
    "cor_rec_ex = with(pidxy[pidxy$combo==\"humans\" & pidxy$stat==\"pi\",],cor.test(mean_rec,ex_overlap, use=\"complete.obs\"))\n",
    "\n",
    "coly1 = \"#8a501a\"\n",
    "coly2 = \"#7a387c\"\n",
    "p_rec_ex = ggplot(data=pidxy[pidxy$combo==\"humans\" & pidxy$stat==\"pi\" & !is.na(pidxy$value),], aes(x=start)) + \n",
    "                geom_line(aes(y=mean_rec), col=coly1) + geom_line( aes(y=ex_overlap / 3), col=coly2) + \n",
    "                geom_point(aes(y=mean_rec), col=coly1, size=0.5) + geom_point( aes(y=ex_overlap / 3), col=coly2, size=0.5) + \n",
    "                facet_grid(.~chr, scales = \"free_x\", space=\"free_x\") +\n",
    "                stat_cor(aes(x=mean_rec, y=ex_overlap, label = ..r.label..), method=\"spearman\", label.y=6.5, label.x=3e7) +\n",
    "                scale_y_continuous(name = \"Rec rate\", sec.axis = sec_axis(~.*2, name=\"% Exon\")) + \n",
    "                theme(axis.title.y = element_text(color = coly1), axis.title.y.right = element_text(color = coly2))  + \n",
    "                theme(legend.margin=margin(t=0, r=0, b=0, l=-1, unit=\"cm\"))\n",
    "p_rec_ex\n"
   ]
  },
  {
   "cell_type": "code",
   "execution_count": null,
   "metadata": {},
   "outputs": [],
   "source": [
    "options(repr.plot.width=50, repr.plot.height=10)\n",
    "\n",
    "col10palette = c(\"#cb5e95\", \"#9bd345\", \"#9242c5\", \"#7ecf93\", \"#665ea9\", \"#cba657\", \"#523240\", \"#c3533b\", \"#99afc0\", \"#53673c\")\n",
    "col9palette = c(\"#7dcd5b\",\"#904cc2\",\"#cbb354\",\"#4b2f51\",\"#8bc6af\",\"#c65381\",\"#575c3a\",\"#c2593b\",\"#9898c4\")\n",
    "p_land = ggplot(data = pidxy, aes(x=start, y=value, group=combo)) +\n",
    "            geom_line(aes(col=mrca)) +\n",
    "            facet_grid(stat~chr, scales=\"free\", space=\"free_x\") +\n",
    "            scale_colour_manual(values=c(col10palette,col9palette)) +\n",
    "            labs(y=\"Diversity\", x=\"Window\", col=\"Species\") +\n",
    "            theme(legend.margin=margin(t=0, r=0, b=0, l=0, unit=\"cm\"))\n",
    "p_land"
   ]
  },
  {
   "cell_type": "code",
   "execution_count": null,
   "metadata": {},
   "outputs": [],
   "source": [
    "if (\"chr12\" %in% unique(pidxy$chr)) {\n",
    "    subchr = \"chr12\"\n",
    "} else {\n",
    "    subchr = unique(pidxy$chr)[1]\n",
    "}"
   ]
  },
  {
   "cell_type": "code",
   "execution_count": null,
   "metadata": {},
   "outputs": [],
   "source": [
    "options(repr.plot.width=15, repr.plot.height=5)\n",
    "statlabs = c(`dxy`=\"d[XY]\", `pi`=\"pi\")\n",
    "spp_subset=c(\"humans\", \"bonobo\", \"bornean-orangutan\", \"western-gorilla\", \"central-chimp\")\n",
    "col5pal = c(\"#ab62c0\",\"#6ca659\",\"#ca556a\",\"#648ace\",\"#c2843c\")\n",
    "col4pal = c(\"#b98d3e\",\"#9970c1\",\"#64a860\",\"#cc545e\")\n",
    "subpidxy = pidxy[chr==subchr & spp1 %in% spp_subset & spp2 %in% spp_subset]\n",
    "subpidxy = subpidxy %>%\n",
    "  mutate(label = if_else(start == max(start) & value, as.character(mrca), NA_character_))\n",
    "subpidxy$label[duplicated(subpidxy$label)] = NA_character_\n",
    "\n",
    "p_land_chr = ggplot(data = subpidxy, aes(x=start, y=value, group=combo)) +\n",
    "            geom_line(aes(col=mrca)) +\n",
    "            facet_wrap(.~factor(stat, levels=c(\"pi\", \"dxy\")), scales=\"free\", labeller=as_labeller(statlabs, default=label_parsed)) +\n",
    "            scale_colour_manual(values=c(col5pal,col4pal)) +\n",
    "            labs(y=\"Value\", x=\"Window\", col=\"Species\", subtitle=filemeta$desc) +\n",
    "            theme(legend.margin=margin(t=0, r=0, b=0, l=0, unit=\"cm\"), legend.position=\"bottom\", legend.box=\"vertical\") +\n",
    "            guides(colour = guide_legend(nrow = 2, byrow=TRUE)) +\n",
    "            geom_text_repel(aes(label = label, col=mrca),\n",
    "                  nudge_x = 1,\n",
    "                  na.rm = TRUE, force_pull=3.2, xlim=c(1.28e8,NA), size=2) +\n",
    "            xlim(0, 1.58e8) + guides(color=FALSE)\n",
    "p_land_chr\n",
    "\n",
    "ggsave(filename=paste0(outpath, figpath,\"subset-\",subchr,\"-landscapes_\",filemeta$desc,\".pdf\"),\n",
    "       width = 6.5, height = 2.1, units = \"in\", scale=1, limitsize=FALSE)\n",
    "saveRDS(p_land_chr, file = paste0(outpath, \"subset-\",subchr,\"-landscapes_\",filemeta$desc,\".rds\"))\n",
    "\n",
    "\n",
    "(p_land / p_rec_ex) + plot_layout(heights = c(3, 1))\n",
    "ggsave(filename=paste0(outpath, figpath,\"all-landscapes_\",filemeta$desc,\".pdf\"), width = 200*22, height = 420, units = \"mm\", limitsize=FALSE)"
   ]
  },
  {
   "cell_type": "code",
   "execution_count": null,
   "metadata": {},
   "outputs": [],
   "source": [
    "#hum12 = pidxy[pidxy$combo==\"humans\" & pidxy$stat==\"pi\" & !is.na(pidxy$value) & pidxy$chr==\"chr22\",]\n",
    "#head(hum12)"
   ]
  },
  {
   "cell_type": "code",
   "execution_count": null,
   "metadata": {},
   "outputs": [],
   "source": [
    "#hum12 = hum12  %>% complete(start=full_seq(start, filemeta$win_size))"
   ]
  },
  {
   "cell_type": "code",
   "execution_count": null,
   "metadata": {},
   "outputs": [],
   "source": [
    "#acf(hum12$value, na.action = na.pass)"
   ]
  },
  {
   "cell_type": "code",
   "execution_count": null,
   "metadata": {},
   "outputs": [],
   "source": [
    "#pacf(hum12$value, na.action = na.pass)"
   ]
  },
  {
   "cell_type": "code",
   "execution_count": null,
   "metadata": {},
   "outputs": [],
   "source": [
    "?ts"
   ]
  },
  {
   "cell_type": "code",
   "execution_count": null,
   "metadata": {},
   "outputs": [],
   "source": [
    "x = data.frame(x=c(0), y=c(1,2,4,8), z=c(\"chr1\", \"chr2\"))"
   ]
  },
  {
   "cell_type": "code",
   "execution_count": null,
   "metadata": {},
   "outputs": [],
   "source": [
    "x"
   ]
  },
  {
   "cell_type": "code",
   "execution_count": null,
   "metadata": {},
   "outputs": [],
   "source": [
    "x%>%group_by(z) %>% complete(y=full_seq(y, 1))"
   ]
  },
  {
   "cell_type": "markdown",
   "metadata": {},
   "source": [
    "# SEE FROM HERE ON"
   ]
  },
  {
   "cell_type": "code",
   "execution_count": null,
   "metadata": {},
   "outputs": [],
   "source": [
    "# getting internal and external branches\n",
    "external_branches = tree$tip.label\n",
    "internal_branches = setdiff(tree$node.label, c(tree$tip.label, \"great-apes\"))"
   ]
  },
  {
   "cell_type": "code",
   "execution_count": null,
   "metadata": {},
   "outputs": [],
   "source": [
    "unique(as.character(pidxy$chr))[1]"
   ]
  },
  {
   "cell_type": "code",
   "execution_count": null,
   "metadata": {},
   "outputs": [],
   "source": [
    "all_sols = list()\n",
    "for (ch in unique(as.character(pidxy$chr))) {\n",
    "    # figuring out new variables with independent components of the branches in the tree\n",
    "    new_vars = c(paste(\"pi\",external_branches, sep=\"_\"), paste(\"N\", c(internal_branches, external_branches), sep=\"_\"))\n",
    "    new_vars\n",
    "\n",
    "    # isolating one window from one chromosome\n",
    "    chr1 = pidxy[pidxy$chr==ch,]\n",
    "    chr1 = data.frame(chr1)\n",
    "    chr1 %>% mutate(across(where(is.factor), as.character)) -> chr1\n",
    "\n",
    "    # long to wide, widening over windows\n",
    "    chr1l = chr1 %>% pivot_wider(id_cols=c(\"spp1\",\"spp2\",\"combo\",\"mrca\",\"ancestral_coding\",\"N\",\"stat\",\"chr\"), \n",
    "                                 names_from=c(\"start\", \"end\"), \n",
    "                                 values_from = \"value\")\n",
    "\n",
    "    # getting the matrix with coefficients relating old variables (pi and dxys) to the new variables\n",
    "    M=t(apply(chr1l, 1, get_mrow, cols=new_vars, tree=tree, treetbl=treetbl))\n",
    "\n",
    "    # note we cannot distinguishe the two Ns branching off the root (orangutans and african-apes)\n",
    "    # and indeed, the rank of our matrix is 27 (and not 28)\n",
    "    ncol(M)\n",
    "    qr(M)$rank\n",
    "    # collapsing the two branches coming from the root - we can't distinguish them\n",
    "    i_orangs = which(new_vars==\"N_orangutans\")\n",
    "    new_vars = new_vars[new_vars!=\"N_orangutans\"]\n",
    "    new_vars[new_vars==\"N_african-apes\"] = \"N_african-apes-orangutans\"\n",
    "    M=M[,-i_orangs]\n",
    "\n",
    "    # solving the linear system to get new variables\n",
    "    sol = ginv(M) %*% as.matrix(chr1l[,9:ncol(chr1l)])\n",
    "\n",
    "    options(repr.plot.width=4, repr.plot.height=4)\n",
    "    # making sure we can go back to original variables\n",
    "    #plot((M %*% sol), as.matrix(chr1l[,9:ncol(chr1l)]))\n",
    "    all_sols[[ch]] = cbind(t(sol), ch, colnames(sol))\n",
    "    colnames(all_sols[[ch]]) = c(new_vars, \"chr\", \"startend\")\n",
    "}"
   ]
  },
  {
   "cell_type": "code",
   "execution_count": null,
   "metadata": {},
   "outputs": [],
   "source": [
    "new_vars"
   ]
  },
  {
   "cell_type": "code",
   "execution_count": null,
   "metadata": {},
   "outputs": [],
   "source": [
    "vec = round(ginv(M)[new_vars==\"N_humans\"]*40, digits=2)"
   ]
  },
  {
   "cell_type": "code",
   "execution_count": null,
   "metadata": {},
   "outputs": [],
   "source": [
    "vnames = apply(chr1l,1, function(x) paste(x[1], x[2]))"
   ]
  },
  {
   "cell_type": "code",
   "execution_count": null,
   "metadata": {},
   "outputs": [],
   "source": [
    "cbind(vec, vnames)"
   ]
  },
  {
   "cell_type": "code",
   "execution_count": null,
   "metadata": {},
   "outputs": [],
   "source": [
    "pin = data.frame(do.call(rbind, all_sols))\n",
    "rownames(pin) = NULL"
   ]
  },
  {
   "cell_type": "code",
   "execution_count": null,
   "metadata": {},
   "outputs": [],
   "source": [
    "stopifnot(nrow(pin) == nrow(unique(pidxy[,c(\"chr\", \"start\", \"end\")])))"
   ]
  },
  {
   "cell_type": "code",
   "execution_count": null,
   "metadata": {},
   "outputs": [],
   "source": [
    "numcols = setdiff(colnames(pin), c(\"chr\", \"startend\"))\n",
    "pin[numcols] = sapply(pin[numcols], as.numeric)"
   ]
  },
  {
   "cell_type": "code",
   "execution_count": null,
   "metadata": {},
   "outputs": [],
   "source": [
    "pin[c(\"start\", \"end\")] = t(sapply(str_split(pin$startend, \"_\"), as.numeric))"
   ]
  },
  {
   "cell_type": "code",
   "execution_count": null,
   "metadata": {},
   "outputs": [],
   "source": [
    "head(pin)"
   ]
  },
  {
   "cell_type": "code",
   "execution_count": null,
   "metadata": {},
   "outputs": [],
   "source": [
    "# joining with rec map\n",
    "pin = as.data.table(genome_left_join(pin, rec_map, by = c(\"chr\",\"start\", \"end\"), minoverlap=2)) # minoverlap bc end is not inclusive\n",
    "pin[, percent:= (end.y-start.y)/(end.x-start.x)]\n",
    "pin=pin[, .(mean_rec = weighted.mean(mean_rate, percent)), by=setdiff(colnames(pin), c(\"rate\", \"start.y\", \"end.y\", \"chr\", \"percent\", \"mean_rate\"))]\n",
    "setnames(pin, c(\"chr.x\",\"start.x\", \"end.x\"), c(\"chr\",\"start\",\"end\"))\n",
    "pin[,c(\"chr.y\") := NULL]"
   ]
  },
  {
   "cell_type": "code",
   "execution_count": null,
   "metadata": {},
   "outputs": [],
   "source": [
    "# joining with exons\n",
    "pin = as.data.table(genome_left_join(pin, exons, by = c(\"chr\", \"start\", \"end\"), minoverlap=2))\n",
    "pin[, percent:= (end.y-start.y)/(end.x-start.x)]\n",
    "pin[is.na(pin$percent)]$percent=0\n",
    "pin=pin[, .(ex_overlap = sum(percent)), by=setdiff(colnames(pin), c(\"start.y\", \"chr\", \"end.y\", \"percent\"))]\n",
    "setnames(pin, c(\"chr.x\", \"start.x\", \"end.x\"), c(\"chr\",\"start\",\"end\"))\n",
    "pin[, ex_overlap := 100*ex_overlap]\n",
    "pin[,c(\"chr.y\") := NULL]\n",
    "pin[is.na(pin$ex_overlap), ]$ex_overlap = 0"
   ]
  },
  {
   "cell_type": "code",
   "execution_count": null,
   "metadata": {},
   "outputs": [],
   "source": [
    "# joining with phastcons\n",
    "pin = as.data.table(genome_left_join(pin, phastcons, by = c(\"chr\", \"start\", \"end\"), minoverlap=2))\n",
    "pin[, percent:= (end.y-start.y)/(end.x-start.x)]\n",
    "pin[is.na(pin$percent)]$percent=0\n",
    "pin=pin[, .(pcons_overlap = sum(percent)), by=setdiff(colnames(pin), c(\"start.y\", \"chr\", \"end.y\", \"percent\"))]\n",
    "setnames(pin, c(\"chr.x\", \"start.x\", \"end.x\"), c(\"chr\",\"start\",\"end\"))\n",
    "pin[, pcons_overlap := 100*pcons_overlap]\n",
    "pin[,c(\"chr.y\") := NULL]"
   ]
  },
  {
   "cell_type": "code",
   "execution_count": null,
   "metadata": {},
   "outputs": [],
   "source": [
    "# correlations between rec,ex and pcons, and pidxy\n",
    "options(warn=-1)\n",
    "rec_percentile=0.7\n",
    "pin$high_rec = pin$mean_rec > quantile(pin$mean_rec, rec_percentile, na.rm = T)\n",
    "pin[is.na(pin$high_rec),]$high_rec = FALSE\n",
    "recbin_labels = c(\"TRUE\" = \"High recombination (top 10%)\",\n",
    "                 \"FALSE\" = \"Low recombination (bottom 90%)\")\n",
    "pinw = pin"
   ]
  },
  {
   "cell_type": "code",
   "execution_count": null,
   "metadata": {},
   "outputs": [],
   "source": [
    "pin = pin %>%\n",
    "    pivot_longer(cols = starts_with(\"pi\") | starts_with(\"N\")) %>%\n",
    "    separate(name,  c(\"stat\", \"branch\"), \"_\")"
   ]
  },
  {
   "cell_type": "code",
   "execution_count": null,
   "metadata": {},
   "outputs": [],
   "source": [
    "head(pin)"
   ]
  },
  {
   "cell_type": "code",
   "execution_count": null,
   "metadata": {},
   "outputs": [],
   "source": [
    "pin$stat = factor(pin$stat, levels=c(\"pi\", \"N\"))"
   ]
  },
  {
   "cell_type": "code",
   "execution_count": null,
   "metadata": {},
   "outputs": [],
   "source": [
    "pin$branch = str_replace(pin$branch, pattern = \"\\\\.\", replace=\"-\")"
   ]
  },
  {
   "cell_type": "code",
   "execution_count": null,
   "metadata": {},
   "outputs": [],
   "source": [
    "new_edge = t(data.frame(c(\"african-apes-orangutans\", \"great-apes\", 22,\n",
    "                          apply(edges[edges$edge %in% c(\"african-apes\",\"orangutans\"), c(\"N\")],2,mean),\n",
    "                          apply(edges[edges$edge %in% c(\"african-apes\",\"orangutans\"), c(\"gens\", \"edge_age_kya\")],2,sum))))\n",
    "pin = dplyr::left_join(pin, \n",
    "                       rbind(edges[,c(\"edge\", \"parent\", \"ancestral_coding\", \"N\", \"gens\", \"edge_age_kya\")],\n",
    "                             new_edge,\n",
    "                             use.names = FALSE),\n",
    "                       by=c(\"branch\"=\"edge\"))\n",
    "\n"
   ]
  },
  {
   "cell_type": "code",
   "execution_count": null,
   "metadata": {},
   "outputs": [],
   "source": [
    "head(pin)"
   ]
  },
  {
   "cell_type": "code",
   "execution_count": null,
   "metadata": {},
   "outputs": [],
   "source": [
    "u = unique(pin[,c(\"branch\", \"ancestral_coding\", \"gens\")])\n",
    "u$ancestral_coding = as.numeric(u$ancestral_coding)"
   ]
  },
  {
   "cell_type": "code",
   "execution_count": null,
   "metadata": {},
   "outputs": [],
   "source": [
    "pin$branch = factor(pin$branch, levels = u$branch[order(u$ancestral_coding)])"
   ]
  },
  {
   "cell_type": "code",
   "execution_count": null,
   "metadata": {},
   "outputs": [],
   "source": [
    "# scatter plots of relationship between pidxy and annotations for each species-pair\n",
    "options(repr.plot.width=14, repr.plot.height=14)\n",
    "\n",
    "ggplot(data=pin, aes(y=value, x=ex_overlap, col=mean_rec)) +\n",
    "    geom_point(size=1) +\n",
    "        facet_wrap(vars(branch, stat), scales=\"free_y\", labeller = label_wrap_gen(width=18)) +\n",
    "        labs(y=\"Pi/N\", x=\"% Exon\", col=\"Rec rate\", subtitle=filemeta$desc) +\n",
    "        scale_colour_viridis_c(option=\"magma\", direction=-1)\n",
    "ggsave(filename=paste0(outpath, figpath,\"exon-scatter-piN_\",filemeta$desc,\".pdf\"), width = 500, height = 400, units = \"mm\")\n",
    "\n",
    "ggplot(data=pin, aes(y=value, x=pcons_overlap, col=mean_rec)) +\n",
    "    geom_point(size=1) +\n",
    "    facet_wrap(vars(branch, stat), scales=\"free_y\", labeller = label_wrap_gen(width=18)) +\n",
    "    labs(y=\"Pi/N\", x=\"% PhastCons\", col=\"Rec rate\", subtitle=filemeta$desc) + \n",
    "    scale_colour_viridis_c(option=\"magma\", direction=-1)\n",
    "ggsave(filename=paste0(outpath, figpath,\"pcons-scatter-piN_\",filemeta$desc,\".pdf\"), width = 500, height = 400, units = \"mm\")\n",
    "\n",
    "ggplot(data=pin, aes(y=value, x=mean_rec, col=ex_overlap)) + \n",
    "    geom_point(size=1) + \n",
    "    facet_wrap(vars(branch, stat), scales=\"free_y\", labeller = label_wrap_gen(width=18)) + \n",
    "    labs(y=\"Pi/Dxy\", x=\"Rec rate\", col=\"% Exon\", subtitle=filemeta$desc) + \n",
    "scale_colour_viridis_c(direction=-1)\n",
    "ggsave(filename=paste0(outpath, figpath,\"rec-scatter-piN_\",filemeta$desc,\".pdf\"), width = 500, height = 400, units = \"mm\")"
   ]
  },
  {
   "cell_type": "code",
   "execution_count": null,
   "metadata": {},
   "outputs": [],
   "source": [
    "cormat = cor(pinw%>%dplyr::select(-c(\"chr\", \"start\", \"end\", \"startend\", \"mean_rec\", \"ex_overlap\", \"pcons_overlap\", \"high_rec\")), method=\"spearman\")\n",
    "#cormat[upper.tri(cormat)] <- NA"
   ]
  },
  {
   "cell_type": "code",
   "execution_count": null,
   "metadata": {},
   "outputs": [],
   "source": [
    "cormat"
   ]
  },
  {
   "cell_type": "code",
   "execution_count": null,
   "metadata": {},
   "outputs": [],
   "source": [
    "lcormat = melt(cormat)\n",
    "lcormat = lcormat[!is.na(lcormat$value),]"
   ]
  },
  {
   "cell_type": "code",
   "execution_count": null,
   "metadata": {},
   "outputs": [],
   "source": [
    "lcormat$Var1 = str_replace(lcormat$Var1, pattern = \"\\\\.\", replace=\"-\")"
   ]
  },
  {
   "cell_type": "code",
   "execution_count": null,
   "metadata": {},
   "outputs": [],
   "source": [
    "lcormat$Var2 = str_replace(lcormat$Var2, pattern = \"\\\\.\", replace=\"-\")"
   ]
  },
  {
   "cell_type": "code",
   "execution_count": null,
   "metadata": {},
   "outputs": [],
   "source": [
    "lcormat = lcormat %>% separate(Var1, c(\"stat1\", \"spp1\"), \"_\") %>% separate(Var2, c(\"stat2\", \"spp2\"), \"_\")"
   ]
  },
  {
   "cell_type": "code",
   "execution_count": null,
   "metadata": {},
   "outputs": [],
   "source": [
    "utree = unroot(tree)\n",
    "utreetbl = as_tibble(utree)\n",
    "udist_mat = dist.nodes(utree)"
   ]
  },
  {
   "cell_type": "code",
   "execution_count": null,
   "metadata": {},
   "outputs": [],
   "source": [
    "utree$node.label"
   ]
  },
  {
   "cell_type": "code",
   "execution_count": null,
   "metadata": {},
   "outputs": [],
   "source": [
    "str(utree)"
   ]
  },
  {
   "cell_type": "code",
   "execution_count": null,
   "metadata": {},
   "outputs": [],
   "source": [
    "udistmat = dist.nodes(utree)"
   ]
  },
  {
   "cell_type": "code",
   "execution_count": null,
   "metadata": {},
   "outputs": [],
   "source": [
    "strsplit(lcormat[11,]$spp1, \"\\\\.\")"
   ]
  },
  {
   "cell_type": "code",
   "execution_count": null,
   "metadata": {},
   "outputs": [],
   "source": [
    "dist_between_branches = function(spp1, spp2, udistmat, utreetbl) {\n",
    "    s1 = spp1\n",
    "    s2 = spp1\n",
    "    s3 = spp2\n",
    "    if (spp1 == \"african-apes.orangutans\") {\n",
    "        s1 = \"african-apes\"\n",
    "        s2 = \"orangutans\"\n",
    "        s3 = spp2\n",
    "    } else if(spp2 == \"african-apes.orangutans\") {\n",
    "        s1 = \"african-apes\"\n",
    "        s2 = \"orangutans\"\n",
    "        s3 = spp1\n",
    "    }\n",
    "    d1 = udistmat[label_to_id(s1, utreetbl),label_to_id(s3, utreetbl)]\n",
    "    d2 = udistmat[label_to_id(s2, utreetbl),label_to_id(s3, utreetbl)]\n",
    "    return(min(c(d1,d2)))\n",
    "}"
   ]
  },
  {
   "cell_type": "code",
   "execution_count": null,
   "metadata": {},
   "outputs": [],
   "source": [
    "head(lcormat)"
   ]
  },
  {
   "cell_type": "code",
   "execution_count": null,
   "metadata": {},
   "outputs": [],
   "source": [
    "lcormat$dt = apply(lcormat,1, function(x) dist_between_branches(x[2], x[4], udistmat, utreetbl))\n",
    "lcormat$statcombo = paste(lcormat$stat1, lcormat$stat2, sep=\"_\")\n",
    "lcormat$statcombo1 = paste(lcormat$stat1, lcormat$spp1, sep=\"_\")\n",
    "lcormat$statcombo2 = paste(lcormat$stat2, lcormat$spp2, sep=\"_\")\n"
   ]
  },
  {
   "cell_type": "code",
   "execution_count": null,
   "metadata": {},
   "outputs": [],
   "source": [
    "options(repr.plot.width=5, repr.plot.height=4)\n",
    "p = ggplot(lcormat, aes(y=value, x=dt, col=statcombo, label=statcombo1, label2=statcombo2)) + geom_point() +\n",
    "    labs(x=\"dT\", y=\"Correlation (for all pi/N combos)\", col=\"Stats\")\n",
    "pp=ggplotly(p)\n",
    "htmlwidgets::saveWidget(as_widget(pp), paste0(outpath, figpath,\"cor-piN-dT_\",filemeta$desc,\".html\"))\n",
    "pp\n",
    "#saveRDS(longcor, file = paste0(outpath,\"long-cor_\",desc,\".rds\"))\n",
    "#ggsave(filename=paste0(outpath,\"cor-pidxy-exon-dT_\",desc,\".pdf\"), width = 250, height = 200, units = \"mm\")"
   ]
  },
  {
   "cell_type": "code",
   "execution_count": null,
   "metadata": {},
   "outputs": [],
   "source": [
    "head(lcormat)"
   ]
  },
  {
   "cell_type": "code",
   "execution_count": null,
   "metadata": {},
   "outputs": [],
   "source": []
  },
  {
   "cell_type": "code",
   "execution_count": null,
   "metadata": {},
   "outputs": [],
   "source": [
    "options(repr.plot.width=15, repr.plot.height=14)\n",
    "col17pal = c(\"#7183ca\",\n",
    "\"#4fb850\",\n",
    "\"#c05ac5\",\n",
    "\"#8eb239\",\n",
    "\"#7362cf\",\n",
    "\"#bdad4d\",\n",
    "\"#d3478a\",\n",
    "\"#62bd8e\",\n",
    "\"#c64251\",\n",
    "\"#45b0cf\",\n",
    "\"#d3542d\",\n",
    "\"#3f7f46\",\n",
    "\"#b16aa1\",\n",
    "\"#757831\",\n",
    "\"#db7d81\",\n",
    "\"#dc9747\",\n",
    "\"#a26335\")\n",
    "ggplot(lcormat, aes(y=value, x=dt, col=spp1, shape=statcombo)) + geom_point(size=2) +\n",
    "    labs(x=\"dT\", y=\"Correlation (for all pi/N combos)\", col=\"Stats\")+ \n",
    "    facet_wrap(vars(statcombo2))+\n",
    "    scale_fill_manual(values =col17pal) +\n",
    "    scale_color_manual(values =col17pal)\n",
    "ggsave(filename=paste0(outpath, figpath,\"pairwisecorrs-piN_\",filemeta$desc,\".pdf\"), width = 600, height = 600, units = \"mm\")"
   ]
  },
  {
   "cell_type": "code",
   "execution_count": null,
   "metadata": {},
   "outputs": [],
   "source": [
    "lcormat %>%\n",
    "    group_by(spp1) %>%\n",
    "    count()"
   ]
  },
  {
   "cell_type": "code",
   "execution_count": null,
   "metadata": {},
   "outputs": [],
   "source": [
    "write.table(pidxy, paste0(outpath,\"pidxy-filtered-withmetadata_\",filemeta$desc,\".tsv\"), sep=\"\\t\", quote=FALSE, row.names=FALSE)\n",
    "write.table(pin, paste0(outpath,\"piN-withmetadata_\",filemeta$desc,\".tsv\"), sep=\"\\t\", quote=FALSE, row.names=FALSE)\n",
    "write.table(lcormat, paste0(outpath,\"cor-pin-pin_\",filemeta$desc,\".tsv\"), sep=\"\\t\", quote=FALSE, row.names=FALSE)"
   ]
  },
  {
   "cell_type": "code",
   "execution_count": null,
   "metadata": {},
   "outputs": [],
   "source": []
  },
  {
   "cell_type": "code",
   "execution_count": null,
   "metadata": {},
   "outputs": [],
   "source": []
  }
 ],
 "metadata": {
  "kernelspec": {
   "display_name": "apes(withr)",
   "language": "R",
   "name": "apes-py-r"
  },
  "language_info": {
   "codemirror_mode": "r",
   "file_extension": ".r",
   "mimetype": "text/x-r-source",
   "name": "R",
   "pygments_lexer": "r",
   "version": "3.6.3"
  }
 },
 "nbformat": 4,
 "nbformat_minor": 4
}
