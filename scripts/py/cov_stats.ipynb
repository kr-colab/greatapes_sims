{
 "cells": [
  {
   "cell_type": "code",
   "execution_count": 1,
   "id": "1a321e17-b459-482b-baef-a7cb78a83001",
   "metadata": {},
   "outputs": [],
   "source": [
    "import tskit\n",
    "import dendropy\n",
    "import glob\n",
    "import numpy as np\n",
    "import pandas as pd\n",
    "import warnings\n",
    "import functools\n",
    "import argparse\n",
    "import operator\n",
    "import os\n",
    "from helper_functions import *\n",
    "%load_ext memory_profiler"
   ]
  },
  {
   "cell_type": "code",
   "execution_count": 2,
   "id": "fc39d6a0-e3fc-418d-a4b2-71ef7cb49e9d",
   "metadata": {},
   "outputs": [
    {
     "data": {
      "text/plain": [
       "_StoreAction(option_strings=['--seed'], dest='seed', nargs=None, const=None, default=8991, type=<class 'int'>, choices=None, help=None, metavar=None)"
      ]
     },
     "execution_count": 2,
     "metadata": {},
     "output_type": "execute_result"
    }
   ],
   "source": [
    "parser = argparse.ArgumentParser(description='Gets stats from unioned tree sequence')\n",
    "parser.add_argument('rand_id', type=str)\n",
    "parser.add_argument('rep', type=str)\n",
    "parser.add_argument('win_size', type=lambda x: int(float(x)))\n",
    "parser.add_argument('sample_size', type=int)\n",
    "parser.add_argument('coords_dict', type=str, help=\"String of a dictionary with padded and non-padded start and ends of the chromosomic region. Assumes one chromosome only!\")\n",
    "parser.add_argument('--seed', type=int, default=8991, required=False)"
   ]
  },
  {
   "cell_type": "code",
   "execution_count": 3,
   "id": "0fcf0588-8186-4247-84b0-4c7ed25e98ea",
   "metadata": {},
   "outputs": [
    {
     "name": "stdout",
     "output_type": "stream",
     "text": [
      "peak memory: 93.00 MiB, increment: 0.45 MiB\n"
     ]
    }
   ],
   "source": [
    "%%memit\n",
    "args = vars(parser.parse_args([\"GDVOP9EMEV6ZLEG\",\"0\",\"1000000\",\"10\",\"{'chr': 'chr12', 'start': 60000000, 'end': 70000000, 'padded_start': 60000000, 'padded_end': 70000000}\"]))\n",
    "coords_dict = eval(args['coords_dict'])\n",
    "out_path = \"../../output/\"\n",
    "rng = np.random.default_rng(args['seed'])"
   ]
  },
  {
   "cell_type": "code",
   "execution_count": 4,
   "id": "dc8073c8-ca89-436e-b726-db786eef5d00",
   "metadata": {},
   "outputs": [],
   "source": [
    "recap_mut_path = f\"{out_path}{args['rand_id']}/{args['rand_id']}_rep{args['rep']}.union.recap.mut.trees\"\n",
    "pops_path = f\"{out_path}{args['rand_id']}/{args['rand_id']}_rep{args['rep']}.pops\"\n",
    "with open(pops_path, \"r\") as f:\n",
    "    pops = eval(f.readline())"
   ]
  },
  {
   "cell_type": "code",
   "execution_count": 5,
   "id": "c4dea1ed-9ee3-4119-b03b-bb226c52339c",
   "metadata": {},
   "outputs": [
    {
     "name": "stdout",
     "output_type": "stream",
     "text": [
      "peak memory: 8373.65 MiB, increment: 8280.24 MiB\n"
     ]
    }
   ],
   "source": [
    "%%memit\n",
    "assert os.path.exists(recap_mut_path) and os.path.exists(pops_path), f\"Trees file or .pops file does not exist for {args['rand_id']}_{args['rep']}\"\n",
    "recap_tsu = tskit.load(recap_mut_path)"
   ]
  },
  {
   "cell_type": "code",
   "execution_count": null,
   "id": "7b0d9f5b-bbc8-4284-9d17-00c1d2af7d67",
   "metadata": {},
   "outputs": [],
   "source": [
    "%%memit\n",
    "samples = sample_from_ts(recap_tsu, sample_size=args[\"sample_size\"], rng=rng)"
   ]
  },
  {
   "cell_type": "code",
   "execution_count": null,
   "id": "48ded3c2-d5e5-44fe-ae70-cff4f243dd3b",
   "metadata": {},
   "outputs": [],
   "source": [
    "sample_sets = list(samples.values())"
   ]
  },
  {
   "cell_type": "code",
   "execution_count": null,
   "id": "e0193939-c3ff-4ae1-a7b1-9ac697047a3b",
   "metadata": {},
   "outputs": [],
   "source": [
    "n = np.array([len(s) for s in sample_sets], dtype='float')\n",
    "num_pops = len(sample_sets)\n",
    "\n",
    "twoway = [[x,y] for x in range(num_pops) for y in range(num_pops) if x>=y]\n",
    "fourway = np.array([(twoway[xx] + twoway[yy]) for xx in range(len(twoway)) for yy in range(len(twoway)) if xx>=yy], dtype='int')\n",
    "\n",
    "i, j, k, l = [fourway[:,x] for x in range(4)]\n"
   ]
  },
  {
   "cell_type": "code",
   "execution_count": null,
   "id": "36fc6c9f-fa44-46af-9e24-0b273f611a80",
   "metadata": {},
   "outputs": [],
   "source": [
    "def f(x):\n",
    "    numer = x[i] * (n[j] - x[j]) * x[k] * (n[k] - x[k])\n",
    "    denom = n[i] * (n[j] - (i == j)) * n[k] * (n[l] - (k == l))\n",
    "    return numer / denom"
   ]
  },
  {
   "cell_type": "code",
   "execution_count": null,
   "id": "3a35cf3a-28c9-4503-a578-cc71197cbdb1",
   "metadata": {},
   "outputs": [],
   "source": [
    "%%memit\n",
    "covs = recap_tsu.sample_count_stat(sample_sets=sample_sets, f=f, output_dim=fourway.shape[0])"
   ]
  },
  {
   "cell_type": "code",
   "execution_count": null,
   "id": "530ead4c-d84c-4b5d-8b63-0ec472dd1a4b",
   "metadata": {},
   "outputs": [],
   "source": [
    "fourway[1300]"
   ]
  },
  {
   "cell_type": "code",
   "execution_count": null,
   "id": "e1446cf4-2f10-4424-b359-94e3d2118722",
   "metadata": {},
   "outputs": [],
   "source": [
    "fourway"
   ]
  },
  {
   "cell_type": "code",
   "execution_count": null,
   "id": "4018c70e-8e45-4173-b476-99a3548f859f",
   "metadata": {},
   "outputs": [],
   "source": [
    "np.where(np.all(fourway == [1,1,0,0], axis=1)==True)"
   ]
  },
  {
   "cell_type": "code",
   "execution_count": null,
   "id": "d09b01c6-e3c4-46ad-86de-d3df7b2df7d0",
   "metadata": {},
   "outputs": [],
   "source": [
    "covs[0]"
   ]
  },
  {
   "cell_type": "code",
   "execution_count": null,
   "id": "e43c4cbc-0e57-4775-ac38-22da4863a7e9",
   "metadata": {},
   "outputs": [],
   "source": [
    "covs[1]"
   ]
  },
  {
   "cell_type": "code",
   "execution_count": null,
   "id": "fa373a56-e867-4bb5-ab3a-071042a8571c",
   "metadata": {},
   "outputs": [],
   "source": [
    "covs[2]"
   ]
  },
  {
   "cell_type": "code",
   "execution_count": null,
   "id": "5debfde7-e50c-41d5-91e8-e98edd3ef978",
   "metadata": {},
   "outputs": [],
   "source": [
    "fourway[3]"
   ]
  },
  {
   "cell_type": "code",
   "execution_count": null,
   "id": "8078723b-b3c2-4e85-971f-a2802cf939ae",
   "metadata": {},
   "outputs": [],
   "source": [
    "covs[3]"
   ]
  },
  {
   "cell_type": "code",
   "execution_count": null,
   "id": "1bc73966-ba86-454a-bafa-9d9d2955b4b8",
   "metadata": {},
   "outputs": [],
   "source": [
    "np.where(np.all(fourway == [7,7,6,6], axis=1)==True)"
   ]
  },
  {
   "cell_type": "code",
   "execution_count": null,
   "id": "885cb3a2-d1f8-41d4-a32a-7aafbc8528f4",
   "metadata": {},
   "outputs": [],
   "source": [
    "covs[657]"
   ]
  },
  {
   "cell_type": "code",
   "execution_count": null,
   "id": "2ed51ee3-4318-4f19-9d8b-b9c8d0d0f5c1",
   "metadata": {},
   "outputs": [],
   "source": [
    "np.where(np.all(fourway == [4,4,0,0], axis=1)==True)"
   ]
  },
  {
   "cell_type": "code",
   "execution_count": null,
   "id": "9e6528df-615e-4d03-a57f-9baff9064b11",
   "metadata": {},
   "outputs": [],
   "source": [
    "covs[105]"
   ]
  },
  {
   "cell_type": "code",
   "execution_count": null,
   "id": "89f203fb-2ec0-4f65-a74d-57d71ba9c337",
   "metadata": {},
   "outputs": [],
   "source": [
    "np.where(np.all(fourway == [5,5,4,4], axis=1)==True)"
   ]
  },
  {
   "cell_type": "code",
   "execution_count": null,
   "id": "d775c0c2-98cb-45fc-8aa1-a67034973e9b",
   "metadata": {},
   "outputs": [],
   "source": [
    "covs[224]"
   ]
  },
  {
   "cell_type": "code",
   "execution_count": null,
   "id": "a8540066-5a9f-4f46-bcf4-f06e15ca5318",
   "metadata": {},
   "outputs": [],
   "source": []
  },
  {
   "cell_type": "code",
   "execution_count": null,
   "id": "16be361a-503c-4c2e-9832-5469462bd3a2",
   "metadata": {},
   "outputs": [],
   "source": [
    "pops"
   ]
  },
  {
   "cell_type": "code",
   "execution_count": null,
   "id": "bec01b79-a1aa-46f1-b450-271ac204d746",
   "metadata": {},
   "outputs": [],
   "source": []
  },
  {
   "cell_type": "code",
   "execution_count": null,
   "id": "37a5eee4-2389-4d18-b5b0-8718c4da6f4f",
   "metadata": {},
   "outputs": [],
   "source": [
    "import collections\n"
   ]
  },
  {
   "cell_type": "code",
   "execution_count": null,
   "id": "0dc4a3cc-d22f-4e30-9517-329eb69455af",
   "metadata": {},
   "outputs": [],
   "source": [
    "rank_counts = collections.Counter(t.rank() for t in tssimp.trees())"
   ]
  },
  {
   "cell_type": "code",
   "execution_count": null,
   "id": "662fd716-9c7c-4a64-8c66-c50d45c437ee",
   "metadata": {},
   "outputs": [],
   "source": [
    "most_common = rank_counts.most_common(100)"
   ]
  },
  {
   "cell_type": "code",
   "execution_count": null,
   "id": "b6c7aca5-7e50-4d3d-b4ed-034c84284170",
   "metadata": {},
   "outputs": [],
   "source": [
    "most_common[0][0]"
   ]
  },
  {
   "cell_type": "code",
   "execution_count": null,
   "id": "7b9bf542-c568-44df-adfd-3b242706190a",
   "metadata": {},
   "outputs": [],
   "source": [
    "trees = [tskit.Tree.unrank(tssimp.num_samples, mc[0]) for mc in most_common]"
   ]
  },
  {
   "cell_type": "code",
   "execution_count": null,
   "id": "ca3eb8d9-3799-4fba-aab1-4f6ab3ddab93",
   "metadata": {},
   "outputs": [],
   "source": [
    "tssimp.num_trees"
   ]
  },
  {
   "cell_type": "code",
   "execution_count": null,
   "id": "dacbfb5c-8292-4eae-9b91-2ec56a12fe4e",
   "metadata": {},
   "outputs": [],
   "source": [
    "from IPython.display import SVG, display, HTML\n",
    "for i in range(10):\n",
    "    print(most_common[i])\n",
    "    display(SVG(trees[i].draw_svg(node_labels = node_labels)))"
   ]
  },
  {
   "cell_type": "code",
   "execution_count": null,
   "id": "d4aa0661-c90e-4e2b-8354-50400b79a0c2",
   "metadata": {},
   "outputs": [],
   "source": [
    "multi_tree_str = \"\""
   ]
  },
  {
   "cell_type": "code",
   "execution_count": null,
   "id": "45f241f6-4e4b-4874-9b55-49123e87f0ba",
   "metadata": {},
   "outputs": [],
   "source": [
    "for tree in trees:\n",
    "    multi_tree_str += tree.as_newick(include_branch_lengths=False, node_labels = node_labels)\n",
    "    multi_tree_str += \"\\n\""
   ]
  },
  {
   "cell_type": "code",
   "execution_count": null,
   "id": "56ebb1c1-bd1d-4aef-9a87-1218700cb3f5",
   "metadata": {},
   "outputs": [],
   "source": [
    "multi_tree_str"
   ]
  },
  {
   "cell_type": "code",
   "execution_count": null,
   "id": "6728e158-d92d-430c-b92f-5f8b534f03f3",
   "metadata": {},
   "outputs": [],
   "source": [
    "import toytree"
   ]
  },
  {
   "cell_type": "code",
   "execution_count": null,
   "id": "ac44c2fc-b475-44aa-8a92-c98efb7c972b",
   "metadata": {},
   "outputs": [],
   "source": [
    "mtre0 = toytree.mtree(multi_tree_str)"
   ]
  },
  {
   "cell_type": "code",
   "execution_count": null,
   "id": "7fd3d7a9-b42c-4f9a-bd20-bec17f84f694",
   "metadata": {},
   "outputs": [],
   "source": [
    "canvas, axes, mark = mtre0.draw_cloud_tree(\n",
    "    edge_style={\n",
    "        \"stroke-opacity\": 0.1,\n",
    "        \"stroke-width\": 1,\n",
    "    },\n",
    ");"
   ]
  },
  {
   "cell_type": "code",
   "execution_count": null,
   "id": "b983859e-7326-4b44-b966-905feadd2624",
   "metadata": {},
   "outputs": [],
   "source": [
    "# pull out the trees and get a densiplot"
   ]
  },
  {
   "cell_type": "code",
   "execution_count": null,
   "id": "9a33b544-fd47-46f0-bd77-a6db8e745a39",
   "metadata": {},
   "outputs": [],
   "source": [
    "# plot the residuals of those correlations against branch lengths/N or sth? that would help us there."
   ]
  }
 ],
 "metadata": {
  "kernelspec": {
   "display_name": "apes",
   "language": "python",
   "name": "apes"
  },
  "language_info": {
   "codemirror_mode": {
    "name": "ipython",
    "version": 3
   },
   "file_extension": ".py",
   "mimetype": "text/x-python",
   "name": "python",
   "nbconvert_exporter": "python",
   "pygments_lexer": "ipython3",
   "version": "3.7.9"
  }
 },
 "nbformat": 4,
 "nbformat_minor": 5
}
