{
 "cells": [
  {
   "cell_type": "code",
   "execution_count": 1,
   "id": "1a321e17-b459-482b-baef-a7cb78a83001",
   "metadata": {},
   "outputs": [],
   "source": [
    "import tskit\n",
    "import pyslim\n",
    "import msprime\n",
    "import dendropy\n",
    "import glob\n",
    "import numpy as np\n",
    "import pandas as pd\n",
    "import warnings\n",
    "import functools\n",
    "import argparse\n",
    "import operator\n",
    "import os\n"
   ]
  },
  {
   "cell_type": "code",
   "execution_count": 2,
   "id": "fc39d6a0-e3fc-418d-a4b2-71ef7cb49e9d",
   "metadata": {},
   "outputs": [
    {
     "data": {
      "text/plain": [
       "_StoreAction(option_strings=['--seed'], dest='seed', nargs=None, const=None, default=8991, type=<class 'int'>, choices=None, help=None, metavar=None)"
      ]
     },
     "execution_count": 2,
     "metadata": {},
     "output_type": "execute_result"
    }
   ],
   "source": [
    "parser = argparse.ArgumentParser(description='Gets stats from unioned tree sequence')\n",
    "parser.add_argument('rand_id', type=str)\n",
    "parser.add_argument('rep', type=str)\n",
    "parser.add_argument('win_size', type=lambda x: int(float(x)))\n",
    "parser.add_argument('sample_size', type=int)\n",
    "parser.add_argument('coords_dict', type=str, help=\"String of a dictionary with padded and non-padded start and ends of the chromosomic region. Assumes one chromosome only!\")\n",
    "parser.add_argument('--seed', type=int, default=8991, required=False)"
   ]
  },
  {
   "cell_type": "code",
   "execution_count": 3,
   "id": "0fcf0588-8186-4247-84b0-4c7ed25e98ea",
   "metadata": {},
   "outputs": [],
   "source": [
    "args = vars(parser.parse_args([\"GDVOP9EMEV6ZLEG\",\"0\",\"1000000\",\"10\",\"{'chr': 'chr12', 'start': 60000000, 'end': 70000000, 'padded_start': 60000000, 'padded_end': 70000000}\"]))\n",
    "coords_dict = eval(args['coords_dict'])\n",
    "out_path = \"../../output/\""
   ]
  },
  {
   "cell_type": "code",
   "execution_count": 4,
   "id": "4c8d750d-86e9-409a-a620-285defc099c4",
   "metadata": {},
   "outputs": [],
   "source": [
    "coords_dict = eval(args['coords_dict'])"
   ]
  },
  {
   "cell_type": "code",
   "execution_count": 5,
   "id": "c4dea1ed-9ee3-4119-b03b-bb226c52339c",
   "metadata": {},
   "outputs": [],
   "source": [
    "# Loading tree sequence and list with populations\n",
    "recap_mut_path = f\"{out_path}{args['rand_id']}/{args['rand_id']}_rep{args['rep']}.union.recap.mut.trees\"\n",
    "pops_path = f\"{out_path}{args['rand_id']}/{args['rand_id']}_rep{args['rep']}.pops\"\n",
    "assert os.path.exists(recap_mut_path) and os.path.exists(pops_path), f\"Trees file or .pops file does not exist for {args['rand_id']}_{args['rep']}\"\n",
    "recap_tsu = pyslim.load(recap_mut_path)\n",
    "with open(pops_path, \"r\") as f:\n",
    "    pops = eval(f.readline())\n",
    "\n",
    "rng = np.random.default_rng(args['seed'])"
   ]
  },
  {
   "cell_type": "code",
   "execution_count": 6,
   "id": "e5487dff-c0ad-4667-a51f-c250d0d58f3c",
   "metadata": {},
   "outputs": [],
   "source": [
    "rng = np.random.default_rng(args['seed'])\n",
    "# getting contemporary samples\n",
    "# note the time of \"contemporary\" samples varies bc of differences in generation times\n",
    "# TODO: sample individuals not nodes\n",
    "pop_samples = [recap_tsu.samples(population_id=i+1) for i in range(len(pops))]\n",
    "contemp_time = [np.min(recap_tsu.tables.nodes.time[samples]) for samples in pop_samples]\n",
    "contemp_samples = [rng.choice(pop_samples[pid][recap_tsu.tables.nodes.time[pop_samples[pid]] == contemp_time[pid]], args[\"sample_size\"], replace=False) for pid in range(len(pop_samples))]"
   ]
  },
  {
   "cell_type": "code",
   "execution_count": 18,
   "id": "869bf9fa-2975-4fe1-9534-fdd349cfb4bf",
   "metadata": {},
   "outputs": [],
   "source": [
    "sample_sets = contemp_samples\n",
    "n = [len(s) for s in sample_sets]\n",
    "\n",
    "twoway = [(x,y) for x in range(len(pops)) for y in range(len(pops)) if x>=y]\n",
    "fourway = [(twoway[xx],twoway[yy]) for xx in range(len(twoway)) for yy in range(len(twoway)) if xx>yy]\n"
   ]
  },
  {
   "cell_type": "code",
   "execution_count": 24,
   "id": "f3a21d27-2d84-4976-bcde-3e77723ac883",
   "metadata": {},
   "outputs": [],
   "source": [
    "dxy_funs = {\n",
    "    (i,j): lambda x: x[i] * (n[j] - x[j]) / (n[i] * (n[j] - (i == j)))\n",
    "    for (i,j) in twoway\n",
    "}"
   ]
  },
  {
   "cell_type": "code",
   "execution_count": 27,
   "id": "9a5124c6-2ee7-4a00-b94f-75f0d968b586",
   "metadata": {},
   "outputs": [],
   "source": [
    "def g(a, b, c, d):\n",
    "    print(a,b,c,d)\n",
    "    f1 = dxy_funs[(a, b)]\n",
    "    f2 = dxy_funs[(c, d)]\n",
    "    return lambda x: f1(x) * f2(x)"
   ]
  },
  {
   "cell_type": "code",
   "execution_count": 28,
   "id": "1c24525c-2d0e-4833-af51-a5e3fdbac7fb",
   "metadata": {},
   "outputs": [
    {
     "name": "stdout",
     "output_type": "stream",
     "text": [
      "0 0 0 0\n"
     ]
    },
    {
     "ename": "ValueError",
     "evalue": "object of too small depth for desired array",
     "output_type": "error",
     "traceback": [
      "\u001b[0;31m---------------------------------------------------------------------------\u001b[0m",
      "\u001b[0;31mValueError\u001b[0m                                Traceback (most recent call last)",
      "\u001b[0;32m<ipython-input-28-03f872cec92b>\u001b[0m in \u001b[0;36m<module>\u001b[0;34m\u001b[0m\n\u001b[0;32m----> 1\u001b[0;31m \u001b[0mrecap_tsu\u001b[0m\u001b[0;34m.\u001b[0m\u001b[0msample_count_stat\u001b[0m\u001b[0;34m(\u001b[0m\u001b[0mcontemp_samples\u001b[0m\u001b[0;34m,\u001b[0m \u001b[0mg\u001b[0m\u001b[0;34m(\u001b[0m\u001b[0;36m0\u001b[0m\u001b[0;34m,\u001b[0m\u001b[0;36m0\u001b[0m\u001b[0;34m,\u001b[0m\u001b[0;36m0\u001b[0m\u001b[0;34m,\u001b[0m\u001b[0;36m0\u001b[0m\u001b[0;34m)\u001b[0m\u001b[0;34m,\u001b[0m \u001b[0moutput_dim\u001b[0m\u001b[0;34m=\u001b[0m\u001b[0;36m1\u001b[0m\u001b[0;34m)\u001b[0m\u001b[0;34m\u001b[0m\u001b[0;34m\u001b[0m\u001b[0m\n\u001b[0m",
      "\u001b[0;32m~/projects/anaconda3/envs/apes/lib/python3.7/site-packages/tskit/trees.py\u001b[0m in \u001b[0;36msample_count_stat\u001b[0;34m(self, sample_sets, f, output_dim, windows, polarised, mode, span_normalise, strict)\u001b[0m\n\u001b[1;32m   5622\u001b[0m             \u001b[0mmode\u001b[0m\u001b[0;34m=\u001b[0m\u001b[0mmode\u001b[0m\u001b[0;34m,\u001b[0m\u001b[0;34m\u001b[0m\u001b[0;34m\u001b[0m\u001b[0m\n\u001b[1;32m   5623\u001b[0m             \u001b[0mspan_normalise\u001b[0m\u001b[0;34m=\u001b[0m\u001b[0mspan_normalise\u001b[0m\u001b[0;34m,\u001b[0m\u001b[0;34m\u001b[0m\u001b[0;34m\u001b[0m\u001b[0m\n\u001b[0;32m-> 5624\u001b[0;31m             \u001b[0mstrict\u001b[0m\u001b[0;34m=\u001b[0m\u001b[0mstrict\u001b[0m\u001b[0;34m,\u001b[0m\u001b[0;34m\u001b[0m\u001b[0;34m\u001b[0m\u001b[0m\n\u001b[0m\u001b[1;32m   5625\u001b[0m         )\n\u001b[1;32m   5626\u001b[0m \u001b[0;34m\u001b[0m\u001b[0m\n",
      "\u001b[0;32m~/projects/anaconda3/envs/apes/lib/python3.7/site-packages/tskit/trees.py\u001b[0m in \u001b[0;36mgeneral_stat\u001b[0;34m(self, W, f, output_dim, windows, polarised, mode, span_normalise, strict)\u001b[0m\n\u001b[1;32m   5521\u001b[0m             \u001b[0mpolarised\u001b[0m\u001b[0;34m=\u001b[0m\u001b[0mpolarised\u001b[0m\u001b[0;34m,\u001b[0m\u001b[0;34m\u001b[0m\u001b[0;34m\u001b[0m\u001b[0m\n\u001b[1;32m   5522\u001b[0m             \u001b[0mspan_normalise\u001b[0m\u001b[0;34m=\u001b[0m\u001b[0mspan_normalise\u001b[0m\u001b[0;34m,\u001b[0m\u001b[0;34m\u001b[0m\u001b[0;34m\u001b[0m\u001b[0m\n\u001b[0;32m-> 5523\u001b[0;31m             \u001b[0mmode\u001b[0m\u001b[0;34m=\u001b[0m\u001b[0mmode\u001b[0m\u001b[0;34m,\u001b[0m\u001b[0;34m\u001b[0m\u001b[0;34m\u001b[0m\u001b[0m\n\u001b[0m\u001b[1;32m   5524\u001b[0m         )\n\u001b[1;32m   5525\u001b[0m \u001b[0;34m\u001b[0m\u001b[0m\n",
      "\u001b[0;32m~/projects/anaconda3/envs/apes/lib/python3.7/site-packages/tskit/trees.py\u001b[0m in \u001b[0;36m__run_windowed_stat\u001b[0;34m(self, windows, method, *args, **kwargs)\u001b[0m\n\u001b[1;32m   5653\u001b[0m         \u001b[0mstrip_dim\u001b[0m \u001b[0;34m=\u001b[0m \u001b[0mwindows\u001b[0m \u001b[0;32mis\u001b[0m \u001b[0;32mNone\u001b[0m\u001b[0;34m\u001b[0m\u001b[0;34m\u001b[0m\u001b[0m\n\u001b[1;32m   5654\u001b[0m         \u001b[0mwindows\u001b[0m \u001b[0;34m=\u001b[0m \u001b[0mself\u001b[0m\u001b[0;34m.\u001b[0m\u001b[0mparse_windows\u001b[0m\u001b[0;34m(\u001b[0m\u001b[0mwindows\u001b[0m\u001b[0;34m)\u001b[0m\u001b[0;34m\u001b[0m\u001b[0;34m\u001b[0m\u001b[0m\n\u001b[0;32m-> 5655\u001b[0;31m         \u001b[0mstat\u001b[0m \u001b[0;34m=\u001b[0m \u001b[0mmethod\u001b[0m\u001b[0;34m(\u001b[0m\u001b[0;34m*\u001b[0m\u001b[0margs\u001b[0m\u001b[0;34m,\u001b[0m \u001b[0;34m**\u001b[0m\u001b[0mkwargs\u001b[0m\u001b[0;34m,\u001b[0m \u001b[0mwindows\u001b[0m\u001b[0;34m=\u001b[0m\u001b[0mwindows\u001b[0m\u001b[0;34m)\u001b[0m\u001b[0;34m\u001b[0m\u001b[0;34m\u001b[0m\u001b[0m\n\u001b[0m\u001b[1;32m   5656\u001b[0m         \u001b[0;32mif\u001b[0m \u001b[0mstrip_dim\u001b[0m\u001b[0;34m:\u001b[0m\u001b[0;34m\u001b[0m\u001b[0;34m\u001b[0m\u001b[0m\n\u001b[1;32m   5657\u001b[0m             \u001b[0mstat\u001b[0m \u001b[0;34m=\u001b[0m \u001b[0mstat\u001b[0m\u001b[0;34m[\u001b[0m\u001b[0;36m0\u001b[0m\u001b[0;34m]\u001b[0m\u001b[0;34m\u001b[0m\u001b[0;34m\u001b[0m\u001b[0m\n",
      "\u001b[0;31mValueError\u001b[0m: object of too small depth for desired array"
     ]
    }
   ],
   "source": [
    "recap_tsu.sample_count_stat(contemp_samples, g(0,0,0,0), output_dim=1)"
   ]
  },
  {
   "cell_type": "code",
   "execution_count": null,
   "id": "b983859e-7326-4b44-b966-905feadd2624",
   "metadata": {},
   "outputs": [],
   "source": [
    "# pull out the trees and get a densiplot"
   ]
  },
  {
   "cell_type": "code",
   "execution_count": null,
   "id": "9a33b544-fd47-46f0-bd77-a6db8e745a39",
   "metadata": {},
   "outputs": [],
   "source": [
    "# plot the residuals of those correlations against branch lengths/N or sth? that would help us there."
   ]
  }
 ],
 "metadata": {
  "kernelspec": {
   "display_name": "apes",
   "language": "python",
   "name": "apes"
  },
  "language_info": {
   "codemirror_mode": {
    "name": "ipython",
    "version": 3
   },
   "file_extension": ".py",
   "mimetype": "text/x-python",
   "name": "python",
   "nbconvert_exporter": "python",
   "pygments_lexer": "ipython3",
   "version": "3.7.9"
  }
 },
 "nbformat": 4,
 "nbformat_minor": 5
}
