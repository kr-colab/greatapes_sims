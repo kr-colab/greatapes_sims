{
 "cells": [
  {
   "cell_type": "code",
   "execution_count": 1,
   "id": "1a321e17-b459-482b-baef-a7cb78a83001",
   "metadata": {},
   "outputs": [],
   "source": [
    "import tskit\n",
    "import dendropy\n",
    "import glob\n",
    "import numpy as np\n",
    "import pandas as pd\n",
    "import warnings\n",
    "import functools\n",
    "import argparse\n",
    "import operator\n",
    "import os\n",
    "from helper_functions import *\n",
    "#%load_ext memory_profiler"
   ]
  },
  {
   "cell_type": "code",
   "execution_count": 2,
   "id": "fc39d6a0-e3fc-418d-a4b2-71ef7cb49e9d",
   "metadata": {},
   "outputs": [
    {
     "data": {
      "text/plain": [
       "_StoreAction(option_strings=['--seed'], dest='seed', nargs=None, const=None, default=8991, type=<class 'int'>, choices=None, help=None, metavar=None)"
      ]
     },
     "execution_count": 2,
     "metadata": {},
     "output_type": "execute_result"
    }
   ],
   "source": [
    "parser = argparse.ArgumentParser(description='Gets stats from unioned tree sequence')\n",
    "parser.add_argument('infile', type=str)\n",
    "parser.add_argument('popsfile', type=str)\n",
    "parser.add_argument('outfile', type=str)\n",
    "parser.add_argument('sample_size', type=int)\n",
    "parser.add_argument('coords_dict', type=str, help=\"String of a dictionary with padded and non-padded start and ends of the chromosomic region. Assumes one chromosome only!\")\n",
    "parser.add_argument('--seed', type=int, default=8991, required=False)"
   ]
  },
  {
   "cell_type": "code",
   "execution_count": 3,
   "id": "0fcf0588-8186-4247-84b0-4c7ed25e98ea",
   "metadata": {},
   "outputs": [
    {
     "name": "stdout",
     "output_type": "stream",
     "text": [
      "peak memory: 92.99 MiB, increment: 0.44 MiB\n"
     ]
    }
   ],
   "source": [
    "#%%memit\n",
    "#args = vars(parser.parse_args([\"../../output/GDVOP9EMEV6ZLEG/GDVOP9EMEV6ZLEG_rep0.union.recap.mut.trees\",\"../../output/GDVOP9EMEV6ZLEG/GDVOP9EMEV6ZLEG_rep0.pops\",\"test.txt\",\"10\",\"{'chr': 'chr12', 'start': 60000000, 'end': 70000000, 'padded_start': 60000000, 'padded_end': 70000000}\"]))\n",
    "args = vars(parser.parse_args())\n",
    "coords_dict = eval(args['coords_dict'])\n",
    "rng = np.random.default_rng(args['seed'])"
   ]
  },
  {
   "cell_type": "code",
   "execution_count": 5,
   "id": "c4dea1ed-9ee3-4119-b03b-bb226c52339c",
   "metadata": {},
   "outputs": [
    {
     "name": "stdout",
     "output_type": "stream",
     "text": [
      "peak memory: 8372.78 MiB, increment: 8278.18 MiB\n"
     ]
    }
   ],
   "source": [
    "#%%memit\n",
    "assert os.path.exists(args[\"infile\"]), f\"Tree sequence file does not exist {args['infile']}\"\n",
    "assert os.path.exists(args[\"popsfile\"]), f\".pops file does not exist {args['popsfile']}\"\n",
    "with open(args[\"popsfile\"], \"r\") as f:\n",
    "    pops = eval(f.readline())\n",
    "recap_tsu = tskit.load(args[\"infile\"])"
   ]
  },
  {
   "cell_type": "code",
   "execution_count": 36,
   "id": "1b289b62-b681-470b-93fa-29d7b997d4d8",
   "metadata": {},
   "outputs": [
    {
     "name": "stdout",
     "output_type": "stream",
     "text": [
      "peak memory: 19115.34 MiB, increment: 9331.51 MiB\n"
     ]
    }
   ],
   "source": [
    "#%%memit\n",
    "# keeping only the focal window\n",
    "start = coords_dict['start']-coords_dict['padded_start']\n",
    "stop = (coords_dict['end']-coords_dict['padded_start'])\n",
    "recap_tsu = recap_tsu.keep_intervals([[start,stop]])"
   ]
  },
  {
   "cell_type": "code",
   "execution_count": 6,
   "id": "7b0d9f5b-bbc8-4284-9d17-00c1d2af7d67",
   "metadata": {},
   "outputs": [
    {
     "name": "stdout",
     "output_type": "stream",
     "text": [
      "peak memory: 5008.78 MiB, increment: 9.34 MiB\n"
     ]
    }
   ],
   "source": [
    "#%%memit\n",
    "samples = sample_from_ts(recap_tsu, sample_size=args[\"sample_size\"], rng=rng)"
   ]
  },
  {
   "cell_type": "code",
   "execution_count": 7,
   "id": "48ded3c2-d5e5-44fe-ae70-cff4f243dd3b",
   "metadata": {},
   "outputs": [],
   "source": [
    "sample_sets = list(samples.values())"
   ]
  },
  {
   "cell_type": "code",
   "execution_count": 8,
   "id": "e0193939-c3ff-4ae1-a7b1-9ac697047a3b",
   "metadata": {},
   "outputs": [],
   "source": [
    "# getting num samples\n",
    "n = np.array([len(s) for s in sample_sets], dtype='float')\n",
    "num_pops = len(sample_sets)\n",
    "\n",
    "# all two-way comparisons between all pops\n",
    "twoway = [[x,y] for x in range(num_pops) for y in range(num_pops) if x>=y]\n",
    "# all four-way comparisons between all pops\n",
    "fourway = np.array([(twoway[xx] + twoway[yy]) for xx in range(len(twoway)) for yy in range(len(twoway)) if xx>=yy], dtype='int')\n",
    "# note each row in fourway contains the four pop indices\n",
    "i, j, k, l = [fourway[:,x] for x in range(4)]"
   ]
  },
  {
   "cell_type": "code",
   "execution_count": 9,
   "id": "36fc6c9f-fa44-46af-9e24-0b273f611a80",
   "metadata": {},
   "outputs": [],
   "source": [
    "# covariance between two PPP random variables is just the integral of their products!\n",
    "# see https://www.sciencedirect.com/science/article/pii/S0040580918301667\n",
    "# This function takes x, a vector with counts, uses 5 vars from the global env\n",
    "# n, with the total counts, ijkl with the corresponding indices of pops 1-4.\n",
    "# Returns the covariance between all four-way combinations of the pops.\n",
    "def pidxy_cov(x):\n",
    "    numer = x[i] * (n[j] - x[j]) * x[k] * (n[l] - x[l])\n",
    "    denom = n[i] * (n[j] - (i == j)) * n[k] * (n[l] - (k == l))\n",
    "    return numer / denom"
   ]
  },
  {
   "cell_type": "code",
   "execution_count": 10,
   "id": "3a35cf3a-28c9-4503-a578-cc71197cbdb1",
   "metadata": {},
   "outputs": [
    {
     "name": "stdout",
     "output_type": "stream",
     "text": [
      "peak memory: 7172.62 MiB, increment: 2170.30 MiB\n"
     ]
    }
   ],
   "source": [
    "#%%memit\n",
    "covs = recap_tsu.sample_count_stat(sample_sets=sample_sets, f=pidxy_cov, output_dim=fourway.shape[0])"
   ]
  },
  {
   "cell_type": "code",
   "execution_count": 11,
   "id": "1963121f-b584-428e-8c06-3d44fb905a7f",
   "metadata": {},
   "outputs": [],
   "source": [
    "cov_labels = np.array(pops)[fourway]"
   ]
  },
  {
   "cell_type": "code",
   "execution_count": 54,
   "id": "aba020f1-9fc5-453f-b085-70ac9c00cddf",
   "metadata": {},
   "outputs": [],
   "source": [
    "covdf = pd.DataFrame(cov_labels, columns=[\"spp2_1\", \"spp1_1\", \"spp2_2\", \"spp1_2\"])"
   ]
  },
  {
   "cell_type": "code",
   "execution_count": 55,
   "id": "98e5bfc2-9c5d-4464-9887-c6ecb8894e46",
   "metadata": {},
   "outputs": [],
   "source": [
    "covdf[\"cov\"] = covs"
   ]
  },
  {
   "cell_type": "code",
   "execution_count": 56,
   "id": "8fe34fdb-d1b8-4e28-a949-9af10e4f3ca4",
   "metadata": {},
   "outputs": [],
   "source": [
    "covdf = covdf.join(pd.DataFrame(coords_dict, index=covdf.index))"
   ]
  },
  {
   "cell_type": "code",
   "execution_count": 61,
   "id": "3995b6da-46df-425d-ac09-17c687b87c41",
   "metadata": {},
   "outputs": [],
   "source": [
    "covdf = covdf[list(coords_dict.keys())+[\"spp1_1\", \"spp2_1\", \"spp1_2\",\"spp2_2\", \"cov\"]]"
   ]
  },
  {
   "cell_type": "code",
   "execution_count": null,
   "id": "ea29e3ed-85b8-4af2-9c66-6dba2e043acf",
   "metadata": {},
   "outputs": [],
   "source": [
    "covdf.to_csv(args[\"outfile\"], sep=\"\\t\", index=False)"
   ]
  },
  {
   "cell_type": "code",
   "execution_count": null,
   "id": "120a2102-468f-45f7-9a18-79ee2df7774c",
   "metadata": {},
   "outputs": [],
   "source": [
    "\"\"\"\n",
    "import collections\n",
    "\n",
    "\n",
    "rank_counts = collections.Counter(t.rank() for t in tssimp.trees())\n",
    "\n",
    "most_common = rank_counts.most_common(100)\n",
    "\n",
    "most_common[0][0]\n",
    "\n",
    "trees = [tskit.Tree.unrank(tssimp.num_samples, mc[0]) for mc in most_common]\n",
    "\n",
    "tssimp.num_trees\n",
    "\n",
    "from IPython.display import SVG, display, HTML\n",
    "for i in range(10):\n",
    "    print(most_common[i])\n",
    "    display(SVG(trees[i].draw_svg(node_labels = node_labels)))\n",
    "\n",
    "multi_tree_str = \"\"\n",
    "\n",
    "for tree in trees:\n",
    "    multi_tree_str += tree.as_newick(include_branch_lengths=False, node_labels = node_labels)\n",
    "    multi_tree_str += \"\\n\"\n",
    "\n",
    "multi_tree_str\n",
    "\n",
    "import toytree\n",
    "\n",
    "mtre0 = toytree.mtree(multi_tree_str)\n",
    "\n",
    "canvas, axes, mark = mtre0.draw_cloud_tree(\n",
    "    edge_style={\n",
    "        \"stroke-opacity\": 0.1,\n",
    "        \"stroke-width\": 1,\n",
    "    },\n",
    ");\n",
    "\"\"\"\n"
   ]
  }
 ],
 "metadata": {
  "kernelspec": {
   "display_name": "apes",
   "language": "python",
   "name": "apes"
  },
  "language_info": {
   "codemirror_mode": {
    "name": "ipython",
    "version": 3
   },
   "file_extension": ".py",
   "mimetype": "text/x-python",
   "name": "python",
   "nbconvert_exporter": "python",
   "pygments_lexer": "ipython3",
   "version": "3.7.9"
  }
 },
 "nbformat": 4,
 "nbformat_minor": 5
}
