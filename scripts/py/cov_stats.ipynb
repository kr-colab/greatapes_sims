{
 "cells": [
  {
   "cell_type": "code",
   "execution_count": 1,
   "id": "1a321e17-b459-482b-baef-a7cb78a83001",
   "metadata": {},
   "outputs": [],
   "source": [
    "import tskit\n",
    "import pyslim\n",
    "import msprime\n",
    "import dendropy\n",
    "import glob\n",
    "import numpy as np\n",
    "import pandas as pd\n",
    "import warnings\n",
    "import functools\n",
    "import argparse\n",
    "import operator\n",
    "import os\n"
   ]
  },
  {
   "cell_type": "code",
   "execution_count": 2,
   "id": "fc39d6a0-e3fc-418d-a4b2-71ef7cb49e9d",
   "metadata": {},
   "outputs": [
    {
     "data": {
      "text/plain": [
       "_StoreAction(option_strings=['--seed'], dest='seed', nargs=None, const=None, default=8991, type=<class 'int'>, choices=None, help=None, metavar=None)"
      ]
     },
     "execution_count": 2,
     "metadata": {},
     "output_type": "execute_result"
    }
   ],
   "source": [
    "parser = argparse.ArgumentParser(description='Gets stats from unioned tree sequence')\n",
    "parser.add_argument('rand_id', type=str)\n",
    "parser.add_argument('rep', type=str)\n",
    "parser.add_argument('win_size', type=lambda x: int(float(x)))\n",
    "parser.add_argument('sample_size', type=int)\n",
    "parser.add_argument('coords_dict', type=str, help=\"String of a dictionary with padded and non-padded start and ends of the chromosomic region. Assumes one chromosome only!\")\n",
    "parser.add_argument('--seed', type=int, default=8991, required=False)"
   ]
  },
  {
   "cell_type": "code",
   "execution_count": 3,
   "id": "0fcf0588-8186-4247-84b0-4c7ed25e98ea",
   "metadata": {},
   "outputs": [],
   "source": [
    "args = vars(parser.parse_args([\"GDVOP9EMEV6ZLEG\",\"0\",\"1000000\",\"10\",\"{'chr': 'chr12', 'start': 60000000, 'end': 70000000, 'padded_start': 60000000, 'padded_end': 70000000}\"]))\n",
    "coords_dict = eval(args['coords_dict'])\n",
    "out_path = \"../../output/\""
   ]
  },
  {
   "cell_type": "code",
   "execution_count": 4,
   "id": "4c8d750d-86e9-409a-a620-285defc099c4",
   "metadata": {},
   "outputs": [],
   "source": [
    "coords_dict = eval(args['coords_dict'])"
   ]
  },
  {
   "cell_type": "code",
   "execution_count": 5,
   "id": "c4dea1ed-9ee3-4119-b03b-bb226c52339c",
   "metadata": {},
   "outputs": [],
   "source": [
    "# Loading tree sequence and list with populations\n",
    "recap_mut_path = f\"{out_path}{args['rand_id']}/{args['rand_id']}_rep{args['rep']}.union.recap.mut.trees\"\n",
    "pops_path = f\"{out_path}{args['rand_id']}/{args['rand_id']}_rep{args['rep']}.pops\"\n",
    "assert os.path.exists(recap_mut_path) and os.path.exists(pops_path), f\"Trees file or .pops file does not exist for {args['rand_id']}_{args['rep']}\"\n",
    "recap_tsu = pyslim.load(recap_mut_path)\n",
    "with open(pops_path, \"r\") as f:\n",
    "    pops = eval(f.readline())\n",
    "\n",
    "rng = np.random.default_rng(args['seed'])"
   ]
  },
  {
   "cell_type": "code",
   "execution_count": 6,
   "id": "e5487dff-c0ad-4667-a51f-c250d0d58f3c",
   "metadata": {},
   "outputs": [],
   "source": [
    "rng = np.random.default_rng(args['seed'])\n",
    "# getting contemporary samples\n",
    "# note the time of \"contemporary\" samples varies bc of differences in generation times\n",
    "# TODO: sample individuals not nodes\n",
    "pop_samples = [recap_tsu.samples(population_id=i+1) for i in range(len(pops))]\n",
    "contemp_time = [np.min(recap_tsu.tables.nodes.time[samples]) for samples in pop_samples]\n",
    "contemp_samples = [rng.choice(pop_samples[pid][recap_tsu.tables.nodes.time[pop_samples[pid]] == contemp_time[pid]], args[\"sample_size\"], replace=False) for pid in range(len(pop_samples))]"
   ]
  },
  {
   "cell_type": "code",
   "execution_count": 17,
   "id": "e0193939-c3ff-4ae1-a7b1-9ac697047a3b",
   "metadata": {},
   "outputs": [],
   "source": [
    "sample_sets = [[0, 1, 2], [3, 4, 5], [6, 7, 8]]\n",
    "n = np.array([len(s) for s in sample_sets], dtype='float')\n",
    "num_pops = len(sample_sets)\n",
    "\n",
    "twoway = [[x,y] for x in range(num_pops) for y in range(num_pops) if x>=y]\n",
    "fourway = np.array([(twoway[xx] + twoway[yy]) for xx in range(len(twoway)) for yy in range(len(twoway)) if xx>=yy], dtype='int')\n",
    "\n",
    "i, j, k, l = [fourway[:,x] for x in range(4)]\n"
   ]
  },
  {
   "cell_type": "code",
   "execution_count": 28,
   "id": "a9452cfb-3f30-4baa-92e7-feb6ff6847cd",
   "metadata": {},
   "outputs": [
    {
     "data": {
      "text/plain": [
       "21"
      ]
     },
     "execution_count": 28,
     "metadata": {},
     "output_type": "execute_result"
    }
   ],
   "source": [
    "fourway.shape[0]"
   ]
  },
  {
   "cell_type": "code",
   "execution_count": 22,
   "id": "36fc6c9f-fa44-46af-9e24-0b273f611a80",
   "metadata": {},
   "outputs": [],
   "source": [
    "def f(x):\n",
    "    numer = x[i] * (n[j] - x[j]) * x[k] * (n[k] - x[k])\n",
    "    denom = n[i] * (n[j] - (i == j)) * n[k] * (n[l] - (k == l))\n",
    "    return numer / denom"
   ]
  },
  {
   "cell_type": "code",
   "execution_count": 23,
   "id": "3a35cf3a-28c9-4503-a578-cc71197cbdb1",
   "metadata": {},
   "outputs": [
    {
     "data": {
      "text/plain": [
       "array([0.00046763, 0.00031513, 0.0002252 , 0.00024142, 0.00033789,\n",
       "       0.00050683, 0.00031902, 0.0001718 , 0.00025771, 0.00022189,\n",
       "       0.00024064, 0.00022478, 0.00033717, 0.00022124, 0.00022124,\n",
       "       0.00023503, 0.0001625 , 0.00024374, 0.00033202, 0.00033202,\n",
       "       0.00049803])"
      ]
     },
     "execution_count": 23,
     "metadata": {},
     "output_type": "execute_result"
    }
   ],
   "source": [
    "recap_tsu.sample_count_stat(sample_sets=sample_sets, f=f, output_dim=fourway.shape[0])"
   ]
  },
  {
   "cell_type": "code",
   "execution_count": null,
   "id": "37a5eee4-2389-4d18-b5b0-8718c4da6f4f",
   "metadata": {},
   "outputs": [],
   "source": [
    "import collections\n"
   ]
  },
  {
   "cell_type": "code",
   "execution_count": null,
   "id": "0dc4a3cc-d22f-4e30-9517-329eb69455af",
   "metadata": {},
   "outputs": [],
   "source": [
    "rank_counts = collections.Counter(t.rank() for t in tssimp.trees())"
   ]
  },
  {
   "cell_type": "code",
   "execution_count": null,
   "id": "662fd716-9c7c-4a64-8c66-c50d45c437ee",
   "metadata": {},
   "outputs": [],
   "source": [
    "most_common = rank_counts.most_common(100)"
   ]
  },
  {
   "cell_type": "code",
   "execution_count": null,
   "id": "b6c7aca5-7e50-4d3d-b4ed-034c84284170",
   "metadata": {},
   "outputs": [],
   "source": [
    "most_common[0][0]"
   ]
  },
  {
   "cell_type": "code",
   "execution_count": null,
   "id": "7b9bf542-c568-44df-adfd-3b242706190a",
   "metadata": {},
   "outputs": [],
   "source": [
    "trees = [tskit.Tree.unrank(tssimp.num_samples, mc[0]) for mc in most_common]"
   ]
  },
  {
   "cell_type": "code",
   "execution_count": null,
   "id": "ca3eb8d9-3799-4fba-aab1-4f6ab3ddab93",
   "metadata": {},
   "outputs": [],
   "source": [
    "tssimp.num_trees"
   ]
  },
  {
   "cell_type": "code",
   "execution_count": null,
   "id": "dacbfb5c-8292-4eae-9b91-2ec56a12fe4e",
   "metadata": {},
   "outputs": [],
   "source": [
    "from IPython.display import SVG, display, HTML\n",
    "for i in range(10):\n",
    "    print(most_common[i])\n",
    "    display(SVG(trees[i].draw_svg(node_labels = node_labels)))"
   ]
  },
  {
   "cell_type": "code",
   "execution_count": null,
   "id": "d4aa0661-c90e-4e2b-8354-50400b79a0c2",
   "metadata": {},
   "outputs": [],
   "source": [
    "multi_tree_str = \"\""
   ]
  },
  {
   "cell_type": "code",
   "execution_count": null,
   "id": "45f241f6-4e4b-4874-9b55-49123e87f0ba",
   "metadata": {},
   "outputs": [],
   "source": [
    "for tree in trees:\n",
    "    multi_tree_str += tree.as_newick(include_branch_lengths=False, node_labels = node_labels)\n",
    "    multi_tree_str += \"\\n\""
   ]
  },
  {
   "cell_type": "code",
   "execution_count": null,
   "id": "56ebb1c1-bd1d-4aef-9a87-1218700cb3f5",
   "metadata": {},
   "outputs": [],
   "source": [
    "multi_tree_str"
   ]
  },
  {
   "cell_type": "code",
   "execution_count": null,
   "id": "6728e158-d92d-430c-b92f-5f8b534f03f3",
   "metadata": {},
   "outputs": [],
   "source": [
    "import toytree"
   ]
  },
  {
   "cell_type": "code",
   "execution_count": null,
   "id": "ac44c2fc-b475-44aa-8a92-c98efb7c972b",
   "metadata": {},
   "outputs": [],
   "source": [
    "mtre0 = toytree.mtree(multi_tree_str)"
   ]
  },
  {
   "cell_type": "code",
   "execution_count": null,
   "id": "7fd3d7a9-b42c-4f9a-bd20-bec17f84f694",
   "metadata": {},
   "outputs": [],
   "source": [
    "canvas, axes, mark = mtre0.draw_cloud_tree(\n",
    "    edge_style={\n",
    "        \"stroke-opacity\": 0.1,\n",
    "        \"stroke-width\": 1,\n",
    "    },\n",
    ");"
   ]
  },
  {
   "cell_type": "code",
   "execution_count": null,
   "id": "b983859e-7326-4b44-b966-905feadd2624",
   "metadata": {},
   "outputs": [],
   "source": [
    "# pull out the trees and get a densiplot"
   ]
  },
  {
   "cell_type": "code",
   "execution_count": null,
   "id": "9a33b544-fd47-46f0-bd77-a6db8e745a39",
   "metadata": {},
   "outputs": [],
   "source": [
    "# plot the residuals of those correlations against branch lengths/N or sth? that would help us there."
   ]
  }
 ],
 "metadata": {
  "kernelspec": {
   "display_name": "apes",
   "language": "python",
   "name": "apes"
  },
  "language_info": {
   "codemirror_mode": {
    "name": "ipython",
    "version": 3
   },
   "file_extension": ".py",
   "mimetype": "text/x-python",
   "name": "python",
   "nbconvert_exporter": "python",
   "pygments_lexer": "ipython3",
   "version": "3.7.9"
  }
 },
 "nbformat": 4,
 "nbformat_minor": 5
}
