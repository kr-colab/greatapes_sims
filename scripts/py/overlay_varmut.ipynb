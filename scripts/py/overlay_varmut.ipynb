{
 "cells": [
  {
   "cell_type": "code",
   "execution_count": 1,
   "metadata": {},
   "outputs": [],
   "source": [
    "import tskit\n",
    "import msprime\n",
    "import numpy as np\n",
    "import argparse\n",
    "import pandas as pd\n",
    "from helper_functions import *"
   ]
  },
  {
   "cell_type": "code",
   "execution_count": 2,
   "metadata": {},
   "outputs": [],
   "source": [
    "def remove_msp_mutations(ts):\n",
    "    ts = pyslim.update(ts)\n",
    "    tables = ts.dump_tables()\n",
    "    tables.mutations.clear()\n",
    "    max_id = -1\n",
    "    for mut in ts.mutations():\n",
    "        for d in mut.derived_state.split(\",\"):\n",
    "            max_id = max(max_id, int(d))\n",
    "        if mut.metadata['mutation_list'][-1][\"mutation_type\"] <= 2:\n",
    "            assert mut.metadata['mutation_list'][-1][\"selection_coeff\"] != 0\n",
    "            tables.mutations.append(mut)\n",
    "        else:\n",
    "            assert mut.metadata['mutation_list'][-1][\"selection_coeff\"] == 0\n",
    "    tables.compute_mutation_parents()\n",
    "    tables.compute_mutation_times()\n",
    "    tables.sort()\n",
    "    new_ts = tables.tree_sequence()\n",
    "    assert ts.num_mutations-new_ts.num_mutations, \"No mutations were removed!\"\n",
    "    print(f\"# of mutations before: {ts.num_mutations}, # of muts after: {new_ts.num_mutations}, # of removed: {ts.num_mutations-new_ts.num_mutations}\", flush=True)\n",
    "    return new_ts, max_id"
   ]
  },
  {
   "cell_type": "code",
   "execution_count": 3,
   "metadata": {},
   "outputs": [
    {
     "data": {
      "text/plain": [
       "{'infilepath': '../../output/T7X58A009J7ZPPZ/T7X58A009J7ZPPZ_rep0.union.recap.mut.trees',\n",
       " 'outfilepath': '../../output/varmut/T7X58A009J7ZPPZ/rand-id_T7X58A009J7ZPPZ_rep_0_mut-win-size_1000000_sigma_0.016_total-mut-rate_2e-08.union.recap.mut.trees',\n",
       " 'rand_id': '4JU4ZW0RTTFYVAS',\n",
       " 'win_size': 1000000,\n",
       " 'total_mut_rate': 2e-08,\n",
       " 'region_rate': 1.2001e-08,\n",
       " 'sigma': 0.016,\n",
       " 'coords_dict': \"{'chr': 'chr12', 'start': 0, 'end': 132000000, 'padded_start': 0.0, 'padded_end': 132000000}\",\n",
       " 'seed': 2735,\n",
       " 'test_t': True}"
      ]
     },
     "execution_count": 3,
     "metadata": {},
     "output_type": "execute_result"
    }
   ],
   "source": [
    "## stat win size must agree with mut win size\n",
    "\n",
    "parser = argparse.ArgumentParser(description='Gets stats from unioned tree sequence. Assumes ')\n",
    "parser.add_argument('infilepath', type=str)\n",
    "parser.add_argument('outfilepath', type=str)\n",
    "parser.add_argument('rand_id', type=str)\n",
    "parser.add_argument('win_size', type=lambda x: int(float(x)))\n",
    "parser.add_argument('total_mut_rate', type=float)\n",
    "parser.add_argument('region_rate', type=float)\n",
    "parser.add_argument('sigma', type=float, help=\"rates are sampled from (1+N(0,sigma))*total_mut_rate\")\n",
    "parser.add_argument('coords_dict', type=str, help=\"String of a dictionary with padded and non-padded start and ends of the chromosomic region. Assumes one chromosome only!\")\n",
    "parser.add_argument('--seed', type=int, default=2735, required=False)\n",
    "parser.add_argument('--test-t', action=\"store_true\")\n",
    "\n",
    "args = vars(parser.parse_args([\"../../output/T7X58A009J7ZPPZ/T7X58A009J7ZPPZ_rep0.union.recap.mut.trees\", \n",
    "                               \"../../output/varmut/T7X58A009J7ZPPZ/rand-id_T7X58A009J7ZPPZ_rep_0_mut-win-size_1000000_sigma_0.016_total-mut-rate_2e-08.union.recap.mut.trees\", \n",
    "                               \"4JU4ZW0RTTFYVAS\",\n",
    "                               \"1000000\",\n",
    "                               \"2e-08\",\n",
    "                               \"1.2001e-08\",\n",
    "                               \"0.016\",\n",
    "                               \"{'chr': 'chr12', 'start': 0, 'end': 132000000, 'padded_start': 0.0, 'padded_end': 132000000}\",\n",
    "                               \"--test-t\"]))\n",
    "\n",
    "\n",
    "args\n",
    "\n",
    "#args = vars(parser.parse_args())"
   ]
  },
  {
   "cell_type": "code",
   "execution_count": null,
   "metadata": {},
   "outputs": [],
   "source": [
    "args['test_t']"
   ]
  },
  {
   "cell_type": "code",
   "execution_count": null,
   "metadata": {},
   "outputs": [],
   "source": [
    "if 20:\n",
    "    print(\"yay\")"
   ]
  },
  {
   "cell_type": "code",
   "execution_count": null,
   "metadata": {},
   "outputs": [],
   "source": [
    "coords= eval(args['coords_dict'])\n",
    "region_rate=float(args[\"region_rate\"])"
   ]
  },
  {
   "cell_type": "code",
   "execution_count": null,
   "metadata": {},
   "outputs": [],
   "source": [
    "start = int(coords[\"start\"] - coords[\"padded_start\"])\n",
    "end = int(coords[\"end\"]-coords[\"start\"] + start)\n",
    "clen = int(coords[\"padded_end\"]-coords[\"padded_start\"])\n",
    "print(end, start, flush=True)\n",
    "\n",
    "ex_path = f\"../../output/maps/{args['rand_id']}_exons.tsv\"\n",
    "# exons file\n",
    "exons = pd.read_csv(ex_path,sep=\"\\t\",header=None)\n",
    "# removing extraneous columns?\n",
    "exons = exons.iloc[:,:3]\n",
    "breaks = exons.iloc[:,1:].to_numpy()\n",
    "\n",
    "#getting win breaks\n",
    "breakpoints = []\n",
    "if start > 0:\n",
    "    breakpoints.append(0)\n",
    "breakpoints += list(range(start,clen+1, args[\"win_size\"]))\n",
    "assert breakpoints[-1] <= clen\n",
    "if breakpoints[-1] < clen:\n",
    "    breakpoints.append(clen)\n",
    "win_breaks = np.array(breakpoints)"
   ]
  },
  {
   "cell_type": "code",
   "execution_count": null,
   "metadata": {},
   "outputs": [],
   "source": [
    "#region_rate = 1.2e-8"
   ]
  },
  {
   "cell_type": "code",
   "execution_count": null,
   "metadata": {},
   "outputs": [],
   "source": [
    "# drawing mutation rates\n",
    "rng = np.random.default_rng(args[\"seed\"])\n",
    "coefs = rng.normal(0,args[\"sigma\"], len(win_breaks)-1)\n",
    "rates = (1+coefs)*args[\"total_mut_rate\"]"
   ]
  },
  {
   "cell_type": "code",
   "execution_count": null,
   "metadata": {},
   "outputs": [],
   "source": [
    "all_breaks = np.unique(np.sort(np.concatenate([win_breaks, breaks.flatten()])))\n",
    "all_rates = np.full(all_breaks.shape[0]-1, 0, dtype=np.float32)\n",
    "# filling out all_rates with the rate from the corresponding window\n",
    "all_rates = rates[np.searchsorted(win_breaks, all_breaks)[1:]-1]\n",
    "# subtracting the non-neutral rate from the exons\n",
    "for i,j in np.searchsorted(all_breaks, breaks):\n",
    "    all_rates[i:j] -= region_rate\n",
    "#np.savez(\"test_rates.npz\", win_breaks, breaks, all_breaks, rates, all_rates, region_rate)"
   ]
  },
  {
   "cell_type": "code",
   "execution_count": null,
   "metadata": {},
   "outputs": [],
   "source": [
    "assert len(all_rates) == len(all_breaks)-1\n",
    "# just making sure they all got filled\n",
    "assert np.all(all_rates>-0.1)\n",
    "# making sure that we don't get a lot of rates zeroe'd out because this would interfere with the variance in neut mut rate\n",
    "assert np.sum(rates-region_rate<0) < 0.05*len(rates)\n",
    "all_rates[all_rates<0] = 0.0\n",
    "print(all_rates, all_breaks, flush=True)\n",
    "rmap = msprime.RateMap(position=all_breaks, rate=all_rates)"
   ]
  },
  {
   "cell_type": "code",
   "execution_count": null,
   "metadata": {},
   "outputs": [],
   "source": [
    "all_rates"
   ]
  },
  {
   "cell_type": "code",
   "execution_count": null,
   "metadata": {},
   "outputs": [],
   "source": [
    "all_rates.shape"
   ]
  },
  {
   "cell_type": "code",
   "execution_count": 4,
   "metadata": {},
   "outputs": [],
   "source": [
    "#loading ts and remutating it\n",
    "ts = tskit.load(args[\"infilepath\"])"
   ]
  },
  {
   "cell_type": "code",
   "execution_count": 5,
   "metadata": {},
   "outputs": [
    {
     "name": "stderr",
     "output_type": "stream",
     "text": [
      "/home/murillor/projects/anaconda3/envs/apes/lib/python3.7/site-packages/pyslim/slim_metadata.py:938: UserWarning: This is a version 0.4 SLiM tree sequence. When you write this out, it will be converted to version 0.8.\n",
      "  \"it will be converted to version {}.\".format(slim_file_version))\n"
     ]
    }
   ],
   "source": [
    "ts = pyslim.update(ts)"
   ]
  },
  {
   "cell_type": "code",
   "execution_count": null,
   "metadata": {},
   "outputs": [],
   "source": [
    "def remove_msp_mutations(ts):\n",
    "    ts = pyslim.update(ts)\n",
    "    tables = ts.dump_tables()\n",
    "    tables.mutations.clear()\n",
    "    max_id = -1\n",
    "    for mut in ts.mutations():\n",
    "        for d in mut.derived_state.split(\",\"):\n",
    "            max_id = max(max_id, int(d))\n",
    "        if mut.metadata['mutation_list'][-1][\"mutation_type\"] <= 2:\n",
    "            assert mut.metadata['mutation_list'][-1][\"selection_coeff\"] != 0\n",
    "            tables.mutations.append(mut)\n",
    "        else:\n",
    "            assert mut.metadata['mutation_list'][-1][\"selection_coeff\"] == 0\n",
    "    tables.compute_mutation_parents()\n",
    "    tables.compute_mutation_times()\n",
    "    tables.sort()\n",
    "    new_ts = tables.tree_sequence()\n",
    "    assert ts.num_mutations-new_ts.num_mutations, \"No mutations were removed!\"\n",
    "    print(f\"# of mutations before: {ts.num_mutations}, # of muts after: {new_ts.num_mutations}, # of removed: {ts.num_mutations-new_ts.num_mutations}\", flush=True)\n",
    "    return new_ts, max_id"
   ]
  },
  {
   "cell_type": "code",
   "execution_count": 21,
   "metadata": {},
   "outputs": [],
   "source": [
    "breaks = np.array([[10,50],[60,70]])"
   ]
  },
  {
   "cell_type": "code",
   "execution_count": 34,
   "metadata": {},
   "outputs": [],
   "source": [
    "pos = np.array([0,10,50,60,65,70,100])"
   ]
  },
  {
   "cell_type": "code",
   "execution_count": 36,
   "metadata": {},
   "outputs": [
    {
     "data": {
      "text/plain": [
       "array([ True, False,  True, False, False,  True,  True])"
      ]
     },
     "execution_count": 36,
     "metadata": {},
     "output_type": "execute_result"
    }
   ],
   "source": [
    "np.searchsorted(breaks.flatten(),pos, side=\"right\") % 2 == 0"
   ]
  },
  {
   "cell_type": "code",
   "execution_count": 38,
   "metadata": {},
   "outputs": [
    {
     "data": {
      "text/plain": [
       "dtype('float64')"
      ]
     },
     "execution_count": 38,
     "metadata": {},
     "output_type": "execute_result"
    }
   ],
   "source": [
    "ts.tables.sites.position.dtype"
   ]
  },
  {
   "cell_type": "code",
   "execution_count": null,
   "metadata": {},
   "outputs": [],
   "source": [
    "slim_gen = int(float(ts.provenance(ts.num_provenances-2).record.split(\"start_time\")[-1].split(\" \")[1][:-1]))\n",
    "ts, _ = remove_msp_mutations(ts)\n",
    "\n",
    "print(\"Mutating!\", flush=True)\n",
    "model = msprime.SLiMMutationModel(type=3, next_id=1)\n",
    "ts = msprime.sim_mutations(ts, start_time=slim_gen, model=model, rate=args[\"total_mut_rate\"], keep=True)\n",
    "print(f\"# of muts after first remutating: {ts.num_mutations}\", flush=True)\n",
    "ts = msprime.sim_mutations(ts, end_time=slim_gen, model=model, rate=rmap, keep=True)\n",
    "print(f\"# of muts after secondremutating: {ts.num_mutations}\", flush=True)\n",
    "\n",
    "\n",
    "ts.dump(args[\"outfilepath\"])"
   ]
  },
  {
   "cell_type": "code",
   "execution_count": null,
   "metadata": {},
   "outputs": [],
   "source": []
  }
 ],
 "metadata": {
  "kernelspec": {
   "display_name": "apes",
   "language": "python",
   "name": "apes"
  },
  "language_info": {
   "codemirror_mode": {
    "name": "ipython",
    "version": 3
   },
   "file_extension": ".py",
   "mimetype": "text/x-python",
   "name": "python",
   "nbconvert_exporter": "python",
   "pygments_lexer": "ipython3",
   "version": "3.7.9"
  }
 },
 "nbformat": 4,
 "nbformat_minor": 5
}
