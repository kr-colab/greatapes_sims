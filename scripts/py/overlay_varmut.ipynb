{
 "cells": [
  {
   "cell_type": "code",
   "execution_count": null,
   "id": "8e18b515-17d4-439e-b3be-0dc68c7de2a0",
   "metadata": {},
   "outputs": [],
   "source": [
    "import tskit\n",
    "import msprime\n",
    "import numpy as np\n",
    "import argparse"
   ]
  },
  {
   "cell_type": "code",
   "execution_count": null,
   "id": "f17a6974-15ee-41e3-a5b9-fe3a5dcccd8d",
   "metadata": {},
   "outputs": [],
   "source": [
    "parser = argparse.ArgumentParser(description='Gets stats from unioned tree sequence')\n",
    "parser.add_argument('infilepath', type=str)\n",
    "parser.add_argument('outfilepath', type=str)\n",
    "parser.add_argument('win_size', type=lambda x: int(float(x)))\n",
    "parser.add_argument('total_mut_rate', type=float)\n",
    "parser.add_argument('sigma', type=float, help=\"rates are sampled from (1+N(0,sigma))*total_mut_rate\")\n",
    "parser.add_argument('coords_dict', type=str, help=\"String of a dictionary with padded and non-padded start and ends of the chromosomic region. Assumes one chromosome only!\")\n",
    "parser.add_argument('--seed', type=int, default=2735, required=False)"
   ]
  },
  {
   "cell_type": "code",
   "execution_count": null,
   "id": "03b385c0-d9db-440c-bb2f-f8a9947d14a0",
   "metadata": {},
   "outputs": [],
   "source": [
    "\"\"\"\n",
    "args = vars(parser.parse_args([\"/home/murillor/projects/greatapes_sims/output/4QN9GACHUG2OXET/4QN9GACHUG2OXET_rep0.union.recap.mut.trees\",\n",
    "                               \"/home/murillor/projects/greatapes_sims/output/4QN9GACHUG2OXET/4QN9GACHUG2OXET_rep0.union.recap.mut.trees2\",\n",
    "                               \"1000000\",\n",
    "                               \"2e-8\",\n",
    "                               \"0.05\",\n",
    "                               \"{'chr':'chr12', 'start':40000000, 'end':50000000, 'padded_start':40000000, 'padded_end': 50000000}\"]))\n",
    "\"\"\""
   ]
  },
  {
   "cell_type": "code",
   "execution_count": null,
   "id": "73283e67-db74-4841-a522-e6ec4fc0d4f3",
   "metadata": {},
   "outputs": [],
   "source": [
    "args = vars(parser.parse_args())"
   ]
  },
  {
   "cell_type": "code",
   "execution_count": null,
   "id": "c5da5cb2-d01d-495a-8f19-beffeefbc08f",
   "metadata": {},
   "outputs": [],
   "source": [
    "coords= eval(args['coords_dict'])"
   ]
  },
  {
   "cell_type": "code",
   "execution_count": null,
   "id": "dc775a7f-0058-4e28-94d4-778ef96a48aa",
   "metadata": {},
   "outputs": [],
   "source": [
    "start = coords[\"start\"] - coords[\"padded_start\"]\n",
    "end = coords[\"end\"]-coords[\"start\"] + start\n",
    "clen = coords[\"padded_end\"]-coords[\"padded_start\"]\n",
    "print(end, start)"
   ]
  },
  {
   "cell_type": "code",
   "execution_count": null,
   "id": "ed1d9604-074d-499a-89eb-2c778421e4e1",
   "metadata": {},
   "outputs": [],
   "source": [
    "# making sure we can fit the windows into the chunk\n",
    "# this would fail if the simulated chunk (excluding padding) is not a multiple of the win_size\n"
   ]
  },
  {
   "cell_type": "code",
   "execution_count": null,
   "id": "c0a688e6-b888-46a2-b175-4264b6161c1a",
   "metadata": {},
   "outputs": [],
   "source": [
    "breakpoints = []\n",
    "if start > 0:\n",
    "    breakpoints.append(0)\n",
    "breakpoints += list(range(start,clen+1, args[\"win_size\"]))\n",
    "assert breakpoints[-1] <= clen\n",
    "if breakpoints[-1] < clen:\n",
    "    breakpoints.append(clen)\n",
    "print(breakpoints)"
   ]
  },
  {
   "cell_type": "code",
   "execution_count": null,
   "id": "d155dc86-444f-4343-8a32-feb90107c343",
   "metadata": {},
   "outputs": [],
   "source": [
    "rng = np.random.default_rng(args[\"seed\"])"
   ]
  },
  {
   "cell_type": "code",
   "execution_count": null,
   "id": "edd6216c-b4b1-4f5b-ab1e-4e23a0248d6a",
   "metadata": {},
   "outputs": [],
   "source": [
    "coefs = rng.normal(0,args[\"sigma\"], len(breakpoints)-1)\n",
    "rates = (1+coefs)*args[\"total_mut_rate\"]"
   ]
  },
  {
   "cell_type": "code",
   "execution_count": null,
   "id": "03673c20-8ec9-472f-b541-d32c5c761c9f",
   "metadata": {},
   "outputs": [],
   "source": [
    "rmap = msprime.RateMap(position=breakpoints, rate=rates)"
   ]
  },
  {
   "cell_type": "code",
   "execution_count": null,
   "id": "1e4fa9fd-c526-48b4-be98-fb5c6dc1dfd1",
   "metadata": {},
   "outputs": [],
   "source": [
    "ts = tskit.load(args[\"infilepath\"])"
   ]
  },
  {
   "cell_type": "code",
   "execution_count": null,
   "id": "b7e7ffef-c232-48d4-8aa9-501e9d674cc8",
   "metadata": {},
   "outputs": [],
   "source": [
    "model = msprime.SLiMMutationModel(type=1, next_id=1)"
   ]
  },
  {
   "cell_type": "code",
   "execution_count": null,
   "id": "f2943d39-9838-43e3-9e9f-298c8749945f",
   "metadata": {},
   "outputs": [],
   "source": [
    "# setting keep=False will erase any existing mutation from the tree sequence.\n",
    "tsmut = msprime.sim_mutations(ts, model=model, rate=rmap, keep=False)"
   ]
  },
  {
   "cell_type": "code",
   "execution_count": null,
   "id": "aab3043f-872b-4e1f-8e2a-d7a55d60deeb",
   "metadata": {},
   "outputs": [],
   "source": [
    "tsmut.dump(args[\"outfilepath\"])"
   ]
  }
 ],
 "metadata": {
  "kernelspec": {
   "display_name": "apes",
   "language": "python",
   "name": "apes"
  },
  "language_info": {
   "codemirror_mode": {
    "name": "ipython",
    "version": 3
   },
   "file_extension": ".py",
   "mimetype": "text/x-python",
   "name": "python",
   "nbconvert_exporter": "python",
   "pygments_lexer": "ipython3",
   "version": "3.7.9"
  }
 },
 "nbformat": 4,
 "nbformat_minor": 5
}
