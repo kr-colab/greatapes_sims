{
 "cells": [
  {
   "cell_type": "code",
   "execution_count": 50,
   "metadata": {
    "slideshow": {
     "slide_type": "-"
    }
   },
   "outputs": [],
   "source": [
    "import pandas as pd\n",
    "import numpy as np\n",
    "pd.options.display.max_rows = 999"
   ]
  },
  {
   "cell_type": "code",
   "execution_count": 22,
   "metadata": {},
   "outputs": [],
   "source": [
    "sh = pd.read_csv(\"../../output/header_sims_info.tsv\", sep=\"\\t\")\n",
    "sinfo = pd.read_csv(\"../../output/sims_info.tsv\", sep=\"\\t\", header=None, names=sh.columns)\n",
    "sinfo['date'] = sinfo['date'].str.split('_', expand=True).iloc[:,[1,0]].agg('_'.join, axis=1)\n",
    "sinfo = sinfo.round(15)\n",
    "sinfo.rescf = sinfo.rescf.astype(str)\n",
    "sinfo.sort_values(by=[\"date\"], inplace=True)"
   ]
  },
  {
   "cell_type": "code",
   "execution_count": 23,
   "metadata": {},
   "outputs": [],
   "source": [
    "n_trees = sinfo.edge.unique().size"
   ]
  },
  {
   "cell_type": "code",
   "execution_count": 24,
   "metadata": {},
   "outputs": [
    {
     "data": {
      "text/plain": [
       "Index(['edge', 'parent', 'N', 'gens', 'rescf', 'padding', 'delrate', 'delcoef',\n",
       "       'posrate', 'poscoef', 'chr', 'start', 'end', 'win_id', 'win_len',\n",
       "       'clen', 'padded_start', 'padded_end', 'L', 'mu', 'delprop', 'posprop',\n",
       "       'siminterval', 'numid', 'rand_id', 'supnumid', 'sup_rand_id',\n",
       "       'outfile_pre', 'exonfile', 'recfile', 'recfilehap', 'par_string',\n",
       "       'date', 'log', 'poscoefdecayeps'],\n",
       "      dtype='object')"
      ]
     },
     "execution_count": 24,
     "metadata": {},
     "output_type": "execute_result"
    }
   ],
   "source": [
    "sh.columns"
   ]
  },
  {
   "cell_type": "code",
   "execution_count": 28,
   "metadata": {},
   "outputs": [
    {
     "data": {
      "text/plain": [
       "(114,)"
      ]
     },
     "execution_count": 28,
     "metadata": {},
     "output_type": "execute_result"
    }
   ],
   "source": [
    "np.unique(sinfo.sup_rand_id).shape"
   ]
  },
  {
   "cell_type": "code",
   "execution_count": 56,
   "metadata": {},
   "outputs": [],
   "source": [
    "diff_cols = [\"delrate\",\"delcoef\",\"posrate\",\"poscoef\",\"mu\", \"poscoefdecayeps\", \"rescf\", \"win_len\", \"padding\"]\n",
    "# add poscoefdecayeps"
   ]
  },
  {
   "cell_type": "code",
   "execution_count": 57,
   "metadata": {},
   "outputs": [],
   "source": [
    "ddf = sinfo[diff_cols+[\"sup_rand_id\"]].copy()\n",
    "ddf.drop_duplicates(subset=diff_cols, keep=\"last\", inplace=True)"
   ]
  },
  {
   "cell_type": "code",
   "execution_count": 60,
   "metadata": {},
   "outputs": [
    {
     "data": {
      "text/plain": [
       "0"
      ]
     },
     "execution_count": 60,
     "metadata": {},
     "output_type": "execute_result"
    }
   ],
   "source": [
    "# asserting no parameter combo was duplicated\n",
    "assert np.sum(ddf.duplicated(subset=diff_cols)) == 0"
   ]
  },
  {
   "cell_type": "code",
   "execution_count": 61,
   "metadata": {},
   "outputs": [],
   "source": [
    "sup_has_all_branches = (ddf.groupby(by=['sup_rand_id']).size()<14)"
   ]
  },
  {
   "cell_type": "code",
   "execution_count": 62,
   "metadata": {},
   "outputs": [],
   "source": [
    "g = sinfo.groupby([\"rand_id\"])\n",
    "s = g.size()\n",
    "not_all_edges = s[s<sinfo.edge.unique().size]"
   ]
  },
  {
   "cell_type": "code",
   "execution_count": 64,
   "metadata": {},
   "outputs": [],
   "source": [
    "import os\n",
    "root_dir = \"../../output/\"\n",
    "not_all_tss = []\n",
    "not_in_sinfo = []\n",
    "for file in os.listdir(root_dir):\n",
    "    fpath = root_dir+file\n",
    "    if os.path.isdir(fpath):\n",
    "        is_ts = [f.endswith(\"trees\") for f in os.listdir(fpath)]\n",
    "        if sum(is_ts) < n_trees:\n",
    "            not_all_tss.append(file)\n",
    "        if (sinfo.rand_id == file).sum() == 0:\n",
    "            not_in_sinfo.append(file)"
   ]
  },
  {
   "cell_type": "code",
   "execution_count": 65,
   "metadata": {},
   "outputs": [
    {
     "data": {
      "text/plain": [
       "['figs', 'backup', 'tmp', 'joined_stats']"
      ]
     },
     "execution_count": 65,
     "metadata": {},
     "output_type": "execute_result"
    }
   ],
   "source": [
    "not_in_sinfo"
   ]
  },
  {
   "cell_type": "code",
   "execution_count": null,
   "metadata": {},
   "outputs": [],
   "source": [
    "import shutil\n",
    "for i in not_all_tss:\n",
    "    if not any(sinfo[sinfo.rand_id == i].date>'30022021_0000') and (len(i) >10):\n",
    "        #print(root_dir+i)\n",
    "        shutil.rmtree(root_dir+i)\n",
    "for i in not_in_sinfo:\n",
    "    if len(i)>10:\n",
    "        shutil.rmtree(root_dir+i)"
   ]
  },
  {
   "cell_type": "code",
   "execution_count": null,
   "metadata": {},
   "outputs": [],
   "source": [
    "(sinfo.rand_id.isin(os.listdir(root_dir))).sum()"
   ]
  },
  {
   "cell_type": "code",
   "execution_count": null,
   "metadata": {},
   "outputs": [],
   "source": [
    "sinfo[sinfo.rescf.astype(int)>1]"
   ]
  },
  {
   "cell_type": "code",
   "execution_count": null,
   "metadata": {},
   "outputs": [],
   "source": []
  }
 ],
 "metadata": {
  "kernelspec": {
   "display_name": "apes",
   "language": "python",
   "name": "apes"
  },
  "language_info": {
   "codemirror_mode": {
    "name": "ipython",
    "version": 3
   },
   "file_extension": ".py",
   "mimetype": "text/x-python",
   "name": "python",
   "nbconvert_exporter": "python",
   "pygments_lexer": "ipython3",
   "version": "3.7.9"
  }
 },
 "nbformat": 4,
 "nbformat_minor": 2
}
