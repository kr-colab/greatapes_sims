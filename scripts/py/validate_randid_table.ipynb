{
 "cells": [
  {
   "cell_type": "code",
   "execution_count": 19,
   "metadata": {},
   "outputs": [],
   "source": [
    "import kastore\n",
    "import pandas as pd\n",
    "import tskit\n",
    "import numpy as np\n",
    "import re\n",
    "from tqdm import tqdm"
   ]
  },
  {
   "cell_type": "code",
   "execution_count": 2,
   "metadata": {},
   "outputs": [],
   "source": [
    "meta_path = \"../../output/sims_info.tsv\"\n",
    "df = pd.read_csv(meta_path, sep=\"\\t\", header=None)\n",
    "sh = pd.read_csv(\"../../output/header_sims_info.tsv\", sep=\"\\t\")\n",
    "cols = sh.columns.to_list()\n",
    "if cols[-1] != \"poscoefdecayeps\":\n",
    "    cols.append(\"poscoefdecayeps\")\n",
    "df.columns = cols"
   ]
  },
  {
   "cell_type": "code",
   "execution_count": 3,
   "metadata": {},
   "outputs": [],
   "source": [
    "df = df.astype({\"L\":int})"
   ]
  },
  {
   "cell_type": "code",
   "execution_count": 4,
   "metadata": {},
   "outputs": [],
   "source": [
    "parcols = [\"delprop\", \"delcoef\", \"posprop\", \"poscoef\", \"L\", \"mu\", \"rescf\", \"N\", \"gens\"]"
   ]
  },
  {
   "cell_type": "code",
   "execution_count": 5,
   "metadata": {},
   "outputs": [],
   "source": [
    "rands = df.rand_id.unique()"
   ]
  },
  {
   "cell_type": "code",
   "execution_count": null,
   "metadata": {},
   "outputs": [
    {
     "name": "stderr",
     "output_type": "stream",
     "text": [
      " 78%|███████▊  | 813/1048 [12:45<04:07,  1.05s/it]"
     ]
    }
   ],
   "source": [
    "for rand in tqdm(rands):\n",
    "    #if rand == \"ZPCJ98FMCC07SSN\":\n",
    "    #    break\n",
    "    #print(rand)\n",
    "    for _, row in df[df.rand_id==rand].iterrows():\n",
    "        #print(row[\"edge\"], rand)\n",
    "        tspath = f'../../output/{rand}/{row[\"edge\"]}_{rand}_rep0.trees'\n",
    "        s = kastore.load(tspath)\n",
    "        prov = tskit.unpack_strings(s.get('provenances/record'), s.get('provenances/record_offset'))\n",
    "        command = np.array(eval(prov[-1])[\"parameters\"][\"command\"])\n",
    "        # only keeping the params\n",
    "        command = command[[\"=\" in e for e in command]]\n",
    "        cmd_dict = {}\n",
    "        for e in command:\n",
    "            match = re.findall(r'^(\\w+)=\\\"(.+)\\\"', e)\n",
    "            assert len(match) <= 1\n",
    "            #print(match)\n",
    "            if len(match) == 1:\n",
    "                cmd_dict[match[0][0]] = match[0][1]\n",
    "        for par in parcols:\n",
    "            assert par in cmd_dict\n",
    "            assert np.isclose(float(cmd_dict[par]), float(row[par]))"
   ]
  }
 ],
 "metadata": {
  "kernelspec": {
   "display_name": "apes",
   "language": "python",
   "name": "apes"
  },
  "language_info": {
   "codemirror_mode": {
    "name": "ipython",
    "version": 3
   },
   "file_extension": ".py",
   "mimetype": "text/x-python",
   "name": "python",
   "nbconvert_exporter": "python",
   "pygments_lexer": "ipython3",
   "version": "3.7.9"
  }
 },
 "nbformat": 4,
 "nbformat_minor": 2
}
