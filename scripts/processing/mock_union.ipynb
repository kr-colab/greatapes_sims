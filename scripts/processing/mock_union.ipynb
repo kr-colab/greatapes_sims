{
 "cells": [
  {
   "cell_type": "code",
   "execution_count": 1,
   "metadata": {},
   "outputs": [],
   "source": [
    "import tskit\n",
    "import pyslim\n",
    "import dendropy\n",
    "import glob\n",
    "import re\n",
    "import numpy as np\n",
    "import pandas as pd\n",
    "import json\n",
    "import warnings\n",
    "import functools\n",
    "warnings.filterwarnings('ignore')"
   ]
  },
  {
   "cell_type": "code",
   "execution_count": 2,
   "metadata": {},
   "outputs": [],
   "source": [
    "# variables\n",
    "# rand_id and rep\n",
    "rand_id = \"V96218R2W5QAOLG\"\n",
    "rep = \"0\"\n",
    "## newick string\n",
    "tree_str = \"((B,(D,E)C)A);\"\n",
    "## metadata paths\n",
    "edges_path = \"../../meta/mock_edges.tsv\"\n",
    "sims_sum_path = \"../../output/rand_id_params.tsv\"\n",
    "sims_full_path = \"../../output/sims_info.tsv\"\n",
    "sims_header_path = \"../../output/header_sims_info.tsv\"\n",
    "trees_path = \"../../output/\""
   ]
  },
  {
   "cell_type": "code",
   "execution_count": 3,
   "metadata": {},
   "outputs": [],
   "source": [
    "def add_time(ts, dt):\n",
    "    '''\n",
    "    This function returns a tskit.TreeSequence in which `dt`\n",
    "    has been added to the times in all nodes.\n",
    "    '''\n",
    "    #TODO: mutation time\n",
    "    tables = ts.tables\n",
    "    nodes_dict = tables.nodes.asdict()\n",
    "    nodes_dict['time'] = nodes_dict['time'] + dt\n",
    "    tables.nodes.set_columns(**nodes_dict)\n",
    "    migrations_dict = tables.migrations.asdict()\n",
    "    migrations_dict['time'] = migrations_dict['time'] + dt\n",
    "    tables.migrations.set_columns(**migrations_dict)\n",
    "    return pyslim.SlimTreeSequence.load_tables(tables)\n",
    "\n",
    "def get_slim_gens(ts):\n",
    "    return np.array([p.slim_generation for p in ts.slim_provenances])\n",
    "\n",
    "def find_split_time(ts1, ts2):\n",
    "    \"\"\"\n",
    "    Given two SLiM tree sequences with shared history, this\n",
    "    function returns the  \n",
    "    times (in time ago) for each tree.\n",
    "    \"\"\"\n",
    "    slim_gens1 = get_slim_gens(ts1)\n",
    "    slim_gens2 = get_slim_gens(ts2)\n",
    "    # counting SLiM prov before chains diff\n",
    "    j = 0\n",
    "    # finding the first diff between provenance chains\n",
    "    for p1, p2 in zip(ts1.provenances(), ts2.provenances()):\n",
    "        if p1 != p2:\n",
    "            break\n",
    "        record = json.loads(p1.record)\n",
    "        if record[\"software\"][\"name\"] == \"SLiM\":\n",
    "            j += 1\n",
    "    if j == 0:\n",
    "        raise ValueError(\"No shared SLiM provenance entries.\")\n",
    "    last_slim_gen = ts1.slim_provenances[j - 1].slim_generation\n",
    "    T1 = abs(last_slim_gen - slim_gens1[-1])\n",
    "    T2 = abs(last_slim_gen - slim_gens2[-1])\n",
    "    return T1, T2\n",
    "\n",
    "\n",
    "def match_nodes(tseqs, split_time):\n",
    "    \"\"\"\n",
    "    Given two SLiM tree sequences, returns a dictionary relating\n",
    "    the id in ts2 (key) to id in ts1 (item) for  node IDs in the\n",
    "    two tree sequences that refer to the same node. If split time\n",
    "    in ts2 (T2) is given, then only nodes before the split are\n",
    "    considered. Note the only check of equivalency is the slim_id\n",
    "    of the nodes.\n",
    "    \"\"\"\n",
    "    node_mapping = np.full(tseqs[1].num_nodes, tskit.NULL)\n",
    "    sids0 = np.array([n.metadata[\"slim_id\"] for n in tseqs[0].nodes()])\n",
    "    sids1 = np.array([n.metadata[\"slim_id\"] for n in tseqs[1].nodes()])\n",
    "    alive_at_split1 = tseqs[1].tables.nodes.time >= split_time\n",
    "    sorted_ids0 = np.argsort(sids0)\n",
    "    matches = np.searchsorted(\n",
    "        sids0,\n",
    "        sids1,\n",
    "        side='left',\n",
    "        sorter=sorted_ids0)\n",
    "    is_1in0 = np.isin(sids1, sids0)\n",
    "    both = np.logical_and(alive_at_split1, is_1in0)\n",
    "    node_mapping[both] = sorted_ids0[matches[both]]\n",
    "    return node_mapping\n",
    "\n",
    "def sub_metadata(tseqs):\n",
    "    \"\"\"\n",
    "    Work around current bug in `tskit.union`: subbing top-level metadata\n",
    "    so they match.\n",
    "    \"\"\"\n",
    "    tables0 = tseqs[0].tables\n",
    "    tables0.metadata = tseqs[1].tables.metadata\n",
    "    tseqs[0] = pyslim.SlimTreeSequence.load_tables(tables0)"
   ]
  },
  {
   "cell_type": "code",
   "execution_count": 4,
   "metadata": {},
   "outputs": [],
   "source": [
    "def subtree(focal, edges, taxon_namespace, nodes = None):\n",
    "    \"\"\"\n",
    "    Returns a dictionary of `dendropy.Node` objects from a `pandas.DataFrame`\n",
    "    with two columns: `edge` and `parent`, which specifies \n",
    "    the edge-parent relationships. Only nodes below focal are returned.\n",
    "    \"\"\"\n",
    "    if nodes == None:\n",
    "        nodes = {}\n",
    "    if not focal in nodes:\n",
    "        nodes[focal] = dendropy.Node(taxon=taxon_namespace.get_taxon(focal))\n",
    "    for i, row in edges.iterrows():\n",
    "        if row.parent == focal:\n",
    "            if not row.edge in nodes:\n",
    "                nodes[row.edge] = dendropy.Node(taxon=taxon_namespace.get_taxon(row.edge))\n",
    "            nodes[focal].add_child(nodes[row.edge])\n",
    "            nodes = subtree(row.edge, edges, taxon_namespace, nodes)\n",
    "    return nodes\n",
    "\n",
    "def build_tree_from_df(edges):\n",
    "    \"\"\"\n",
    "    Returns a `dendropy.Tree` from a `pandas.DataFrame` with edge-parent\n",
    "    relationships.\n",
    "    \"\"\"\n",
    "    root_name = edges.edge[edges.parent==\"\"][0]\n",
    "    taxon_namespace = dendropy.TaxonNamespace(edges.edge.values.tolist())\n",
    "    nodes = subtree(root_name, edges, taxon_namespace)\n",
    "    tree = dendropy.Tree(seed_node = nodes[root_name], taxon_namespace=taxon_namespace)\n",
    "    return(tree)\n",
    "\n",
    "def add_blen_from_meta(tree, meta, rand_id):\n",
    "    \"\"\"\n",
    "    `meta` is a `pandas.DataFrame` with columns `edge`, `rand_id`, `gens` and\n",
    "    `rescf`. This function adds branch lengths to the `dendropy.Tree` object \n",
    "    using the info in the `meta`.\n",
    "    \"\"\"\n",
    "    rep = '0' # all reps should be the have the sam blens anyway!\n",
    "    # traversing through tree -- annotating lengths\n",
    "    for node in tree.postorder_node_iter():\n",
    "        print(node.taxon.label)\n",
    "        subset = meta[(meta.edge==node.taxon.label) & (meta.rand_id == rand_id)]\n",
    "        assert subset.shape[0] == 1\n",
    "        n_gens = np.floor(subset.gens.values[0]/subset.rescf.values[0])\n",
    "        node.edge_length= n_gens\n",
    "        print(node.edge_length)\n",
    "        print(node.distance_from_tip())\n",
    "    tree.calc_node_root_distances(return_leaf_distances_only=False)\n",
    "    tree.calc_node_ages(ultrametricity_precision=False, is_force_max_age=True)\n",
    "    return tree"
   ]
  },
  {
   "cell_type": "code",
   "execution_count": 5,
   "metadata": {},
   "outputs": [],
   "source": [
    "## loading metadata\n",
    "# edges contains all the edges and info about N and number of generations\n",
    "edges = pd.read_csv(edges_path,sep=\"\\t\")\n",
    "edges.parent= edges.parent.fillna(\"\")\n",
    "edges[\"edge\"] = edges[\"edge\"].str.replace('_','-')\n",
    "edges[\"parent\"] = edges[\"parent\"].str.replace('_','-')\n",
    "# sims_sum and sims_full relate rand_ids to simulation parameters\n",
    "sims_sum = pd.read_csv(sims_sum_path,sep=\"\\t\")\n",
    "sims_full= pd.read_csv(sims_full_path,sep=\"\\t\", header=None)\n",
    "header = pd.read_csv(\"../../output/header_sims_info.tsv\",sep=\"\\t\")\n",
    "sims_full.columns = header.columns"
   ]
  },
  {
   "cell_type": "code",
   "execution_count": 6,
   "metadata": {},
   "outputs": [],
   "source": [
    "# getting all output files and grouping by rand_id and rep\n",
    "tree_files = glob.glob(trees_path+\"*.trees\")\n",
    "pattern = f'{rand_id}_rep{rep}'\n",
    "n_matches = sum(1 for file in tree_files if pattern in file)\n",
    "# making sure we got all the files\n",
    "assert n_matches == edges.shape[0]"
   ]
  },
  {
   "cell_type": "code",
   "execution_count": 7,
   "metadata": {},
   "outputs": [
    {
     "name": "stdout",
     "output_type": "stream",
     "text": [
      "B\n",
      "50.0\n",
      "0.0\n",
      "D\n",
      "50.0\n",
      "0.0\n",
      "E\n",
      "20.0\n",
      "0.0\n",
      "C\n",
      "100.0\n",
      "50.0\n",
      "A\n",
      "20.0\n",
      "150.0\n"
     ]
    }
   ],
   "source": [
    "# getting the phylo tree adn annotating with branch lengths,\n",
    "tree = build_tree_from_df(edges)\n",
    "tree = add_blen_from_meta(tree, sims_full, rand_id)"
   ]
  },
  {
   "cell_type": "code",
   "execution_count": 28,
   "metadata": {},
   "outputs": [],
   "source": [
    "def union_tseqs(tree, rand_id, rep):\n",
    "    \"\"\"\n",
    "    Given a `dendropy.tree` object with annotated `edge_lengths`, a `rand_id` \n",
    "    identifier and a replicate number `rep`, this performs the \n",
    "    `tskit.TableCollection.union` of all leaves in the phylogenetic tree.\n",
    "    \"\"\"\n",
    "    tmp_tseqs = {}\n",
    "    pops = []\n",
    "    for node in tree.postorder_node_iter(filter_fn = lambda node: node.is_internal()):\n",
    "        assert len(node.child_nodes()) == 2, \"Polytomies are not supported.\"\n",
    "        tseqs = []\n",
    "        history_len = []\n",
    "        print(node.taxon.label, \"\\t\", node.age, sep=\"\")\n",
    "        for child in node.child_nodes():\n",
    "            print(\"\\t\"+child.taxon.label+\"\\t\"+str(child.root_distance)+\"\\t\"+str(child.age))\n",
    "            history_len.append(child.root_distance+child.age)\n",
    "            if child.is_leaf():\n",
    "                pops.append(child.taxon.label)\n",
    "                tseqs.append(pyslim.load(trees_path+child.taxon.label+\"_\"+rand_id+\"_rep\"+rep+\".trees\"))\n",
    "            else:\n",
    "                tseqs.append(tmp_tseqs.pop(child.taxon.label))\n",
    "        #check if times need be shifted\n",
    "        print(f\"Before shift\\ttime 0: {tseqs[0].max_root_time}\\ttime 1: {tseqs[1].max_root_time}\")\n",
    "        if history_len[1] > history_len[0]:\n",
    "            tseqs[0] = add_time(tseqs[0], history_len[1]-history_len[0])\n",
    "        elif history_len[0] > history_len[1]:\n",
    "            tseqs[1] = add_time(tseqs[1], history_len[0]-history_len[1])\n",
    "        print(f\"After shift\\ttime 0: {tseqs[0].max_root_time}\\ttime 1: {tseqs[1].max_root_time}\")\n",
    "        node_mapping = match_nodes(tseqs, node.age)\n",
    "        sub_metadata(tseqs)\n",
    "        tmp_tseqs[node.taxon.label] = tseqs[0].union(tseqs[1], node_mapping)\n",
    "    assert len(tmp_tseqs) == 1\n",
    "    return tmp_tseqs[list(tmp_tseqs.keys())[0]], pops"
   ]
  },
  {
   "cell_type": "code",
   "execution_count": 29,
   "metadata": {},
   "outputs": [
    {
     "name": "stdout",
     "output_type": "stream",
     "text": [
      "C\t50.0\n",
      "\tD\t150.0\t0.0\n",
      "\tE\t120.0\t0.0\n",
      "Before shift\ttime 0: 170.0\ttime 1: 140.0\n",
      "After shift\ttime 0: 170.0\ttime 1: 170.0\n",
      "A\t150.0\n",
      "\tB\t50.0\t0.0\n",
      "\tC\t100.0\t50.0\n",
      "Before shift\ttime 0: 70.0\ttime 1: 170.0\n",
      "After shift\ttime 0: 170.0\ttime 1: 170.0\n"
     ]
    }
   ],
   "source": [
    "tsu,  pops = union_tseqs(tree,rand_id,rep)"
   ]
  },
  {
   "cell_type": "code",
   "execution_count": 31,
   "metadata": {},
   "outputs": [
    {
     "data": {
      "text/plain": [
       "<tskit.trees.TreeSequence at 0x11a71fd90>"
      ]
     },
     "execution_count": 31,
     "metadata": {},
     "output_type": "execute_result"
    }
   ],
   "source": [
    "tsu"
   ]
  },
  {
   "cell_type": "code",
   "execution_count": 32,
   "metadata": {},
   "outputs": [],
   "source": [
    "import sys"
   ]
  },
  {
   "cell_type": "code",
   "execution_count": 33,
   "metadata": {},
   "outputs": [
    {
     "data": {
      "text/plain": [
       "64"
      ]
     },
     "execution_count": 33,
     "metadata": {},
     "output_type": "execute_result"
    }
   ],
   "source": [
    "sys.getsizeof(tsu)"
   ]
  },
  {
   "cell_type": "code",
   "execution_count": 35,
   "metadata": {},
   "outputs": [
    {
     "data": {
      "text/plain": [
       "64"
      ]
     },
     "execution_count": 35,
     "metadata": {},
     "output_type": "execute_result"
    }
   ],
   "source": [
    "sys.getsizeof(tseqs[1])"
   ]
  },
  {
   "cell_type": "code",
   "execution_count": null,
   "metadata": {},
   "outputs": [],
   "source": []
  }
 ],
 "metadata": {
  "kernelspec": {
   "display_name": "greatapes",
   "language": "python",
   "name": "greatapes"
  },
  "language_info": {
   "codemirror_mode": {
    "name": "ipython",
    "version": 3
   },
   "file_extension": ".py",
   "mimetype": "text/x-python",
   "name": "python",
   "nbconvert_exporter": "python",
   "pygments_lexer": "ipython3",
   "version": "3.7.9"
  }
 },
 "nbformat": 4,
 "nbformat_minor": 4
}
